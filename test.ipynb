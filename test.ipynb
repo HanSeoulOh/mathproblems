{
  "cells": [
    {
      "cell_type": "code",
      "source": [
        "print('Hello World!')"
      ],
      "outputs": [],
      "execution_count": null,
      "metadata": {
        "collapsed": false,
        "outputHidden": false,
        "inputHidden": false
      }
    }
  ],
  "metadata": {},
  "nbformat": 4,
  "nbformat_minor": 0
}