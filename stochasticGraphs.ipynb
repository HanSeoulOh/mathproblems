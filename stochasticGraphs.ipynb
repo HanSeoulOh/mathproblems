{
  "nbformat": 4,
  "nbformat_minor": 0,
  "metadata": {
    "kernelspec": {
      "name": "python3",
      "display_name": "Python 3"
    },
    "colab": {
      "name": "stochasticGraphs.ipynb",
      "provenance": [],
      "include_colab_link": true
    }
  },
  "cells": [
    {
      "cell_type": "markdown",
      "metadata": {
        "id": "view-in-github",
        "colab_type": "text"
      },
      "source": [
        "<a href=\"https://colab.research.google.com/github/HanSeoulOh/mathproblems/blob/master/stochasticGraphs.ipynb\" target=\"_parent\"><img src=\"https://colab.research.google.com/assets/colab-badge.svg\" alt=\"Open In Colab\"/></a>"
      ]
    },
    {
      "cell_type": "markdown",
      "metadata": {
        "id": "Lz1xcKKhH_JO",
        "colab_type": "text"
      },
      "source": [
        "# Stochastic Processes in Graphs\n",
        "##### Han Du\n",
        "\n",
        "The purposes of this notebook is to study stochastic processes and algorithms on graphs.\n",
        "\n",
        "We will study random graphs $G = (N, p)$ where $N$ is fixed number of vertices and $p$ represents the probability of an edge being included.\n",
        "\n",
        "We will represent graphs as an adjacency matrix $A$ of $G$.\n",
        "\n",
        "$A_{i,j} = 1$ if there is an interaction between node i and node j.\n",
        "\n",
        "$A_{i,i}$ represents the value stored by node i.\n",
        "\n",
        "## Information Propagation in a Stochastic Network from Single Source\n",
        "\n",
        "We start with studying the speed of information propagation in a graph where values of nodes are updated by the rule:\n",
        "\n",
        "$A_{i,j} = 1 \\implies \\max{(A_{i,i},A_{j,j})} \\rightarrow A_{i,i}, A_{j,j}$\n",
        "\n",
        "After an adjacent node is updated, those nodes do not update adjacent nodes until the next time step or iteration of the propagation rule.\n",
        "\n",
        "### Constant information\n",
        "\n",
        "In this section we study how quickly constant information $C$ propagates in a constant sized graph $G = (N, p)$\n",
        "\n",
        "i.e. how many timesteps or iterations of the update rule it takes before $A_{i, i} = A_{j, j} \\; \\forall \\, i,j \\in E(G)$\n"
      ]
    },
    {
      "cell_type": "code",
      "metadata": {
        "outputHidden": false,
        "inputHidden": false,
        "id": "Aww9BXFLH_JT",
        "colab_type": "code",
        "colab": {
          "base_uri": "https://localhost:8080/",
          "height": 34
        },
        "outputId": "f0a53976-a73f-4774-ba88-a6558ab99ebb"
      },
      "source": [
        "import numpy as np\n",
        "import networkx as nx\n",
        "import matplotlib.pyplot as plt\n",
        "from functools import reduce\n",
        "import seaborn as sns\n",
        "import pandas as pd\n",
        "\n",
        "\n",
        "# graph initialization\n",
        "\n",
        "n = 10\n",
        "p = 0.5\n",
        "\n",
        "def initializeGraph(n, p):\n",
        "    upperDiagIndices = np.triu_indices(n, 1)\n",
        "    A = np.zeros((n, n))\n",
        "    return upperDiagIndices, A\n",
        "\n",
        "def randomizeEdges(A, n, p):\n",
        "    m = map((lambda x: x < p), np.random.rand(int((n-1) * n / 2)))\n",
        "    edges = np.array([1 if e else 0 for e in m])\n",
        "    A[upperDiagIndices] = edges\n",
        "    return A\n",
        "\n",
        "\n",
        "def randomAccumulate(A, n, p):\n",
        "    randIdx = np.random.randint(low = 0, high = n)\n",
        "    A[randIdx, randIdx] += 1\n",
        "    return A\n",
        "\n",
        "\n",
        "def drawGraph(A):\n",
        "    nxA = nx.from_numpy_matrix(A)\n",
        "    labelDict = dict(zip(nxA, np.diag(A).astype(int).tolist()))\n",
        "    nx.draw(nxA, labels = labelDict)\n",
        "    ax = plt.gca()\n",
        "    ax.set_aspect('equal')\n",
        "\n",
        "\n",
        "def oneStepPropagation(A):\n",
        "    changed = []\n",
        "    for i, row in enumerate(A):\n",
        "        for j, column in enumerate(row):\n",
        "            if j > i:\n",
        "                if A[i, j] == 1 and i not in changed and j not in changed:\n",
        "                    maxIJ = max(A[i, i], A[j, j])\n",
        "                    if A[i, i] != maxIJ:\n",
        "                        changed.append(i)\n",
        "                    else:\n",
        "                        changed.append(j)\n",
        "                    A[i, i] = maxIJ\n",
        "                    A[j, j] = maxIJ\n",
        "    return A\n",
        "    # print(changed)\n",
        "\n",
        "\n",
        "def checkAllEqual(A):\n",
        "    return (np.diag(A) == A[0,0]).all()\n",
        "\n",
        "queue = []\n",
        "iterations = 100000\n",
        "for i in range(iterations):\n",
        "    count = 0\n",
        "    upperDiagIndices, A = initializeGraph(n, p)\n",
        "    A = randomizeEdges(A, n, p)\n",
        "    A = randomAccumulate(A, n, p)\n",
        "    # print(A)\n",
        "    while not checkAllEqual(A):\n",
        "        A = randomizeEdges(A, n, p)\n",
        "        A = oneStepPropagation(A)\n",
        "        # print(A)\n",
        "        count +=1\n",
        "    queue.append(count)\n",
        "    count = 0\n",
        "\n",
        "average = sum(queue)/iterations\n",
        "print(\"It takes on average \" + str(average) + \" iterations until the entire network has updated in value.\")"
      ],
      "execution_count": 1,
      "outputs": [
        {
          "output_type": "stream",
          "text": [
            "It takes on average 3.29666 iterations until the entire network has updated in value.\n"
          ],
          "name": "stdout"
        }
      ]
    }
  ]
}