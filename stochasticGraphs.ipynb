{
  "nbformat": 4,
  "nbformat_minor": 0,
  "metadata": {
    "colab": {
      "name": "stochasticGraphs.ipynb",
      "provenance": [],
      "include_colab_link": true
    },
    "kernelspec": {
      "name": "python3",
      "display_name": "Python 3"
    }
  },
  "cells": [
    {
      "cell_type": "markdown",
      "metadata": {
        "id": "view-in-github",
        "colab_type": "text"
      },
      "source": [
        "<a href=\"https://colab.research.google.com/github/HanSeoulOh/mathproblems/blob/master/stochasticGraphs.ipynb\" target=\"_parent\"><img src=\"https://colab.research.google.com/assets/colab-badge.svg\" alt=\"Open In Colab\"/></a>"
      ]
    },
    {
      "cell_type": "markdown",
      "metadata": {
        "id": "Ry-gWSRQKBe1",
        "colab_type": "text"
      },
      "source": [
        "# Stochastic Processes in Graphs\n",
        "##### Han Du\n",
        "\n",
        "The purposes of this notebook is to study stochastic processes and algorithms on graphs.\n",
        "\n",
        "We will study random graphs $G = (N, p)$ where $N$ is fixed number of vertices and $p$ represents the probability of an edge being included.\n",
        "\n",
        "We will represent graphs as an adjacency matrix $A$ of $G$.\n",
        "\n",
        "$A_{i,j} = 1$ if there is an interaction between node i and node j.\n",
        "\n",
        "$A_{i,i}$ represents the value stored by node i.\n"
      ]
    },
    {
      "cell_type": "markdown",
      "metadata": {
        "id": "j6oZ9Nh8Oofn",
        "colab_type": "text"
      },
      "source": [
        "####Helper Code"
      ]
    },
    {
      "cell_type": "code",
      "metadata": {
        "id": "_XEaP8SZOf5S",
        "colab_type": "code",
        "colab": {}
      },
      "source": [
        "import numpy as np\n",
        "import networkx as nx\n",
        "import matplotlib.pyplot as plt\n",
        "from functools import reduce\n",
        "import seaborn as sns\n",
        "import pandas as pd\n",
        "\n",
        "\n",
        "# graph initialization\n",
        "\n",
        "n = 10\n",
        "p = 0.5\n",
        "\n",
        "def initializeGraph(n, p):\n",
        "    upperDiagIndices = np.triu_indices(n, 1)\n",
        "    A = np.zeros((n, n))\n",
        "    return upperDiagIndices, A\n",
        "\n",
        "def randomizeEdges(A, n, p):\n",
        "    m = map((lambda x: x < p), np.random.rand(int((n-1) * n / 2)))\n",
        "    edges = np.array([1 if e else 0 for e in m])\n",
        "    A[upperDiagIndices] = edges\n",
        "    return A\n",
        "\n",
        "\n",
        "def randomAccumulate(A, n, p):\n",
        "    randIdx = np.random.randint(low = 0, high = n)\n",
        "    A[randIdx, randIdx] += 1\n",
        "    return A\n",
        "\n",
        "\n",
        "def drawGraph(A):\n",
        "    nxA = nx.from_numpy_matrix(A)\n",
        "    labelDict = dict(zip(nxA, np.diag(A).astype(int).tolist()))\n",
        "    nx.draw(nxA, labels = labelDict)\n",
        "    ax = plt.gca()\n",
        "    ax.set_aspect('equal')\n",
        "\n",
        "\n",
        "def oneStepPropagation(A):\n",
        "    changed = []\n",
        "    for i, row in enumerate(A):\n",
        "        for j, column in enumerate(row):\n",
        "            if i != j:\n",
        "                if A[i, j] == 1 and i not in changed and j not in changed:\n",
        "                    maxIJ = max(A[i, i], A[j, j])\n",
        "                    if A[i, i] < maxIJ:\n",
        "                        changed.append(i)\n",
        "                    elif A[j, j] < maxIJ:\n",
        "                        changed.append(j)\n",
        "                    else:\n",
        "                      pass\n",
        "                    A[i, i] = maxIJ\n",
        "                    A[j, j] = maxIJ\n",
        "    return A\n",
        "    # print(changed)\n",
        "\n",
        "\n",
        "def checkAllEqual(A):\n",
        "    return (np.diag(A) == A[0,0]).all()\n"
      ],
      "execution_count": 0,
      "outputs": []
    },
    {
      "cell_type": "markdown",
      "metadata": {
        "id": "Zg2bIJzNN7vR",
        "colab_type": "text"
      },
      "source": [
        "\n",
        "### Generating Degree Sequences\n",
        "\n",
        "The degree sequence of an undirected graph is the non-increasing sequence of its vertex degrees.\n",
        "The degree sequence is a graph invariant so isomorphic graphs have the same degree sequence.\n",
        "In some cases, non-isomorphic graphs have the same degree sequence.\n",
        "\n",
        "In a $k$-connected graph of $N$ edges, we have a degree sequence $S = (k, ..., k)$ where $|S| = N$\n",
        "\n",
        "\n"
      ]
    },
    {
      "cell_type": "markdown",
      "metadata": {
        "id": "-okzNJ3MN-Ys",
        "colab_type": "text"
      },
      "source": [
        "\n",
        "## Constant Information Propagation in a Random Network from a Single Source\n",
        "\n",
        "We start with studying the speed of information propagation in a graph where values of nodes are updated by the rule:\n",
        "\n",
        "$A_{i,j} = 1 \\implies \\max{(A_{i,i},A_{j,j})} \\rightarrow A_{i,i}, A_{j,j}$\n",
        "\n",
        "After an adjacent node is updated, those nodes do not update adjacent nodes until the next time step or iteration of the propagation rule.\n",
        "\n",
        "### Constant information\n",
        "\n",
        "In this section we study how quickly constant information $C$ propagates in a constant sized graph $G = (N, p)$\n",
        "\n",
        "i.e. how many timesteps or iterations of the update rule it takes before $A_{i, i} = A_{j, j} \\; \\forall \\, i,j \\in E(G)$\n"
      ]
    },
    {
      "cell_type": "code",
      "metadata": {
        "id": "RbAs7Y_oKEqH",
        "colab_type": "code",
        "outputId": "5bde6841-bf95-45a1-8f50-bd20265500e6",
        "colab": {
          "base_uri": "https://localhost:8080/",
          "height": 34
        }
      },
      "source": [
        "queue = []\n",
        "iterations = 100000\n",
        "for i in range(iterations):\n",
        "    count = 0\n",
        "    upperDiagIndices, A = initializeGraph(n, p)\n",
        "    A = randomizeEdges(A, n, p)\n",
        "    A = randomAccumulate(A, n, p)\n",
        "    # print(A)\n",
        "    while not checkAllEqual(A):\n",
        "        A = randomizeEdges(A, n, p)\n",
        "        A = oneStepPropagation(A)\n",
        "        # print(A)\n",
        "        count +=1\n",
        "    queue.append(count)\n",
        "    count = 0\n",
        "\n",
        "average = sum(queue)/iterations\n",
        "print(\"It takes on average \" + str(average) + \" iterations until the entire network has updated in value.\")"
      ],
      "execution_count": 0,
      "outputs": [
        {
          "output_type": "stream",
          "text": [
            "It takes on average 2.16696 iterations until the entire network has updated in value.\n"
          ],
          "name": "stdout"
        }
      ]
    },
    {
      "cell_type": "code",
      "metadata": {
        "id": "RzEJ0XqVNblu",
        "colab_type": "code",
        "outputId": "b2e60f0f-3bce-450d-f0e7-72fd0470b5a6",
        "colab": {
          "base_uri": "https://localhost:8080/",
          "height": 282
        }
      },
      "source": [
        "sns.countplot(list(map(int, queue)))"
      ],
      "execution_count": 0,
      "outputs": [
        {
          "output_type": "execute_result",
          "data": {
            "text/plain": [
              "<matplotlib.axes._subplots.AxesSubplot at 0x7fa1ca33dba8>"
            ]
          },
          "metadata": {
            "tags": []
          },
          "execution_count": 3
        },
        {
          "output_type": "display_data",
          "data": {
            "image/png": "[encoded data removed]",
            "text/plain": [
              "<Figure size 432x288 with 1 Axes>"
            ]
          },
          "metadata": {
            "tags": []
          }
        }
      ]
    },
    {
      "cell_type": "markdown",
      "metadata": {
        "id": "683_8a4LNeEB",
        "colab_type": "text"
      },
      "source": [
        "### Incrementing information\n",
        "\n",
        "Here we introduce a new concept of incrementing information:\n",
        "\n",
        "i.e. $C_t \\geq C_{t-1} \\; \\forall t$\n",
        "\n",
        "Where $t$ is time and $C_t$ is determined by an arbitrary monotonically increasing function $f(t)$\n",
        "\n",
        "We measure the lag $L$ by:\n",
        "\n",
        "$\\displaystyle L(G_t) = \\sum_{i}^{N}{C_t - A_{i,i}}$\n",
        "\n",
        "For our simulation, we select $f(t) = t$"
      ]
    },
    {
      "cell_type": "code",
      "metadata": {
        "id": "L0a8Nk_2Nh1E",
        "colab_type": "code",
        "outputId": "c37e0c5a-94cc-4f93-e8f7-c4ac0606484b",
        "colab": {
          "base_uri": "https://localhost:8080/",
          "height": 282
        }
      },
      "source": [
        "def randomAssign(A, n, p, t):\n",
        "    randIdx = np.random.randint(low = 0, high = n)\n",
        "    A[randIdx, randIdx] = t\n",
        "    return A\n",
        "\n",
        "def lag(A, t):\n",
        "    return sum(np.ones(np.diag(A).shape) * t - np.diag(A))\n",
        "\n",
        "\n",
        "def f(timestep):\n",
        "    return timestep\n",
        "\n",
        "maxTime = 50\n",
        "iterations = 1000\n",
        "n = 10\n",
        "p = 1\n",
        "lags = np.zeros((iterations, maxTime))\n",
        "for iter in range(iterations):\n",
        "    count = 0\n",
        "    upperDiagIndices, A = initializeGraph(n, p)\n",
        "    A = randomizeEdges(A, n, p)\n",
        "    # print(A)\n",
        "    while count < maxTime:\n",
        "        A = oneStepPropagation(A)\n",
        "        A = randomizeEdges(A, n, p)\n",
        "        A = randomAssign(A, n, p, count)\n",
        "        lags[iter, count] = lag(A, count)\n",
        "        count += 1\n",
        "    count = 0\n",
        "\n",
        "\n",
        "sns.lineplot(data=pd.DataFrame(lags).mean())"
      ],
      "execution_count": 0,
      "outputs": [
        {
          "output_type": "execute_result",
          "data": {
            "text/plain": [
              "<matplotlib.axes._subplots.AxesSubplot at 0x7fa1ba9dd588>"
            ]
          },
          "metadata": {
            "tags": []
          },
          "execution_count": 4
        },
        {
          "output_type": "display_data",
          "data": {
            "image/png": "[encoded data removed]",
            "text/plain": [
              "<Figure size 432x288 with 1 Axes>"
            ]
          },
          "metadata": {
            "tags": []
          }
        }
      ]
    },
    {
      "cell_type": "markdown",
      "metadata": {
        "id": "CwFod9PhOSMl",
        "colab_type": "text"
      },
      "source": [
        "## Constant Information Propagation in k-degree uniform Graphs from a Single Source\n",
        "\n",
        "Here we will study the speed of the propagation of a constant information packet in a $k$-connected random graph, using the same information update rule as previous sections.\n",
        "\n",
        "In this section we study how quickly constant information $C$ propagates in a k connected graph $G$ constructed from the degree sequence $(k, ..., k)$\n",
        "\n",
        "i.e. how many timesteps or iterations of the update rule it takes before $A_{i, i} = A_{j, j} \\; \\forall \\, i,j \\in E(G)$\n"
      ]
    },
    {
      "cell_type": "code",
      "metadata": {
        "colab_type": "code",
        "outputId": "5396994e-fd22-48ec-c4f6-6088a8dd50ee",
        "id": "PMcTr-gKTY0T",
        "colab": {
          "base_uri": "https://localhost:8080/",
          "height": 34
        }
      },
      "source": [
        "sequence = [3 for i in range(10)]\n",
        "queue = []\n",
        "iterations = 10000\n",
        "for i in range(iterations):\n",
        "    count = 0\n",
        "    A = nx.to_numpy_matrix(nx.random_degree_sequence_graph(sequence))\n",
        "    # print(A)\n",
        "    A = randomAccumulate(A, n, p)\n",
        "    while not checkAllEqual(A) and count < 100:\n",
        "        A = oneStepPropagation(A)\n",
        "        D = np.diag(A)\n",
        "        # print(A)\n",
        "        count +=1\n",
        "        A = nx.to_numpy_matrix(nx.random_degree_sequence_graph(sequence))\n",
        "        A[np.diag_indices(n)] = np.asmatrix(D)\n",
        "    queue.append(count)\n",
        "    count = 0\n",
        "\n",
        "average = sum(queue)/iterations\n",
        "print(\"It takes on average \" + str(average) + \" iterations until the entire network has updated in value.\")"
      ],
      "execution_count": 0,
      "outputs": [
        {
          "output_type": "stream",
          "text": [
            "It takes on average 10.2109 iterations until the entire network has updated in value.\n"
          ],
          "name": "stdout"
        }
      ]
    },
    {
      "cell_type": "code",
      "metadata": {
        "id": "JlV3BImZeSQa",
        "colab_type": "code",
        "outputId": "45894af7-2790-4aa7-9aa1-6f0ab284338f",
        "colab": {
          "base_uri": "https://localhost:8080/",
          "height": 282
        }
      },
      "source": [
        "sns.countplot(list(map(int, queue)))"
      ],
      "execution_count": 0,
      "outputs": [
        {
          "output_type": "execute_result",
          "data": {
            "text/plain": [
              "<matplotlib.axes._subplots.AxesSubplot at 0x7fa1bae7b8d0>"
            ]
          },
          "metadata": {
            "tags": []
          },
          "execution_count": 6
        },
        {
          "output_type": "display_data",
          "data": {
            "image/png": "[encoded data removed]",
            "text/plain": [
              "<Figure size 432x288 with 1 Axes>"
            ]
          },
          "metadata": {
            "tags": []
          }
        }
      ]
    },
    {
      "cell_type": "code",
      "metadata": {
        "id": "OVU91UxJmXwu",
        "colab_type": "code",
        "outputId": "bf2058d3-8828-4357-a091-478591c78264",
        "colab": {
          "base_uri": "https://localhost:8080/",
          "height": 34
        }
      },
      "source": [
        "print(\"standard deviation: \" + str(np.std(queue)))"
      ],
      "execution_count": 0,
      "outputs": [
        {
          "output_type": "stream",
          "text": [
            "standard deviation: 3.74251535601392\n"
          ],
          "name": "stdout"
        }
      ]
    },
    {
      "cell_type": "markdown",
      "metadata": {
        "id": "MDlzDg8FLKoB",
        "colab_type": "text"
      },
      "source": [
        "## Constant Information Propagation in $\\sim$K-Connected Graphs from a Single Source\n",
        "\n",
        "In this section we study how quickly constant information $C$ propagates in a random k connected graph $G$ constructed from the degree sequence $(d_1, ..., d_n)$ where $d_i \\leq k$\n",
        "\n",
        "i.e. how many timesteps or iterations of the update rule it takes before $A_{i, i} = A_{j, j} \\; \\forall \\, i,j \\in E(G)$\n"
      ]
    },
    {
      "cell_type": "markdown",
      "metadata": {
        "id": "e4DM7W6Mir83",
        "colab_type": "text"
      },
      "source": [
        "#### Generating k-connected graphs"
      ]
    },
    {
      "cell_type": "code",
      "metadata": {
        "id": "4rNESYXjLwFx",
        "colab_type": "code",
        "colab": {}
      },
      "source": [
        "k = 3\n",
        "queue = []\n",
        "iterations = 10000\n",
        "dsList = []\n",
        "\n",
        "graphList = []\n",
        "for i in range(iterations):\n",
        "    sequence = np.random.poisson(k, 10) + 1\n",
        "    sequence = np.flip(np.sort(sequence))\n",
        "    dsList.append(sequence)\n",
        "\n"
      ],
      "execution_count": 0,
      "outputs": []
    },
    {
      "cell_type": "code",
      "metadata": {
        "id": "PyvhEQ-HXpWl",
        "colab_type": "code",
        "colab": {}
      },
      "source": [
        "validDSList = []\n",
        "for sequence in dsList:\n",
        "    if nx.is_graphical(np.flip(np.sort(sequence))):\n",
        "      validDSList.append(sequence)"
      ],
      "execution_count": 0,
      "outputs": []
    },
    {
      "cell_type": "code",
      "metadata": {
        "id": "EdH9fww2WLB6",
        "colab_type": "code",
        "colab": {}
      },
      "source": [
        "for sequence in validDSList:\n",
        "    try:\n",
        "      G = nx.random_degree_sequence_graph(sequence, None, 1)\n",
        "      if nx.is_connected(G):\n",
        "        A = nx.to_numpy_matrix(G)\n",
        "        graphList.append(A)\n",
        "    except:\n",
        "      pass\n",
        "    "
      ],
      "execution_count": 0,
      "outputs": []
    },
    {
      "cell_type": "code",
      "metadata": {
        "id": "IjZbOdBhYJqp",
        "colab_type": "code",
        "outputId": "c3c42cd3-2aed-4815-fe66-ce10f782cc30",
        "colab": {
          "base_uri": "https://localhost:8080/",
          "height": 34
        }
      },
      "source": [
        "len(graphList)"
      ],
      "execution_count": 0,
      "outputs": [
        {
          "output_type": "execute_result",
          "data": {
            "text/plain": [
              "988"
            ]
          },
          "metadata": {
            "tags": []
          },
          "execution_count": 12
        }
      ]
    },
    {
      "cell_type": "markdown",
      "metadata": {
        "id": "daIfQ3WLiyMt",
        "colab_type": "text"
      },
      "source": [
        "#### Code for running the simulation"
      ]
    },
    {
      "cell_type": "code",
      "metadata": {
        "id": "ZrYVo8lMZCZs",
        "colab_type": "code",
        "outputId": "fde887b7-45f1-40f4-a510-960b718b132c",
        "colab": {
          "base_uri": "https://localhost:8080/",
          "height": 34
        }
      },
      "source": [
        "import random\n",
        "for graph in graphList:\n",
        "    count = 0\n",
        "    A = np.zeros((n,n)) + graph\n",
        "    # print(A)\n",
        "    A = randomAccumulate(A, n, p)\n",
        "    while not checkAllEqual(A) and count < 100:\n",
        "        A = oneStepPropagation(A)\n",
        "        D = np.diag(A)\n",
        "        # print(A)\n",
        "        count +=1\n",
        "        A = np.zeros((n,n)) + random.choice(graphList)\n",
        "        A[np.diag_indices(n)] = np.asmatrix(D)\n",
        "    queue.append(count)\n",
        "    count = 0\n"
      ],
      "execution_count": 0,
      "outputs": [
        {
          "output_type": "stream",
          "text": [
            "It takes on average 0.5012 iterations until the entire network has updated in value.\n"
          ],
          "name": "stdout"
        }
      ]
    },
    {
      "cell_type": "markdown",
      "metadata": {
        "id": "TRiYnShHi9tE",
        "colab_type": "text"
      },
      "source": [
        "#### Output"
      ]
    },
    {
      "cell_type": "code",
      "metadata": {
        "id": "AQaTieWOi7w9",
        "colab_type": "code",
        "outputId": "c923963e-f1f8-4750-91c3-cc6b7b6b8de2",
        "colab": {
          "base_uri": "https://localhost:8080/",
          "height": 34
        }
      },
      "source": [
        "\n",
        "average = sum(queue)/iterations\n",
        "print(\"It takes on average \" + str(average) + \" iterations until the entire network has updated in value.\")"
      ],
      "execution_count": 0,
      "outputs": [
        {
          "output_type": "stream",
          "text": [
            "It takes on average 0.5012 iterations until the entire network has updated in value.\n"
          ],
          "name": "stdout"
        }
      ]
    },
    {
      "cell_type": "code",
      "metadata": {
        "id": "GTKq8x9TZ0rr",
        "colab_type": "code",
        "outputId": "e7621e53-2b80-46ad-d227-a4d4f46e6795",
        "colab": {
          "base_uri": "https://localhost:8080/",
          "height": 282
        }
      },
      "source": [
        "sns.countplot(list(map(int, queue)))"
      ],
      "execution_count": 0,
      "outputs": [
        {
          "output_type": "execute_result",
          "data": {
            "text/plain": [
              "<matplotlib.axes._subplots.AxesSubplot at 0x7fa1ba5b4d68>"
            ]
          },
          "metadata": {
            "tags": []
          },
          "execution_count": 14
        },
        {
          "output_type": "display_data",
          "data": {
            "image/png": "[encoded data removed]",
            "text/plain": [
              "<Figure size 432x288 with 1 Axes>"
            ]
          },
          "metadata": {
            "tags": []
          }
        }
      ]
    },
    {
      "cell_type": "markdown",
      "metadata": {
        "id": "s-dqE2IhiYD7",
        "colab_type": "text"
      },
      "source": [
        "# Sequential Information Propagation in Network\n",
        "\n",
        "Here we make the following assumptions:\n",
        "\n",
        "Only the 0th node updates in terms of the count information. All other nodes must indirectly update in the count by either interacting directly with the 0th node or another node that has the updated count.\n",
        "\n",
        "The below assumes that the count increments for each day."
      ]
    },
    {
      "cell_type": "code",
      "metadata": {
        "id": "7DxK5eiDiXzB",
        "colab_type": "code",
        "outputId": "fc4a266f-d8f6-40c3-a6be-803b00575a7a",
        "colab": {
          "base_uri": "https://localhost:8080/",
          "height": 1000
        }
      },
      "source": [
        "import pandas as pd\n",
        "import numpy as np\n",
        "population = 1000\n",
        "tx = 3000\n",
        "days = 500\n",
        "val = np.zeros(population)\n",
        "seq = np.zeros(days)\n",
        "seq2 = np.zeros(days)\n",
        "seq3 = np.zeros(days)\n",
        "\n",
        "txHistory = pd.DataFrame(np.array([np.repeat(np.arange(days), tx), np.random.randint(population, size=days*tx), np.random.randint(population, size=days*tx)]).T , columns = ['day', 'sender', 'receiver'])\n",
        "\n",
        "for day in range(days):\n",
        "  print(day)\n",
        "  val[0] += 1\n",
        "  for index, row in txHistory.query('day == ' + str(day)).iterrows():\n",
        "    tmax = max(val[row['sender']], val[row['receiver']])\n",
        "    val[row['sender']] = tmax\n",
        "    val[row['receiver']] = tmax\n",
        "  seq[day] = np.average(val)\n",
        "  seq2[day] = max(val) - min(val)\n",
        "  seq3[day] = val[0] - np.average(val)\n"
      ],
      "execution_count": 0,
      "outputs": [
        {
          "output_type": "stream",
          "text": [
            "0\n",
            "1\n",
            "2\n",
            "3\n",
            "4\n",
            "5\n",
            "6\n",
            "7\n",
            "8\n",
            "9\n",
            "10\n",
            "11\n",
            "12\n",
            "13\n",
            "14\n",
            "15\n",
            "16\n",
            "17\n",
            "18\n",
            "19\n",
            "20\n",
            "21\n",
            "22\n",
            "23\n",
            "24\n",
            "25\n",
            "26\n",
            "27\n",
            "28\n",
            "29\n",
            "30\n",
            "31\n",
            "32\n",
            "33\n",
            "34\n",
            "35\n",
            "36\n",
            "37\n",
            "38\n",
            "39\n",
            "40\n",
            "41\n",
            "42\n",
            "43\n",
            "44\n",
            "45\n",
            "46\n",
            "47\n",
            "48\n",
            "49\n",
            "50\n",
            "51\n",
            "52\n",
            "53\n",
            "54\n",
            "55\n",
            "56\n",
            "57\n",
            "58\n",
            "59\n",
            "60\n",
            "61\n",
            "62\n",
            "63\n",
            "64\n",
            "65\n",
            "66\n",
            "67\n",
            "68\n",
            "69\n",
            "70\n",
            "71\n",
            "72\n",
            "73\n",
            "74\n",
            "75\n",
            "76\n",
            "77\n",
            "78\n",
            "79\n",
            "80\n",
            "81\n",
            "82\n",
            "83\n",
            "84\n",
            "85\n",
            "86\n",
            "87\n",
            "88\n",
            "89\n",
            "90\n",
            "91\n",
            "92\n",
            "93\n",
            "94\n",
            "95\n",
            "96\n",
            "97\n",
            "98\n",
            "99\n",
            "100\n",
            "101\n",
            "102\n",
            "103\n",
            "104\n",
            "105\n",
            "106\n",
            "107\n",
            "108\n",
            "109\n",
            "110\n",
            "111\n"
          ],
          "name": "stdout"
        }
      ]
    },
    {
      "cell_type": "code",
      "metadata": {
        "id": "UPPloY2xfX30",
        "colab_type": "code",
        "outputId": "46dfc25b-f8ce-4f4b-fd6e-2a5434a43848",
        "colab": {
          "base_uri": "https://localhost:8080/",
          "height": 423
        }
      },
      "source": [
        "txHistory = pd.DataFrame(np.array([np.repeat(np.arange(days), tx), np.random.randint(population, size=days*tx), np.random.randint(population, size=days*tx)]).T , columns = ['day', 'sender', 'receiver'])\n",
        "txHistory"
      ],
      "execution_count": 0,
      "outputs": [
        {
          "output_type": "execute_result",
          "data": {
            "text/html": [
              "<div>\n",
              "<style scoped>\n",
              "    .dataframe tbody tr th:only-of-type {\n",
              "        vertical-align: middle;\n",
              "    }\n",
              "\n",
              "    .dataframe tbody tr th {\n",
              "        vertical-align: top;\n",
              "    }\n",
              "\n",
              "    .dataframe thead th {\n",
              "        text-align: right;\n",
              "    }\n",
              "</style>\n",
              "<table border=\"1\" class=\"dataframe\">\n",
              "  <thead>\n",
              "    <tr style=\"text-align: right;\">\n",
              "      <th></th>\n",
              "      <th>day</th>\n",
              "      <th>sender</th>\n",
              "      <th>receiver</th>\n",
              "    </tr>\n",
              "  </thead>\n",
              "  <tbody>\n",
              "    <tr>\n",
              "      <th>0</th>\n",
              "      <td>0</td>\n",
              "      <td>334</td>\n",
              "      <td>401</td>\n",
              "    </tr>\n",
              "    <tr>\n",
              "      <th>1</th>\n",
              "      <td>0</td>\n",
              "      <td>709</td>\n",
              "      <td>609</td>\n",
              "    </tr>\n",
              "    <tr>\n",
              "      <th>2</th>\n",
              "      <td>0</td>\n",
              "      <td>724</td>\n",
              "      <td>69</td>\n",
              "    </tr>\n",
              "    <tr>\n",
              "      <th>3</th>\n",
              "      <td>0</td>\n",
              "      <td>988</td>\n",
              "      <td>106</td>\n",
              "    </tr>\n",
              "    <tr>\n",
              "      <th>4</th>\n",
              "      <td>0</td>\n",
              "      <td>620</td>\n",
              "      <td>911</td>\n",
              "    </tr>\n",
              "    <tr>\n",
              "      <th>...</th>\n",
              "      <td>...</td>\n",
              "      <td>...</td>\n",
              "      <td>...</td>\n",
              "    </tr>\n",
              "    <tr>\n",
              "      <th>1499995</th>\n",
              "      <td>499</td>\n",
              "      <td>802</td>\n",
              "      <td>372</td>\n",
              "    </tr>\n",
              "    <tr>\n",
              "      <th>1499996</th>\n",
              "      <td>499</td>\n",
              "      <td>795</td>\n",
              "      <td>251</td>\n",
              "    </tr>\n",
              "    <tr>\n",
              "      <th>1499997</th>\n",
              "      <td>499</td>\n",
              "      <td>418</td>\n",
              "      <td>536</td>\n",
              "    </tr>\n",
              "    <tr>\n",
              "      <th>1499998</th>\n",
              "      <td>499</td>\n",
              "      <td>376</td>\n",
              "      <td>648</td>\n",
              "    </tr>\n",
              "    <tr>\n",
              "      <th>1499999</th>\n",
              "      <td>499</td>\n",
              "      <td>626</td>\n",
              "      <td>192</td>\n",
              "    </tr>\n",
              "  </tbody>\n",
              "</table>\n",
              "<p>1500000 rows × 3 columns</p>\n",
              "</div>"
            ],
            "text/plain": [
              "         day  sender  receiver\n",
              "0          0     334       401\n",
              "1          0     709       609\n",
              "2          0     724        69\n",
              "3          0     988       106\n",
              "4          0     620       911\n",
              "...      ...     ...       ...\n",
              "1499995  499     802       372\n",
              "1499996  499     795       251\n",
              "1499997  499     418       536\n",
              "1499998  499     376       648\n",
              "1499999  499     626       192\n",
              "\n",
              "[1500000 rows x 3 columns]"
            ]
          },
          "metadata": {
            "tags": []
          },
          "execution_count": 31
        }
      ]
    },
    {
      "cell_type": "code",
      "metadata": {
        "id": "zQU4R0G0Z1dG",
        "colab_type": "code",
        "outputId": "f363c427-2ec8-4557-b9c4-1cecead04bc9",
        "colab": {
          "base_uri": "https://localhost:8080/",
          "height": 284
        }
      },
      "source": [
        "rseq = np.linspace(0, days, num = days)\n",
        "con = pd.DataFrame(data = {'Real Time' : rseq, 'Propagated Time': seq})\n",
        "# print(con)\n",
        "con.plot()"
      ],
      "execution_count": 0,
      "outputs": [
        {
          "output_type": "execute_result",
          "data": {
            "text/plain": [
              "<matplotlib.axes._subplots.AxesSubplot at 0x7ff6e95600f0>"
            ]
          },
          "metadata": {
            "tags": []
          },
          "execution_count": 85
        },
        {
          "output_type": "display_data",
          "data": {
            "image/png": "[encoded data removed]",
            "text/plain": [
              "<Figure size 432x288 with 1 Axes>"
            ]
          },
          "metadata": {
            "tags": []
          }
        }
      ]
    },
    {
      "cell_type": "code",
      "metadata": {
        "id": "T70pAwC7dYaC",
        "colab_type": "code",
        "outputId": "df924a53-8339-46dd-978a-3b2d809dad15",
        "colab": {
          "base_uri": "https://localhost:8080/",
          "height": 307
        }
      },
      "source": [
        "trans.groupby(['sender']).count().plot.bar()"
      ],
      "execution_count": 0,
      "outputs": [
        {
          "output_type": "execute_result",
          "data": {
            "text/plain": [
              "<matplotlib.axes._subplots.AxesSubplot at 0x7f4a68a4f898>"
            ]
          },
          "metadata": {
            "tags": []
          },
          "execution_count": 6
        },
        {
          "output_type": "display_data",
          "data": {
            "image/png": "[encoded data removed]",
            "text/plain": [
              "<Figure size 432x288 with 1 Axes>"
            ]
          },
          "metadata": {
            "tags": []
          }
        }
      ]
    },
    {
      "cell_type": "code",
      "metadata": {
        "id": "CLIFDR02evkI",
        "colab_type": "code",
        "outputId": "0dc3faad-bb91-4b5f-f18b-5b818ed33362",
        "colab": {
          "base_uri": "https://localhost:8080/",
          "height": 36
        }
      },
      "source": [
        "np.average(trans.groupby(['sender']).count()['receiver'])"
      ],
      "execution_count": 0,
      "outputs": [
        {
          "output_type": "execute_result",
          "data": {
            "text/plain": [
              "3.1446540880503147"
            ]
          },
          "metadata": {
            "tags": []
          },
          "execution_count": 18
        }
      ]
    },
    {
      "cell_type": "code",
      "metadata": {
        "id": "5CiKl35vcMHk",
        "colab_type": "code",
        "outputId": "89819220-df69-4486-895a-b055eb1dc99b",
        "colab": {
          "base_uri": "https://localhost:8080/",
          "height": 284
        }
      },
      "source": [
        "pd.DataFrame(seq2).plot()"
      ],
      "execution_count": 0,
      "outputs": [
        {
          "output_type": "execute_result",
          "data": {
            "text/plain": [
              "<matplotlib.axes._subplots.AxesSubplot at 0x7ff6e94c2630>"
            ]
          },
          "metadata": {
            "tags": []
          },
          "execution_count": 86
        },
        {
          "output_type": "display_data",
          "data": {
            "image/png": "[encoded data removed]",
            "text/plain": [
              "<Figure size 432x288 with 1 Axes>"
            ]
          },
          "metadata": {
            "tags": []
          }
        }
      ]
    },
    {
      "cell_type": "code",
      "metadata": {
        "id": "CeTpYLwDdKto",
        "colab_type": "code",
        "outputId": "24b43a3b-b4fe-488f-c37d-30a7cd5db590",
        "colab": {
          "base_uri": "https://localhost:8080/",
          "height": 284
        }
      },
      "source": [
        "pd.DataFrame(seq3).plot()"
      ],
      "execution_count": 0,
      "outputs": [
        {
          "output_type": "execute_result",
          "data": {
            "text/plain": [
              "<matplotlib.axes._subplots.AxesSubplot at 0x7ff6e95bdf60>"
            ]
          },
          "metadata": {
            "tags": []
          },
          "execution_count": 87
        },
        {
          "output_type": "display_data",
          "data": {
            "image/png": "[encoded data removed]",
            "text/plain": [
              "<Figure size 432x288 with 1 Axes>"
            ]
          },
          "metadata": {
            "tags": []
          }
        }
      ]
    },
    {
      "cell_type": "markdown",
      "metadata": {
        "id": "MD2yHXSDgzf5",
        "colab_type": "text"
      },
      "source": [
        "Below assumes that count increments with each transaction. This is a good enough approximation for a timestamp that is more frequent than transactions. The ordering of transactions is dense in time.\n",
        "\n",
        "We are concerned if there is a growth between the distance of the starting count of each day, and the smallest count in the network. This will be apparent if the series is a non constant difference or non stationary."
      ]
    },
    {
      "cell_type": "code",
      "metadata": {
        "id": "aDz2mrUjgy1G",
        "colab_type": "code",
        "colab": {}
      },
      "source": [
        "population = 1000\n",
        "tx = 3000\n",
        "days = 500\n",
        "val = np.zeros(population)\n",
        "seq = np.zeros(days)\n",
        "seq2 = np.zeros(days)\n",
        "seq3 = np.zeros(days)\n",
        "\n",
        "for day in range(days):\n",
        "  # print(val)\n",
        "  trans = pd.DataFrame(data = np.array([np.random.randint(population, size=tx), np.random.randint(population, size=tx)]).T, columns = ['sender', 'receiver'])\n",
        "  for index, row in trans.iterrows():\n",
        "    val[0] += 1\n",
        "    tmax = max(val[row['sender']], val[row['receiver']])\n",
        "    val[row['sender']] = tmax\n",
        "    val[row['receiver']] = tmax\n",
        "  seq[day] = np.average(val)\n",
        "  seq2[day] = max(val) - min(val)\n",
        "  seq3[day] = val[0] - np.average(val)\n"
      ],
      "execution_count": 0,
      "outputs": []
    },
    {
      "cell_type": "markdown",
      "metadata": {
        "id": "NYJ2Pc98jaDV",
        "colab_type": "text"
      },
      "source": [
        "Here we plot the Real Time vs. the average time reported by each node and notice that they are approximately equal"
      ]
    },
    {
      "cell_type": "code",
      "metadata": {
        "id": "oL015dDUhA0z",
        "colab_type": "code",
        "outputId": "d10b99a0-6834-4283-f4e2-dc4f83ac1012",
        "colab": {
          "base_uri": "https://localhost:8080/",
          "height": 321
        }
      },
      "source": [
        "rseq = np.linspace(0, days*tx, num = days)\n",
        "print(len(rseq))\n",
        "print(len(seq))\n",
        "con = pd.DataFrame(data = {'Real Time' : rseq, 'Propagated Time': seq})\n",
        "con.plot()"
      ],
      "execution_count": 0,
      "outputs": [
        {
          "output_type": "stream",
          "text": [
            "500\n",
            "500\n"
          ],
          "name": "stdout"
        },
        {
          "output_type": "execute_result",
          "data": {
            "text/plain": [
              "<matplotlib.axes._subplots.AxesSubplot at 0x7ff6e94002e8>"
            ]
          },
          "metadata": {
            "tags": []
          },
          "execution_count": 89
        },
        {
          "output_type": "display_data",
          "data": {
            "image/png": "[encoded data removed]",
            "text/plain": [
              "<Figure size 432x288 with 1 Axes>"
            ]
          },
          "metadata": {
            "tags": []
          }
        }
      ]
    },
    {
      "cell_type": "markdown",
      "metadata": {
        "id": "vLO6yqghjkQB",
        "colab_type": "text"
      },
      "source": [
        "This is further evidenced by plotting the max distance from the real time and difference between the mean time reported by nodes from the real time, both showing a stationary relationship, meaning over time, there is a approximately a constant amount of distance from the actual time."
      ]
    },
    {
      "cell_type": "code",
      "metadata": {
        "id": "z6dZqMZLhJMU",
        "colab_type": "code",
        "outputId": "ac3f28cc-ab10-4f6a-bc90-1fc4c628afaa",
        "colab": {
          "base_uri": "https://localhost:8080/",
          "height": 284
        }
      },
      "source": [
        "pd.DataFrame(seq2).plot()"
      ],
      "execution_count": 0,
      "outputs": [
        {
          "output_type": "execute_result",
          "data": {
            "text/plain": [
              "<matplotlib.axes._subplots.AxesSubplot at 0x7ff6e93fcb70>"
            ]
          },
          "metadata": {
            "tags": []
          },
          "execution_count": 90
        },
        {
          "output_type": "display_data",
          "data": {
            "image/png": "[encoded data removed]",
            "text/plain": [
              "<Figure size 432x288 with 1 Axes>"
            ]
          },
          "metadata": {
            "tags": []
          }
        }
      ]
    },
    {
      "cell_type": "code",
      "metadata": {
        "id": "MGXCZI08hOrE",
        "colab_type": "code",
        "outputId": "b69ea8a5-b61f-49c2-9417-d9c55a6c5213",
        "colab": {
          "base_uri": "https://localhost:8080/",
          "height": 284
        }
      },
      "source": [
        "pd.DataFrame(seq3).plot()"
      ],
      "execution_count": 0,
      "outputs": [
        {
          "output_type": "execute_result",
          "data": {
            "text/plain": [
              "<matplotlib.axes._subplots.AxesSubplot at 0x7ff6e935c2e8>"
            ]
          },
          "metadata": {
            "tags": []
          },
          "execution_count": 91
        },
        {
          "output_type": "display_data",
          "data": {
            "image/png": "[encoded data removed]",
            "text/plain": [
              "<Figure size 432x288 with 1 Axes>"
            ]
          },
          "metadata": {
            "tags": []
          }
        }
      ]
    },
    {
      "cell_type": "code",
      "metadata": {
        "id": "YrSMonWOi-UY",
        "colab_type": "code",
        "outputId": "4fb4be1a-fa62-4201-ef7d-09da6484b996",
        "colab": {
          "base_uri": "https://localhost:8080/",
          "height": 36
        }
      },
      "source": [
        "np.average(seq2)"
      ],
      "execution_count": 0,
      "outputs": [
        {
          "output_type": "execute_result",
          "data": {
            "text/plain": [
              "7446.068"
            ]
          },
          "metadata": {
            "tags": []
          },
          "execution_count": 92
        }
      ]
    },
    {
      "cell_type": "code",
      "metadata": {
        "id": "bmFN_b0WjJJ7",
        "colab_type": "code",
        "outputId": "a27cb5af-6103-4f97-cbe0-2b833f665f64",
        "colab": {
          "base_uri": "https://localhost:8080/",
          "height": 36
        }
      },
      "source": [
        "np.average(seq3)"
      ],
      "execution_count": 0,
      "outputs": [
        {
          "output_type": "execute_result",
          "data": {
            "text/plain": [
              "3700.6040459999954"
            ]
          },
          "metadata": {
            "tags": []
          },
          "execution_count": 93
        }
      ]
    },
    {
      "cell_type": "markdown",
      "metadata": {
        "id": "dKnTdgZVjXOn",
        "colab_type": "text"
      },
      "source": [
        "This time we repeat the same experiment except that we draw the transactions more realistically. We draw the senders and receivers in uniform random order, with up to n replacements for each node."
      ]
    },
    {
      "cell_type": "code",
      "metadata": {
        "id": "3egsnpfzkQ6M",
        "colab_type": "code",
        "outputId": "3a75c293-210b-459d-b649-d6b3a2558d71",
        "colab": {
          "base_uri": "https://localhost:8080/",
          "height": 1000
        }
      },
      "source": [
        "import numpy as np\n",
        "import pandas as pd\n",
        "\n",
        "population = 1000\n",
        "tx = 1500\n",
        "days = 500\n",
        "val = np.zeros(population)\n",
        "seq = np.zeros(days)\n",
        "seq2 = np.zeros(days)\n",
        "seq3 = np.zeros(days)\n",
        "\n",
        "def generate_tx(population = 1000, tx = 1500):\n",
        "    population = population\n",
        "\n",
        "    list = np.arange(population)\n",
        "    count = np.zeros(population)\n",
        "    valid = np.ones(population)\n",
        "    avgtx = tx/population\n",
        "\n",
        "    pairs = np.zeros((tx, 2))\n",
        "\n",
        "    for i in range(tx):\n",
        "        try:\n",
        "            sender = np.random.choice(list[valid == 1])\n",
        "            receiver = np.random.choice(list[np.logical_and(valid == 1, list != sender)])\n",
        "            count[sender] += 1\n",
        "            count[receiver] += 1\n",
        "            if count[sender] == int(avgtx * 2):\n",
        "                valid[sender] = 0\n",
        "            if count[receiver] == int(avgtx * 2):\n",
        "                valid[receiver] = 0\n",
        "            pairs[i] = np.array([sender,receiver])\n",
        "        except:\n",
        "            if valid.sum() < 2:\n",
        "                print('One valid left: ' + str(list[valid == 1]))\n",
        "                pairs = pairs[:-1]\n",
        "                continue\n",
        "            else:\n",
        "                print('Fatal Error on iteration: ' + str(i))\n",
        "\n",
        "    tx = pd.DataFrame(pairs, columns = ['sender', 'receiver'])\n",
        "    tx.sender = tx.sender.apply(int)\n",
        "    tx.receiver = tx.receiver.apply(int)\n",
        "    return tx\n",
        "\n",
        "for day in range(days):\n",
        "  if day % 100 == 0:\n",
        "    print(day)\n",
        "  trans = generate_tx(population, tx)\n",
        "  for index, row in trans.iterrows():\n",
        "    val[0] += 1\n",
        "    tmax = max(val[row['sender']], val[row['receiver']])\n",
        "    val[row['sender']] = tmax\n",
        "    val[row['receiver']] = tmax\n",
        "  seq[day] = np.average(val)\n",
        "  seq2[day] = max(val) - min(val)\n",
        "  seq3[day] = val[0] - np.average(val)\n",
        "\n"
      ],
      "execution_count": 33,
      "outputs": [
        {
          "output_type": "stream",
          "text": [
            "0\n",
            "1\n",
            "2\n",
            "3\n",
            "4\n",
            "5\n",
            "6\n",
            "7\n",
            "8\n",
            "One valid left: [881]\n",
            "9\n",
            "10\n",
            "11\n",
            "12\n",
            "13\n",
            "One valid left: [73]\n",
            "14\n",
            "15\n",
            "16\n",
            "17\n",
            "18\n",
            "19\n",
            "20\n",
            "21\n",
            "22\n",
            "23\n",
            "24\n",
            "One valid left: [833]\n",
            "25\n",
            "26\n",
            "27\n",
            "28\n",
            "29\n",
            "30\n",
            "31\n",
            "One valid left: [935]\n",
            "32\n",
            "33\n",
            "One valid left: [45]\n",
            "34\n",
            "35\n",
            "36\n",
            "37\n",
            "38\n",
            "39\n",
            "40\n",
            "41\n",
            "42\n",
            "One valid left: [459]\n",
            "43\n",
            "44\n",
            "45\n",
            "46\n",
            "47\n",
            "One valid left: [38]\n",
            "48\n",
            "49\n",
            "50\n",
            "51\n",
            "One valid left: [171]\n",
            "52\n",
            "53\n",
            "One valid left: [583]\n",
            "54\n",
            "55\n",
            "56\n",
            "57\n",
            "58\n",
            "59\n",
            "60\n",
            "One valid left: [329]\n",
            "61\n",
            "62\n",
            "63\n",
            "64\n",
            "One valid left: [120]\n",
            "65\n",
            "One valid left: [802]\n",
            "66\n",
            "67\n",
            "68\n",
            "69\n",
            "70\n",
            "71\n",
            "72\n",
            "73\n",
            "74\n",
            "75\n",
            "76\n",
            "77\n",
            "78\n",
            "79\n",
            "80\n",
            "81\n",
            "82\n",
            "One valid left: [848]\n",
            "83\n",
            "84\n",
            "85\n",
            "86\n",
            "One valid left: [617]\n",
            "87\n",
            "88\n",
            "89\n",
            "90\n",
            "91\n",
            "92\n",
            "93\n",
            "94\n",
            "95\n",
            "96\n",
            "97\n",
            "One valid left: [497]\n",
            "98\n",
            "99\n",
            "100\n",
            "101\n",
            "102\n",
            "103\n",
            "One valid left: [811]\n",
            "104\n",
            "105\n",
            "106\n",
            "107\n",
            "108\n",
            "109\n",
            "110\n",
            "111\n",
            "112\n",
            "One valid left: [92]\n",
            "113\n",
            "114\n",
            "115\n",
            "116\n",
            "One valid left: [565]\n",
            "117\n",
            "118\n",
            "119\n",
            "One valid left: [697]\n",
            "120\n",
            "121\n",
            "122\n",
            "One valid left: [185]\n",
            "123\n",
            "124\n",
            "125\n",
            "126\n",
            "127\n",
            "128\n",
            "129\n",
            "130\n",
            "131\n",
            "132\n",
            "133\n",
            "134\n",
            "135\n",
            "136\n",
            "137\n",
            "138\n",
            "139\n",
            "140\n",
            "141\n",
            "One valid left: [430]\n",
            "142\n",
            "143\n",
            "144\n",
            "145\n",
            "146\n",
            "147\n",
            "148\n",
            "149\n",
            "One valid left: [469]\n",
            "150\n",
            "One valid left: [409]\n",
            "151\n",
            "152\n",
            "153\n",
            "154\n",
            "155\n",
            "156\n",
            "157\n",
            "158\n",
            "159\n",
            "One valid left: [864]\n",
            "160\n",
            "161\n",
            "162\n",
            "163\n",
            "One valid left: [624]\n",
            "164\n",
            "165\n",
            "166\n",
            "One valid left: [344]\n",
            "167\n",
            "One valid left: [222]\n",
            "168\n",
            "169\n",
            "170\n",
            "171\n",
            "172\n",
            "173\n",
            "One valid left: [878]\n",
            "174\n",
            "One valid left: [252]\n",
            "175\n",
            "176\n",
            "177\n",
            "178\n",
            "179\n",
            "180\n",
            "181\n",
            "182\n",
            "183\n",
            "184\n",
            "185\n",
            "186\n",
            "187\n",
            "188\n",
            "189\n",
            "190\n",
            "191\n",
            "192\n",
            "193\n",
            "194\n",
            "One valid left: [465]\n",
            "195\n",
            "196\n",
            "197\n",
            "198\n",
            "One valid left: [344]\n",
            "199\n",
            "200\n",
            "201\n",
            "202\n",
            "203\n",
            "204\n",
            "205\n",
            "206\n",
            "207\n",
            "208\n",
            "One valid left: [897]\n",
            "209\n",
            "210\n",
            "211\n",
            "212\n",
            "213\n",
            "214\n",
            "215\n",
            "216\n",
            "217\n",
            "218\n",
            "219\n",
            "220\n",
            "One valid left: [154]\n",
            "221\n",
            "222\n",
            "223\n",
            "224\n",
            "225\n",
            "226\n",
            "227\n",
            "228\n",
            "229\n",
            "230\n",
            "231\n",
            "232\n",
            "233\n",
            "234\n",
            "235\n",
            "236\n",
            "237\n",
            "238\n",
            "239\n",
            "240\n",
            "241\n",
            "242\n",
            "243\n",
            "One valid left: [351]\n",
            "244\n",
            "245\n",
            "One valid left: [317]\n",
            "246\n",
            "247\n",
            "248\n",
            "249\n",
            "One valid left: [989]\n",
            "250\n",
            "251\n",
            "252\n",
            "253\n",
            "254\n",
            "255\n",
            "256\n",
            "257\n",
            "258\n",
            "259\n",
            "260\n",
            "261\n",
            "262\n",
            "263\n",
            "264\n",
            "265\n",
            "266\n",
            "267\n",
            "268\n",
            "269\n",
            "270\n",
            "271\n",
            "272\n",
            "273\n",
            "274\n",
            "One valid left: [908]\n",
            "275\n",
            "276\n",
            "277\n",
            "One valid left: [137]\n",
            "278\n",
            "279\n",
            "280\n",
            "281\n",
            "282\n",
            "283\n",
            "284\n",
            "285\n",
            "One valid left: [227]\n",
            "286\n",
            "One valid left: [512]\n",
            "287\n",
            "One valid left: [604]\n",
            "288\n",
            "289\n",
            "290\n",
            "291\n",
            "One valid left: [804]\n",
            "292\n",
            "293\n",
            "294\n",
            "295\n",
            "296\n",
            "297\n",
            "298\n",
            "299\n",
            "300\n",
            "301\n",
            "One valid left: [736]\n",
            "302\n",
            "One valid left: [612]\n",
            "303\n",
            "304\n",
            "305\n",
            "306\n",
            "307\n",
            "308\n",
            "309\n",
            "310\n",
            "311\n",
            "312\n",
            "313\n",
            "One valid left: [943]\n",
            "314\n",
            "315\n",
            "316\n",
            "317\n",
            "318\n",
            "319\n",
            "320\n",
            "321\n",
            "322\n",
            "323\n",
            "324\n",
            "325\n",
            "326\n",
            "327\n",
            "One valid left: [124]\n",
            "328\n",
            "One valid left: [726]\n",
            "329\n",
            "330\n",
            "331\n",
            "332\n",
            "One valid left: [897]\n",
            "333\n",
            "334\n",
            "335\n",
            "336\n",
            "337\n",
            "338\n",
            "339\n",
            "340\n",
            "341\n",
            "342\n",
            "343\n",
            "344\n",
            "345\n",
            "One valid left: [956]\n",
            "346\n",
            "One valid left: [895]\n",
            "347\n",
            "348\n",
            "349\n",
            "350\n",
            "351\n",
            "352\n",
            "353\n",
            "One valid left: [824]\n",
            "354\n",
            "355\n",
            "356\n",
            "357\n",
            "One valid left: [943]\n",
            "358\n",
            "359\n",
            "360\n",
            "One valid left: [72]\n",
            "361\n",
            "362\n",
            "363\n",
            "364\n",
            "365\n",
            "366\n",
            "367\n",
            "One valid left: [448]\n",
            "368\n",
            "369\n",
            "One valid left: [789]\n",
            "370\n",
            "371\n",
            "372\n",
            "373\n",
            "374\n",
            "One valid left: [132]\n",
            "375\n",
            "376\n",
            "377\n",
            "378\n",
            "379\n",
            "380\n",
            "381\n",
            "One valid left: [503]\n",
            "382\n",
            "One valid left: [60]\n",
            "383\n",
            "384\n",
            "385\n",
            "One valid left: [923]\n",
            "386\n",
            "387\n",
            "388\n",
            "389\n",
            "390\n",
            "One valid left: [558]\n",
            "391\n",
            "392\n",
            "393\n",
            "394\n",
            "395\n",
            "396\n",
            "397\n",
            "398\n",
            "399\n",
            "400\n",
            "401\n",
            "402\n",
            "403\n",
            "404\n",
            "405\n",
            "406\n",
            "407\n",
            "408\n",
            "409\n",
            "410\n",
            "411\n",
            "412\n",
            "413\n",
            "414\n",
            "415\n",
            "416\n",
            "417\n",
            "418\n",
            "419\n",
            "420\n",
            "421\n",
            "422\n",
            "423\n",
            "424\n",
            "One valid left: [108]\n",
            "425\n",
            "426\n",
            "427\n",
            "428\n",
            "429\n",
            "430\n",
            "One valid left: [733]\n",
            "431\n",
            "432\n",
            "433\n",
            "434\n",
            "435\n",
            "436\n",
            "437\n",
            "One valid left: [381]\n",
            "438\n",
            "439\n",
            "440\n",
            "441\n",
            "442\n",
            "443\n",
            "444\n",
            "445\n",
            "446\n",
            "447\n",
            "448\n",
            "449\n",
            "450\n",
            "451\n",
            "452\n",
            "453\n",
            "454\n",
            "455\n",
            "456\n",
            "457\n",
            "One valid left: [691]\n",
            "458\n",
            "459\n",
            "One valid left: [144]\n",
            "460\n",
            "461\n",
            "462\n",
            "One valid left: [490]\n",
            "463\n",
            "One valid left: [601]\n",
            "464\n",
            "465\n",
            "466\n",
            "One valid left: [707]\n",
            "467\n",
            "468\n",
            "469\n",
            "470\n",
            "471\n",
            "472\n",
            "473\n",
            "474\n",
            "475\n",
            "476\n",
            "477\n",
            "478\n",
            "479\n",
            "480\n",
            "481\n",
            "482\n",
            "483\n",
            "484\n",
            "485\n",
            "One valid left: [542]\n",
            "486\n",
            "487\n",
            "488\n",
            "489\n",
            "490\n",
            "One valid left: [74]\n",
            "491\n",
            "492\n",
            "493\n",
            "494\n",
            "495\n",
            "496\n",
            "One valid left: [870]\n",
            "497\n",
            "One valid left: [807]\n",
            "498\n",
            "499\n"
          ],
          "name": "stdout"
        }
      ]
    },
    {
      "cell_type": "code",
      "metadata": {
        "id": "Rc2siOFCpVO-",
        "colab_type": "code",
        "outputId": "d5648ab3-09c6-4231-a98f-60ba87a893a7",
        "colab": {
          "base_uri": "https://localhost:8080/",
          "height": 321
        }
      },
      "source": [
        "rseq = np.linspace(0, days*tx, num = days)\n",
        "print(len(rseq))\n",
        "print(len(seq))\n",
        "con = pd.DataFrame(data = {'Real Time' : rseq, 'Propagated Time': seq})\n",
        "con.plot()"
      ],
      "execution_count": 34,
      "outputs": [
        {
          "output_type": "stream",
          "text": [
            "500\n",
            "500\n"
          ],
          "name": "stdout"
        },
        {
          "output_type": "execute_result",
          "data": {
            "text/plain": [
              "<matplotlib.axes._subplots.AxesSubplot at 0x7fa50e1a0cc0>"
            ]
          },
          "metadata": {
            "tags": []
          },
          "execution_count": 34
        },
        {
          "output_type": "display_data",
          "data": {
            "image/png": "[encoded data removed]",
            "text/plain": [
              "<Figure size 432x288 with 1 Axes>"
            ]
          },
          "metadata": {
            "tags": []
          }
        }
      ]
    },
    {
      "cell_type": "code",
      "metadata": {
        "id": "7WOcKdscpYr7",
        "colab_type": "code",
        "outputId": "1b01f3a1-f15d-47d7-d17a-d01c569377f8",
        "colab": {
          "base_uri": "https://localhost:8080/",
          "height": 284
        }
      },
      "source": [
        "pd.DataFrame(seq2).plot()"
      ],
      "execution_count": 35,
      "outputs": [
        {
          "output_type": "execute_result",
          "data": {
            "text/plain": [
              "<matplotlib.axes._subplots.AxesSubplot at 0x7fa50e1a0c18>"
            ]
          },
          "metadata": {
            "tags": []
          },
          "execution_count": 35
        },
        {
          "output_type": "display_data",
          "data": {
            "image/png": "[encoded data removed]",
            "text/plain": [
              "<Figure size 432x288 with 1 Axes>"
            ]
          },
          "metadata": {
            "tags": []
          }
        }
      ]
    },
    {
      "cell_type": "code",
      "metadata": {
        "id": "3xK90ShBpdX6",
        "colab_type": "code",
        "outputId": "b9ceff7a-9525-45bd-c76f-653de93032d4",
        "colab": {
          "base_uri": "https://localhost:8080/",
          "height": 284
        }
      },
      "source": [
        "pd.DataFrame(seq3).plot()"
      ],
      "execution_count": 36,
      "outputs": [
        {
          "output_type": "execute_result",
          "data": {
            "text/plain": [
              "<matplotlib.axes._subplots.AxesSubplot at 0x7fa50e0f1940>"
            ]
          },
          "metadata": {
            "tags": []
          },
          "execution_count": 36
        },
        {
          "output_type": "display_data",
          "data": {
            "image/png": "[encoded data removed]",
            "text/plain": [
              "<Figure size 432x288 with 1 Axes>"
            ]
          },
          "metadata": {
            "tags": []
          }
        }
      ]
    },
    {
      "cell_type": "code",
      "metadata": {
        "id": "95DmK5BvPaEw",
        "colab_type": "code",
        "colab": {
          "base_uri": "https://localhost:8080/",
          "height": 284
        },
        "outputId": "d7871671-3586-40eb-e749-5841d64ebcab"
      },
      "source": [
        "pd.DataFrame(val).plot.hist(bins=100)"
      ],
      "execution_count": 37,
      "outputs": [
        {
          "output_type": "execute_result",
          "data": {
            "text/plain": [
              "<matplotlib.axes._subplots.AxesSubplot at 0x7fa50e1b92b0>"
            ]
          },
          "metadata": {
            "tags": []
          },
          "execution_count": 37
        },
        {
          "output_type": "display_data",
          "data": {
            "image/png": "[encoded data removed]",
            "text/plain": [
              "<Figure size 432x288 with 1 Axes>"
            ]
          },
          "metadata": {
            "tags": []
          }
        }
      ]
    },
    {
      "cell_type": "code",
      "metadata": {
        "id": "RLTUPrSpStSA",
        "colab_type": "code",
        "colab": {
          "base_uri": "https://localhost:8080/",
          "height": 1000
        },
        "outputId": "f5fc02fc-0a57-4fa4-d1b4-c0a2ed165c1c"
      },
      "source": [
        "import numpy as np\n",
        "import pandas as pd\n",
        "\n",
        "population = 1000\n",
        "tx = 4500\n",
        "days = 500\n",
        "val = np.zeros(population)\n",
        "seq = np.zeros(days)\n",
        "seq2 = np.zeros(days)\n",
        "seq3 = np.zeros(days)\n",
        "\n",
        "def generate_tx(population = 1000, tx = 1500):\n",
        "    population = population\n",
        "\n",
        "    list = np.arange(population)\n",
        "    count = np.zeros(population)\n",
        "    valid = np.ones(population)\n",
        "    avgtx = tx/population\n",
        "\n",
        "    pairs = np.zeros((tx, 2))\n",
        "\n",
        "    for i in range(tx):\n",
        "        try:\n",
        "            sender = np.random.choice(list[valid == 1])\n",
        "            receiver = np.random.choice(list[np.logical_and(valid == 1, list != sender)])\n",
        "            count[sender] += 1\n",
        "            count[receiver] += 1\n",
        "            if count[sender] == int(avgtx * 2):\n",
        "                valid[sender] = 0\n",
        "            if count[receiver] == int(avgtx * 2):\n",
        "                valid[receiver] = 0\n",
        "            pairs[i] = np.array([sender,receiver])\n",
        "        except:\n",
        "            if valid.sum() < 2:\n",
        "                print('One valid left: ' + str(list[valid == 1]))\n",
        "                pairs = pairs[:-1]\n",
        "                continue\n",
        "            else:\n",
        "                print('Fatal Error on iteration: ' + str(i))\n",
        "\n",
        "    tx = pd.DataFrame(pairs, columns = ['sender', 'receiver'])\n",
        "    tx.sender = tx.sender.apply(int)\n",
        "    tx.receiver = tx.receiver.apply(int)\n",
        "    return tx\n",
        "\n",
        "for day in range(days):\n",
        "  if day % 100 == 0:\n",
        "    print(day)\n",
        "  trans = generate_tx(population, tx)\n",
        "  for index, row in trans.iterrows():\n",
        "    val[:100] += 1\n",
        "    tmax = max(val[row['sender']], val[row['receiver']])\n",
        "    val[row['sender']] = tmax\n",
        "    val[row['receiver']] = tmax\n",
        "  seq[day] = np.average(val)\n",
        "  seq2[day] = max(val) - min(val)\n",
        "  seq3[day] = val[0] - np.average(val)\n",
        "\n"
      ],
      "execution_count": 38,
      "outputs": [
        {
          "output_type": "stream",
          "text": [
            "0\n",
            "One valid left: [910]\n",
            "One valid left: [705]\n",
            "One valid left: [997]\n",
            "One valid left: [690]\n",
            "One valid left: [831]\n",
            "One valid left: [762]\n",
            "One valid left: [292]\n",
            "One valid left: [641]\n",
            "One valid left: [641]\n",
            "One valid left: [929]\n",
            "One valid left: [419]\n",
            "One valid left: [458]\n",
            "One valid left: [124]\n",
            "One valid left: [121]\n",
            "One valid left: [386]\n",
            "One valid left: [54]\n",
            "One valid left: [251]\n",
            "One valid left: [411]\n",
            "One valid left: [642]\n",
            "One valid left: [555]\n",
            "One valid left: [99]\n",
            "One valid left: [396]\n",
            "One valid left: [396]\n",
            "One valid left: [183]\n",
            "One valid left: [818]\n",
            "One valid left: [10]\n",
            "One valid left: [348]\n",
            "One valid left: [822]\n",
            "One valid left: [925]\n",
            "One valid left: [925]\n",
            "One valid left: [371]\n",
            "One valid left: [55]\n",
            "One valid left: [179]\n",
            "One valid left: [943]\n",
            "One valid left: [635]\n",
            "One valid left: [451]\n",
            "One valid left: [616]\n",
            "One valid left: [388]\n",
            "100\n",
            "One valid left: [867]\n",
            "One valid left: [298]\n",
            "One valid left: [762]\n",
            "One valid left: [762]\n",
            "One valid left: [12]\n",
            "One valid left: [490]\n",
            "One valid left: [20]\n",
            "One valid left: [967]\n",
            "One valid left: [813]\n",
            "One valid left: [453]\n",
            "One valid left: [209]\n",
            "One valid left: [226]\n",
            "One valid left: [970]\n",
            "One valid left: [276]\n",
            "One valid left: [400]\n",
            "One valid left: [676]\n",
            "One valid left: [77]\n",
            "One valid left: [662]\n",
            "One valid left: [345]\n",
            "One valid left: [434]\n",
            "One valid left: [164]\n",
            "One valid left: [398]\n",
            "One valid left: [774]\n",
            "One valid left: [535]\n",
            "One valid left: [586]\n",
            "One valid left: [825]\n",
            "One valid left: [104]\n",
            "One valid left: [499]\n",
            "One valid left: [625]\n",
            "One valid left: [220]\n",
            "One valid left: [866]\n",
            "One valid left: [866]\n",
            "One valid left: [245]\n",
            "One valid left: [939]\n",
            "One valid left: [363]\n",
            "One valid left: [232]\n",
            "One valid left: [65]\n",
            "One valid left: [486]\n",
            "One valid left: [962]\n",
            "200\n",
            "One valid left: [274]\n",
            "One valid left: [612]\n",
            "One valid left: [716]\n",
            "One valid left: [499]\n",
            "One valid left: [419]\n",
            "One valid left: [419]\n",
            "One valid left: [456]\n",
            "One valid left: [527]\n",
            "One valid left: [481]\n",
            "One valid left: [154]\n",
            "One valid left: [663]\n",
            "One valid left: [37]\n",
            "One valid left: [397]\n",
            "One valid left: [584]\n",
            "One valid left: [718]\n",
            "One valid left: [280]\n",
            "One valid left: [610]\n",
            "One valid left: [610]\n",
            "One valid left: [279]\n",
            "One valid left: [819]\n",
            "One valid left: [469]\n",
            "One valid left: [645]\n",
            "One valid left: [164]\n",
            "One valid left: [463]\n",
            "One valid left: [318]\n",
            "One valid left: [318]\n",
            "One valid left: [625]\n",
            "One valid left: [134]\n",
            "One valid left: [100]\n",
            "One valid left: [858]\n",
            "One valid left: [670]\n",
            "One valid left: [160]\n",
            "One valid left: [870]\n",
            "One valid left: [297]\n",
            "One valid left: [96]\n",
            "One valid left: [160]\n",
            "One valid left: [749]\n",
            "300\n",
            "One valid left: [729]\n",
            "One valid left: [664]\n",
            "One valid left: [139]\n",
            "One valid left: [615]\n",
            "One valid left: [711]\n",
            "One valid left: [120]\n",
            "One valid left: [752]\n",
            "One valid left: [617]\n",
            "One valid left: [799]\n",
            "One valid left: [778]\n",
            "One valid left: [666]\n",
            "One valid left: [406]\n",
            "One valid left: [972]\n",
            "One valid left: [837]\n",
            "One valid left: [837]\n",
            "One valid left: [557]\n",
            "One valid left: [54]\n",
            "One valid left: [581]\n",
            "One valid left: [285]\n",
            "One valid left: [800]\n",
            "One valid left: [404]\n",
            "One valid left: [865]\n",
            "One valid left: [202]\n",
            "One valid left: [45]\n",
            "One valid left: [798]\n",
            "One valid left: [403]\n",
            "One valid left: [656]\n",
            "One valid left: [630]\n",
            "One valid left: [620]\n",
            "One valid left: [46]\n",
            "One valid left: [294]\n",
            "One valid left: [264]\n",
            "One valid left: [161]\n",
            "One valid left: [56]\n",
            "One valid left: [918]\n",
            "400\n",
            "One valid left: [330]\n",
            "One valid left: [917]\n",
            "One valid left: [421]\n",
            "One valid left: [603]\n",
            "One valid left: [774]\n",
            "One valid left: [699]\n",
            "One valid left: [662]\n",
            "One valid left: [139]\n",
            "One valid left: [889]\n",
            "One valid left: [790]\n",
            "One valid left: [12]\n",
            "One valid left: [482]\n",
            "One valid left: [443]\n",
            "One valid left: [749]\n",
            "One valid left: [578]\n",
            "One valid left: [418]\n",
            "One valid left: [418]\n",
            "One valid left: [405]\n",
            "One valid left: [405]\n",
            "One valid left: [299]\n",
            "One valid left: [953]\n",
            "One valid left: [506]\n",
            "One valid left: [985]\n",
            "One valid left: [49]\n",
            "One valid left: [820]\n",
            "One valid left: [820]\n",
            "One valid left: [468]\n",
            "One valid left: [103]\n",
            "One valid left: [448]\n",
            "One valid left: [889]\n",
            "One valid left: [620]\n",
            "One valid left: [736]\n",
            "One valid left: [641]\n",
            "One valid left: [678]\n",
            "One valid left: [71]\n",
            "One valid left: [389]\n",
            "One valid left: [990]\n",
            "One valid left: [18]\n",
            "One valid left: [176]\n",
            "One valid left: [137]\n",
            "One valid left: [328]\n",
            "One valid left: [998]\n",
            "One valid left: [392]\n",
            "One valid left: [118]\n",
            "One valid left: [118]\n",
            "One valid left: [303]\n"
          ],
          "name": "stdout"
        }
      ]
    },
    {
      "cell_type": "code",
      "metadata": {
        "id": "_SLBFs3RS5Q5",
        "colab_type": "code",
        "colab": {
          "base_uri": "https://localhost:8080/",
          "height": 321
        },
        "outputId": "39613a3a-5d28-4273-90a9-80fc08b5ce8a"
      },
      "source": [
        "rseq = np.linspace(0, days*tx, num = days)\n",
        "print(len(rseq))\n",
        "print(len(seq))\n",
        "con = pd.DataFrame(data = {'Real Time' : rseq, 'Propagated Time': seq})\n",
        "con.plot()"
      ],
      "execution_count": 40,
      "outputs": [
        {
          "output_type": "stream",
          "text": [
            "500\n",
            "500\n"
          ],
          "name": "stdout"
        },
        {
          "output_type": "execute_result",
          "data": {
            "text/plain": [
              "<matplotlib.axes._subplots.AxesSubplot at 0x7fa50deaeb00>"
            ]
          },
          "metadata": {
            "tags": []
          },
          "execution_count": 40
        },
        {
          "output_type": "display_data",
          "data": {
            "image/png": "[encoded data removed]",
            "text/plain": [
              "<Figure size 432x288 with 1 Axes>"
            ]
          },
          "metadata": {
            "tags": []
          }
        }
      ]
    },
    {
      "cell_type": "code",
      "metadata": {
        "id": "2HdNireuYc04",
        "colab_type": "code",
        "colab": {
          "base_uri": "https://localhost:8080/",
          "height": 284
        },
        "outputId": "a4a34fd0-44b5-454a-a522-f4547ef15249"
      },
      "source": [
        "pd.DataFrame(seq2).plot()"
      ],
      "execution_count": 41,
      "outputs": [
        {
          "output_type": "execute_result",
          "data": {
            "text/plain": [
              "<matplotlib.axes._subplots.AxesSubplot at 0x7fa50e1d4eb8>"
            ]
          },
          "metadata": {
            "tags": []
          },
          "execution_count": 41
        },
        {
          "output_type": "display_data",
          "data": {
            "image/png": "[encoded data removed]",
            "text/plain": [
              "<Figure size 432x288 with 1 Axes>"
            ]
          },
          "metadata": {
            "tags": []
          }
        }
      ]
    },
    {
      "cell_type": "code",
      "metadata": {
        "id": "u2EXImG3Yg4_",
        "colab_type": "code",
        "colab": {
          "base_uri": "https://localhost:8080/",
          "height": 284
        },
        "outputId": "4add6013-29bd-4e4a-dd55-f437addb8985"
      },
      "source": [
        "pd.DataFrame(seq3).plot()"
      ],
      "execution_count": 42,
      "outputs": [
        {
          "output_type": "execute_result",
          "data": {
            "text/plain": [
              "<matplotlib.axes._subplots.AxesSubplot at 0x7fa50e687ac8>"
            ]
          },
          "metadata": {
            "tags": []
          },
          "execution_count": 42
        },
        {
          "output_type": "display_data",
          "data": {
            "image/png": "[encoded data removed]",
            "text/plain": [
              "<Figure size 432x288 with 1 Axes>"
            ]
          },
          "metadata": {
            "tags": []
          }
        }
      ]
    },
    {
      "cell_type": "code",
      "metadata": {
        "id": "hezO-CGNYi4s",
        "colab_type": "code",
        "colab": {
          "base_uri": "https://localhost:8080/",
          "height": 284
        },
        "outputId": "818d327b-b850-4aa3-b580-6322b9429255"
      },
      "source": [
        "pd.DataFrame(val).plot.hist(bins=100)"
      ],
      "execution_count": 43,
      "outputs": [
        {
          "output_type": "execute_result",
          "data": {
            "text/plain": [
              "<matplotlib.axes._subplots.AxesSubplot at 0x7fa50ddaa860>"
            ]
          },
          "metadata": {
            "tags": []
          },
          "execution_count": 43
        },
        {
          "output_type": "display_data",
          "data": {
            "image/png": "[encoded data removed]",
            "text/plain": [
              "<Figure size 432x288 with 1 Axes>"
            ]
          },
          "metadata": {
            "tags": []
          }
        }
      ]
    }
  ]
}