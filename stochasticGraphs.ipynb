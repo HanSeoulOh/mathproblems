{
  "nbformat": 4,
  "nbformat_minor": 0,
  "metadata": {
    "colab": {
      "name": "stochasticGraphs.ipynb",
      "provenance": [],
      "include_colab_link": true
    },
    "kernelspec": {
      "name": "python3",
      "display_name": "Python 3"
    }
  },
  "cells": [
    {
      "cell_type": "markdown",
      "metadata": {
        "id": "view-in-github",
        "colab_type": "text"
      },
      "source": [
        "<a href=\"https://colab.research.google.com/github/HanSeoulOh/mathproblems/blob/master/stochasticGraphs.ipynb\" target=\"_parent\"><img src=\"https://colab.research.google.com/assets/colab-badge.svg\" alt=\"Open In Colab\"/></a>"
      ]
    },
    {
      "cell_type": "markdown",
      "metadata": {
        "id": "Ry-gWSRQKBe1",
        "colab_type": "text"
      },
      "source": [
        "# Stochastic Processes in Graphs\n",
        "##### Han Du\n",
        "\n",
        "The purposes of this notebook is to study stochastic processes and algorithms on graphs.\n",
        "\n",
        "We will study random graphs $G = (N, p)$ where $N$ is fixed number of vertices and $p$ represents the probability of an edge being included.\n",
        "\n",
        "We will represent graphs as an adjacency matrix $A$ of $G$.\n",
        "\n",
        "$A_{i,j} = 1$ if there is an interaction between node i and node j.\n",
        "\n",
        "$A_{i,i}$ represents the value stored by node i.\n"
      ]
    },
    {
      "cell_type": "markdown",
      "metadata": {
        "id": "j6oZ9Nh8Oofn",
        "colab_type": "text"
      },
      "source": [
        "####Helper Code"
      ]
    },
    {
      "cell_type": "code",
      "metadata": {
        "id": "_XEaP8SZOf5S",
        "colab_type": "code",
        "colab": {}
      },
      "source": [
        "import numpy as np\n",
        "import networkx as nx\n",
        "import matplotlib.pyplot as plt\n",
        "from functools import reduce\n",
        "import seaborn as sns\n",
        "import pandas as pd\n",
        "\n",
        "\n",
        "# graph initialization\n",
        "\n",
        "n = 10\n",
        "p = 0.5\n",
        "\n",
        "def initializeGraph(n, p):\n",
        "    upperDiagIndices = np.triu_indices(n, 1)\n",
        "    A = np.zeros((n, n))\n",
        "    return upperDiagIndices, A\n",
        "\n",
        "def randomizeEdges(A, n, p):\n",
        "    m = map((lambda x: x < p), np.random.rand(int((n-1) * n / 2)))\n",
        "    edges = np.array([1 if e else 0 for e in m])\n",
        "    A[upperDiagIndices] = edges\n",
        "    return A\n",
        "\n",
        "\n",
        "def randomAccumulate(A, n, p):\n",
        "    randIdx = np.random.randint(low = 0, high = n)\n",
        "    A[randIdx, randIdx] += 1\n",
        "    return A\n",
        "\n",
        "\n",
        "def drawGraph(A):\n",
        "    nxA = nx.from_numpy_matrix(A)\n",
        "    labelDict = dict(zip(nxA, np.diag(A).astype(int).tolist()))\n",
        "    nx.draw(nxA, labels = labelDict)\n",
        "    ax = plt.gca()\n",
        "    ax.set_aspect('equal')\n",
        "\n",
        "\n",
        "def oneStepPropagation(A):\n",
        "    changed = []\n",
        "    for i, row in enumerate(A):\n",
        "        for j, column in enumerate(row):\n",
        "            if i != j:\n",
        "                if A[i, j] == 1 and i not in changed and j not in changed:\n",
        "                    maxIJ = max(A[i, i], A[j, j])\n",
        "                    if A[i, i] < maxIJ:\n",
        "                        changed.append(i)\n",
        "                    elif A[j, j] < maxIJ:\n",
        "                        changed.append(j)\n",
        "                    else:\n",
        "                      pass\n",
        "                    A[i, i] = maxIJ\n",
        "                    A[j, j] = maxIJ\n",
        "    return A\n",
        "    # print(changed)\n",
        "\n",
        "\n",
        "def checkAllEqual(A):\n",
        "    return (np.diag(A) == A[0,0]).all()\n"
      ],
      "execution_count": 0,
      "outputs": []
    },
    {
      "cell_type": "markdown",
      "metadata": {
        "id": "Zg2bIJzNN7vR",
        "colab_type": "text"
      },
      "source": [
        "\n",
        "### Generating Degree Sequences\n",
        "\n",
        "The degree sequence of an undirected graph is the non-increasing sequence of its vertex degrees.\n",
        "The degree sequence is a graph invariant so isomorphic graphs have the same degree sequence.\n",
        "In some cases, non-isomorphic graphs have the same degree sequence.\n",
        "\n",
        "In a $k$-connected graph of $N$ edges, we have a degree sequence $S = (k, ..., k)$ where $|S| = N$\n",
        "\n",
        "\n"
      ]
    },
    {
      "cell_type": "markdown",
      "metadata": {
        "id": "-okzNJ3MN-Ys",
        "colab_type": "text"
      },
      "source": [
        "\n",
        "## Constant Information Propagation in a Random Network from a Single Source\n",
        "\n",
        "We start with studying the speed of information propagation in a graph where values of nodes are updated by the rule:\n",
        "\n",
        "$A_{i,j} = 1 \\implies \\max{(A_{i,i},A_{j,j})} \\rightarrow A_{i,i}, A_{j,j}$\n",
        "\n",
        "After an adjacent node is updated, those nodes do not update adjacent nodes until the next time step or iteration of the propagation rule.\n",
        "\n",
        "### Constant information\n",
        "\n",
        "In this section we study how quickly constant information $C$ propagates in a constant sized graph $G = (N, p)$\n",
        "\n",
        "i.e. how many timesteps or iterations of the update rule it takes before $A_{i, i} = A_{j, j} \\; \\forall \\, i,j \\in E(G)$\n"
      ]
    },
    {
      "cell_type": "code",
      "metadata": {
        "id": "RbAs7Y_oKEqH",
        "colab_type": "code",
        "colab": {
          "base_uri": "https://localhost:8080/",
          "height": 34
        },
        "outputId": "3524f0ab-8995-4145-c1b9-a1026457d408"
      },
      "source": [
        "queue = []\n",
        "iterations = 100000\n",
        "for i in range(iterations):\n",
        "    count = 0\n",
        "    upperDiagIndices, A = initializeGraph(n, p)\n",
        "    A = randomizeEdges(A, n, p)\n",
        "    A = randomAccumulate(A, n, p)\n",
        "    # print(A)\n",
        "    while not checkAllEqual(A):\n",
        "        A = randomizeEdges(A, n, p)\n",
        "        A = oneStepPropagation(A)\n",
        "        # print(A)\n",
        "        count +=1\n",
        "    queue.append(count)\n",
        "    count = 0\n",
        "\n",
        "average = sum(queue)/iterations\n",
        "print(\"It takes on average \" + str(average) + \" iterations until the entire network has updated in value.\")"
      ],
      "execution_count": 1,
      "outputs": [
        {
          "output_type": "stream",
          "text": [
            "It takes on average 3.30184 iterations until the entire network has updated in value.\n"
          ],
          "name": "stdout"
        }
      ]
    },
    {
      "cell_type": "code",
      "metadata": {
        "id": "RzEJ0XqVNblu",
        "colab_type": "code",
        "colab": {
          "base_uri": "https://localhost:8080/",
          "height": 286
        },
        "outputId": "44aadc3a-24c1-45f5-d33f-01217cbbc0b9"
      },
      "source": [
        "sns.countplot(list(map(int, queue)))"
      ],
      "execution_count": 2,
      "outputs": [
        {
          "output_type": "execute_result",
          "data": {
            "text/plain": [
              "<matplotlib.axes._subplots.AxesSubplot at 0x7fcc13be3160>"
            ]
          },
          "metadata": {
            "tags": []
          },
          "execution_count": 2
        },
        {
          "output_type": "display_data",
          "data": {
            "image/png": "[encoded data removed]",
            "text/plain": [
              "<Figure size 432x288 with 1 Axes>"
            ]
          },
          "metadata": {
            "tags": []
          }
        }
      ]
    },
    {
      "cell_type": "markdown",
      "metadata": {
        "id": "683_8a4LNeEB",
        "colab_type": "text"
      },
      "source": [
        "### Incrementing information\n",
        "\n",
        "Here we introduce a new concept of incrementing information:\n",
        "\n",
        "i.e. $C_t \\geq C_{t-1} \\; \\forall t$\n",
        "\n",
        "Where $t$ is time and $C_t$ is determined by an arbitrary monotonically increasing function $f(t)$\n",
        "\n",
        "We measure the lag $L$ by:\n",
        "\n",
        "$\\displaystyle L(G_t) = \\sum_{i}^{N}{C_t - A_{i,i}}$\n",
        "\n",
        "For our simulation, we select $f(t) = t$"
      ]
    },
    {
      "cell_type": "code",
      "metadata": {
        "id": "L0a8Nk_2Nh1E",
        "colab_type": "code",
        "colab": {
          "base_uri": "https://localhost:8080/",
          "height": 286
        },
        "outputId": "c685e2b1-dc67-4cd2-bd1c-4fef3d5882db"
      },
      "source": [
        "def randomAssign(A, n, p, t):\n",
        "    randIdx = np.random.randint(low = 0, high = n)\n",
        "    A[randIdx, randIdx] = t\n",
        "    return A\n",
        "\n",
        "def lag(A, t):\n",
        "    return sum(np.ones(np.diag(A).shape) * t - np.diag(A))\n",
        "\n",
        "\n",
        "def f(timestep):\n",
        "    return timestep\n",
        "\n",
        "maxTime = 50\n",
        "iterations = 1000\n",
        "n = 10\n",
        "p = 1\n",
        "lags = np.zeros((iterations, maxTime))\n",
        "for iter in range(iterations):\n",
        "    count = 0\n",
        "    upperDiagIndices, A = initializeGraph(n, p)\n",
        "    A = randomizeEdges(A, n, p)\n",
        "    # print(A)\n",
        "    while count < maxTime:\n",
        "        A = oneStepPropagation(A)\n",
        "        A = randomizeEdges(A, n, p)\n",
        "        A = randomAssign(A, n, p, count)\n",
        "        lags[iter, count] = lag(A, count)\n",
        "        count += 1\n",
        "    count = 0\n",
        "\n",
        "\n",
        "sns.lineplot(data=pd.DataFrame(lags).mean())"
      ],
      "execution_count": 4,
      "outputs": [
        {
          "output_type": "execute_result",
          "data": {
            "text/plain": [
              "<matplotlib.axes._subplots.AxesSubplot at 0x7fcc064816d8>"
            ]
          },
          "metadata": {
            "tags": []
          },
          "execution_count": 4
        },
        {
          "output_type": "display_data",
          "data": {
            "image/png": "[encoded data removed]",
            "text/plain": [
              "<Figure size 432x288 with 1 Axes>"
            ]
          },
          "metadata": {
            "tags": []
          }
        }
      ]
    },
    {
      "cell_type": "markdown",
      "metadata": {
        "id": "CwFod9PhOSMl",
        "colab_type": "text"
      },
      "source": [
        "## Constant Information Propagation in K-Connected Graphs from a Single Source\n",
        "\n",
        "Here we will study the speed of the propagation of a constant information packet in a $k$-connected random graph, using the same information update rule as previous sections.\n",
        "\n",
        "In this section we study how quickly constant information $C$ propagates in a k connected graph $G$ constructed from the degree sequence $(k, ..., k)$\n",
        "\n",
        "i.e. how many timesteps or iterations of the update rule it takes before $A_{i, i} = A_{j, j} \\; \\forall \\, i,j \\in E(G)$\n"
      ]
    },
    {
      "cell_type": "code",
      "metadata": {
        "colab_type": "code",
        "outputId": "a3e135ba-03d3-4ad9-c1af-9ff07c104442",
        "id": "PMcTr-gKTY0T",
        "colab": {
          "base_uri": "https://localhost:8080/",
          "height": 34
        }
      },
      "source": [
        "sequence = [3 for i in range(10)]\n",
        "queue = []\n",
        "iterations = 10000\n",
        "for i in range(iterations):\n",
        "    count = 0\n",
        "    A = nx.to_numpy_matrix(nx.random_degree_sequence_graph(sequence))\n",
        "    # print(A)\n",
        "    A = randomAccumulate(A, n, p)\n",
        "    while not checkAllEqual(A) and count < 100:\n",
        "        A = oneStepPropagation(A)\n",
        "        D = np.diag(A)\n",
        "        # print(A)\n",
        "        count +=1\n",
        "        A = nx.to_numpy_matrix(nx.random_degree_sequence_graph(sequence))\n",
        "        A[np.diag_indices(n)] = np.asmatrix(D)\n",
        "    queue.append(count)\n",
        "    count = 0\n",
        "\n",
        "average = sum(queue)/iterations\n",
        "print(\"It takes on average \" + str(average) + \" iterations until the entire network has updated in value.\")"
      ],
      "execution_count": 8,
      "outputs": [
        {
          "output_type": "stream",
          "text": [
            "It takes on average 10.2736 iterations until the entire network has updated in value.\n"
          ],
          "name": "stdout"
        }
      ]
    },
    {
      "cell_type": "code",
      "metadata": {
        "id": "JlV3BImZeSQa",
        "colab_type": "code",
        "colab": {
          "base_uri": "https://localhost:8080/",
          "height": 286
        },
        "outputId": "303bf52f-2f7f-44c7-8f68-0069486de9cf"
      },
      "source": [
        "sns.countplot(list(map(int, queue)))"
      ],
      "execution_count": 9,
      "outputs": [
        {
          "output_type": "execute_result",
          "data": {
            "text/plain": [
              "<matplotlib.axes._subplots.AxesSubplot at 0x7fd37aef1320>"
            ]
          },
          "metadata": {
            "tags": []
          },
          "execution_count": 9
        },
        {
          "output_type": "display_data",
          "data": {
            "image/png": "[encoded data removed]",
            "text/plain": [
              "<Figure size 432x288 with 1 Axes>"
            ]
          },
          "metadata": {
            "tags": []
          }
        }
      ]
    },
    {
      "cell_type": "code",
      "metadata": {
        "id": "OVU91UxJmXwu",
        "colab_type": "code",
        "colab": {
          "base_uri": "https://localhost:8080/",
          "height": 34
        },
        "outputId": "0092694d-ea46-4edf-c3c0-37cee5648aee"
      },
      "source": [
        "print(\"standard deviation: \" + str(np.std(queue)))"
      ],
      "execution_count": 11,
      "outputs": [
        {
          "output_type": "stream",
          "text": [
            "standard deviation: 3.7847778058956116\n"
          ],
          "name": "stdout"
        }
      ]
    },
    {
      "cell_type": "markdown",
      "metadata": {
        "id": "MDlzDg8FLKoB",
        "colab_type": "text"
      },
      "source": [
        "## Constant Information Propagation in $\\leq$ K-Connected Graphs from a Single Source\n",
        "\n",
        "In this section we study how quickly constant information $C$ propagates in a k connected graph $G$ constructed from the degree sequence $(d_1, ..., d_n)$ where $d_i \\leq k$\n",
        "\n",
        "i.e. how many timesteps or iterations of the update rule it takes before $A_{i, i} = A_{j, j} \\; \\forall \\, i,j \\in E(G)$\n"
      ]
    },
    {
      "cell_type": "code",
      "metadata": {
        "id": "4rNESYXjLwFx",
        "colab_type": "code",
        "colab": {}
      },
      "source": [
        "k = 3\n",
        "queue = []\n",
        "iterations = 10000\n",
        "dsList = []\n",
        "\n",
        "graphList = []\n",
        "for i in range(iterations):\n",
        "    sequence = np.random.poisson(k, 10) + 1\n",
        "    sequence = np.flip(np.sort(sequence))\n",
        "    dsList.append(sequence)\n",
        "\n"
      ],
      "execution_count": 0,
      "outputs": []
    },
    {
      "cell_type": "code",
      "metadata": {
        "id": "PyvhEQ-HXpWl",
        "colab_type": "code",
        "colab": {}
      },
      "source": [
        "validDSList = []\n",
        "for sequence in dsList:\n",
        "    if nx.is_graphical(np.flip(np.sort(sequence))):\n",
        "      validDSList.append(sequence)"
      ],
      "execution_count": 0,
      "outputs": []
    },
    {
      "cell_type": "code",
      "metadata": {
        "id": "EdH9fww2WLB6",
        "colab_type": "code",
        "colab": {}
      },
      "source": [
        "for sequence in validDSList:\n",
        "    try:\n",
        "      G = nx.random_degree_sequence_graph(sequence, None, 1)\n",
        "    except:\n",
        "      pass\n",
        "    if nx.is_connected(G):\n",
        "      A = nx.to_numpy_matrix(G)\n",
        "      graphList.append(A)"
      ],
      "execution_count": 0,
      "outputs": []
    },
    {
      "cell_type": "code",
      "metadata": {
        "id": "IjZbOdBhYJqp",
        "colab_type": "code",
        "colab": {
          "base_uri": "https://localhost:8080/",
          "height": 34
        },
        "outputId": "a98b367c-1f61-46f8-b3cd-eb63283e930e"
      },
      "source": [
        "len(graphList)"
      ],
      "execution_count": 67,
      "outputs": [
        {
          "output_type": "execute_result",
          "data": {
            "text/plain": [
              "4749"
            ]
          },
          "metadata": {
            "tags": []
          },
          "execution_count": 67
        }
      ]
    },
    {
      "cell_type": "code",
      "metadata": {
        "id": "ZrYVo8lMZCZs",
        "colab_type": "code",
        "colab": {
          "base_uri": "https://localhost:8080/",
          "height": 34
        },
        "outputId": "d168a0df-54fb-4109-f270-2d104987da0e"
      },
      "source": [
        "import random\n",
        "for graph in graphList:\n",
        "    count = 0\n",
        "    A = np.zeros((n,n)) + graph\n",
        "    # print(A)\n",
        "    A = randomAccumulate(A, n, p)\n",
        "    while not checkAllEqual(A) and count < 100:\n",
        "        A = oneStepPropagation(A)\n",
        "        D = np.diag(A)\n",
        "        # print(A)\n",
        "        count +=1\n",
        "        A = np.zeros((n,n)) + random.choice(graphList)\n",
        "        A[np.diag_indices(n)] = np.asmatrix(D)\n",
        "    queue.append(count)\n",
        "    count = 0\n",
        "\n",
        "average = sum(queue)/iterations\n",
        "print(\"It takes on average \" + str(average) + \" iterations until the entire network has updated in value.\")"
      ],
      "execution_count": 72,
      "outputs": [
        {
          "output_type": "stream",
          "text": [
            "It takes on average 2.4014 iterations until the entire network has updated in value.\n"
          ],
          "name": "stdout"
        }
      ]
    },
    {
      "cell_type": "code",
      "metadata": {
        "id": "GTKq8x9TZ0rr",
        "colab_type": "code",
        "colab": {
          "base_uri": "https://localhost:8080/",
          "height": 286
        },
        "outputId": "8911924a-90c6-42ab-9911-10379b8ecba3"
      },
      "source": [
        "sns.countplot(list(map(int, queue)))"
      ],
      "execution_count": 73,
      "outputs": [
        {
          "output_type": "execute_result",
          "data": {
            "text/plain": [
              "<matplotlib.axes._subplots.AxesSubplot at 0x7fd377c24e80>"
            ]
          },
          "metadata": {
            "tags": []
          },
          "execution_count": 73
        },
        {
          "output_type": "display_data",
          "data": {
            "image/png": "[encoded data removed]",
            "text/plain": [
              "<Figure size 432x288 with 1 Axes>"
            ]
          },
          "metadata": {
            "tags": []
          }
        }
      ]
    }
  ]
}