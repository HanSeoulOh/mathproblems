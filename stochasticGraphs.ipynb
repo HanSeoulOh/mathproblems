{
  "nbformat": 4,
  "nbformat_minor": 0,
  "metadata": {
    "colab": {
      "name": "stochasticGraphs.ipynb",
      "provenance": [],
      "include_colab_link": true
    },
    "kernelspec": {
      "name": "python3",
      "display_name": "Python 3"
    }
  },
  "cells": [
    {
      "cell_type": "markdown",
      "metadata": {
        "id": "view-in-github",
        "colab_type": "text"
      },
      "source": [
        "<a href=\"https://colab.research.google.com/github/HanSeoulOh/mathproblems/blob/master/stochasticGraphs.ipynb\" target=\"_parent\"><img src=\"https://colab.research.google.com/assets/colab-badge.svg\" alt=\"Open In Colab\"/></a>"
      ]
    },
    {
      "cell_type": "markdown",
      "metadata": {
        "id": "Ry-gWSRQKBe1",
        "colab_type": "text"
      },
      "source": [
        "# Stochastic Processes in Graphs\n",
        "##### Han Du\n",
        "\n",
        "The purposes of this notebook is to study stochastic processes and algorithms on graphs.\n",
        "\n",
        "We will study random graphs $G = (N, p)$ where $N$ is fixed number of vertices and $p$ represents the probability of an edge being included.\n",
        "\n",
        "We will represent graphs as an adjacency matrix $A$ of $G$.\n",
        "\n",
        "$A_{i,j} = 1$ if there is an interaction between node i and node j.\n",
        "\n",
        "$A_{i,i}$ represents the value stored by node i.\n"
      ]
    },
    {
      "cell_type": "markdown",
      "metadata": {
        "id": "j6oZ9Nh8Oofn",
        "colab_type": "text"
      },
      "source": [
        "####Helper Code"
      ]
    },
    {
      "cell_type": "code",
      "metadata": {
        "id": "_XEaP8SZOf5S",
        "colab_type": "code",
        "colab": {}
      },
      "source": [
        "import numpy as np\n",
        "import networkx as nx\n",
        "import matplotlib.pyplot as plt\n",
        "from functools import reduce\n",
        "import seaborn as sns\n",
        "import pandas as pd\n",
        "\n",
        "\n",
        "# graph initialization\n",
        "\n",
        "n = 10\n",
        "p = 0.5\n",
        "\n",
        "def initializeGraph(n, p):\n",
        "    upperDiagIndices = np.triu_indices(n, 1)\n",
        "    A = np.zeros((n, n))\n",
        "    return upperDiagIndices, A\n",
        "\n",
        "def randomizeEdges(A, n, p):\n",
        "    m = map((lambda x: x < p), np.random.rand(int((n-1) * n / 2)))\n",
        "    edges = np.array([1 if e else 0 for e in m])\n",
        "    A[upperDiagIndices] = edges\n",
        "    return A\n",
        "\n",
        "\n",
        "def randomAccumulate(A, n, p):\n",
        "    randIdx = np.random.randint(low = 0, high = n)\n",
        "    A[randIdx, randIdx] += 1\n",
        "    return A\n",
        "\n",
        "\n",
        "def drawGraph(A):\n",
        "    nxA = nx.from_numpy_matrix(A)\n",
        "    labelDict = dict(zip(nxA, np.diag(A).astype(int).tolist()))\n",
        "    nx.draw(nxA, labels = labelDict)\n",
        "    ax = plt.gca()\n",
        "    ax.set_aspect('equal')\n",
        "\n",
        "\n",
        "def oneStepPropagation(A):\n",
        "    changed = []\n",
        "    for i, row in enumerate(A):\n",
        "        for j, column in enumerate(row):\n",
        "            if i != j:\n",
        "                if A[i, j] == 1 and i not in changed and j not in changed:\n",
        "                    maxIJ = max(A[i, i], A[j, j])\n",
        "                    if A[i, i] < maxIJ:\n",
        "                        changed.append(i)\n",
        "                    elif A[j, j] < maxIJ:\n",
        "                        changed.append(j)\n",
        "                    else:\n",
        "                      pass\n",
        "                    A[i, i] = maxIJ\n",
        "                    A[j, j] = maxIJ\n",
        "    return A\n",
        "    # print(changed)\n",
        "\n",
        "\n",
        "def checkAllEqual(A):\n",
        "    return (np.diag(A) == A[0,0]).all()\n"
      ],
      "execution_count": 0,
      "outputs": []
    },
    {
      "cell_type": "markdown",
      "metadata": {
        "id": "Zg2bIJzNN7vR",
        "colab_type": "text"
      },
      "source": [
        "\n",
        "### Generating Degree Sequences\n",
        "\n",
        "The degree sequence of an undirected graph is the non-increasing sequence of its vertex degrees.\n",
        "The degree sequence is a graph invariant so isomorphic graphs have the same degree sequence.\n",
        "In some cases, non-isomorphic graphs have the same degree sequence.\n",
        "\n",
        "In a $k$-connected graph of $N$ edges, we have a degree sequence $S = (k, ..., k)$ where $|S| = N$\n",
        "\n",
        "\n"
      ]
    },
    {
      "cell_type": "markdown",
      "metadata": {
        "id": "-okzNJ3MN-Ys",
        "colab_type": "text"
      },
      "source": [
        "\n",
        "## Constant Information Propagation in a Random Network from a Single Source\n",
        "\n",
        "We start with studying the speed of information propagation in a graph where values of nodes are updated by the rule:\n",
        "\n",
        "$A_{i,j} = 1 \\implies \\max{(A_{i,i},A_{j,j})} \\rightarrow A_{i,i}, A_{j,j}$\n",
        "\n",
        "After an adjacent node is updated, those nodes do not update adjacent nodes until the next time step or iteration of the propagation rule.\n",
        "\n",
        "### Constant information\n",
        "\n",
        "In this section we study how quickly constant information $C$ propagates in a constant sized graph $G = (N, p)$\n",
        "\n",
        "i.e. how many timesteps or iterations of the update rule it takes before $A_{i, i} = A_{j, j} \\; \\forall \\, i,j \\in E(G)$\n"
      ]
    },
    {
      "cell_type": "code",
      "metadata": {
        "id": "RbAs7Y_oKEqH",
        "colab_type": "code",
        "outputId": "5bde6841-bf95-45a1-8f50-bd20265500e6",
        "colab": {
          "base_uri": "https://localhost:8080/",
          "height": 34
        }
      },
      "source": [
        "queue = []\n",
        "iterations = 100000\n",
        "for i in range(iterations):\n",
        "    count = 0\n",
        "    upperDiagIndices, A = initializeGraph(n, p)\n",
        "    A = randomizeEdges(A, n, p)\n",
        "    A = randomAccumulate(A, n, p)\n",
        "    # print(A)\n",
        "    while not checkAllEqual(A):\n",
        "        A = randomizeEdges(A, n, p)\n",
        "        A = oneStepPropagation(A)\n",
        "        # print(A)\n",
        "        count +=1\n",
        "    queue.append(count)\n",
        "    count = 0\n",
        "\n",
        "average = sum(queue)/iterations\n",
        "print(\"It takes on average \" + str(average) + \" iterations until the entire network has updated in value.\")"
      ],
      "execution_count": 2,
      "outputs": [
        {
          "output_type": "stream",
          "text": [
            "It takes on average 2.16696 iterations until the entire network has updated in value.\n"
          ],
          "name": "stdout"
        }
      ]
    },
    {
      "cell_type": "code",
      "metadata": {
        "id": "RzEJ0XqVNblu",
        "colab_type": "code",
        "outputId": "b2e60f0f-3bce-450d-f0e7-72fd0470b5a6",
        "colab": {
          "base_uri": "https://localhost:8080/",
          "height": 282
        }
      },
      "source": [
        "sns.countplot(list(map(int, queue)))"
      ],
      "execution_count": 3,
      "outputs": [
        {
          "output_type": "execute_result",
          "data": {
            "text/plain": [
              "<matplotlib.axes._subplots.AxesSubplot at 0x7fa1ca33dba8>"
            ]
          },
          "metadata": {
            "tags": []
          },
          "execution_count": 3
        },
        {
          "output_type": "display_data",
          "data": {
            "image/png": "[encoded data removed]",
            "text/plain": [
              "<Figure size 432x288 with 1 Axes>"
            ]
          },
          "metadata": {
            "tags": []
          }
        }
      ]
    },
    {
      "cell_type": "markdown",
      "metadata": {
        "id": "683_8a4LNeEB",
        "colab_type": "text"
      },
      "source": [
        "### Incrementing information\n",
        "\n",
        "Here we introduce a new concept of incrementing information:\n",
        "\n",
        "i.e. $C_t \\geq C_{t-1} \\; \\forall t$\n",
        "\n",
        "Where $t$ is time and $C_t$ is determined by an arbitrary monotonically increasing function $f(t)$\n",
        "\n",
        "We measure the lag $L$ by:\n",
        "\n",
        "$\\displaystyle L(G_t) = \\sum_{i}^{N}{C_t - A_{i,i}}$\n",
        "\n",
        "For our simulation, we select $f(t) = t$"
      ]
    },
    {
      "cell_type": "code",
      "metadata": {
        "id": "L0a8Nk_2Nh1E",
        "colab_type": "code",
        "outputId": "c37e0c5a-94cc-4f93-e8f7-c4ac0606484b",
        "colab": {
          "base_uri": "https://localhost:8080/",
          "height": 282
        }
      },
      "source": [
        "def randomAssign(A, n, p, t):\n",
        "    randIdx = np.random.randint(low = 0, high = n)\n",
        "    A[randIdx, randIdx] = t\n",
        "    return A\n",
        "\n",
        "def lag(A, t):\n",
        "    return sum(np.ones(np.diag(A).shape) * t - np.diag(A))\n",
        "\n",
        "\n",
        "def f(timestep):\n",
        "    return timestep\n",
        "\n",
        "maxTime = 50\n",
        "iterations = 1000\n",
        "n = 10\n",
        "p = 1\n",
        "lags = np.zeros((iterations, maxTime))\n",
        "for iter in range(iterations):\n",
        "    count = 0\n",
        "    upperDiagIndices, A = initializeGraph(n, p)\n",
        "    A = randomizeEdges(A, n, p)\n",
        "    # print(A)\n",
        "    while count < maxTime:\n",
        "        A = oneStepPropagation(A)\n",
        "        A = randomizeEdges(A, n, p)\n",
        "        A = randomAssign(A, n, p, count)\n",
        "        lags[iter, count] = lag(A, count)\n",
        "        count += 1\n",
        "    count = 0\n",
        "\n",
        "\n",
        "sns.lineplot(data=pd.DataFrame(lags).mean())"
      ],
      "execution_count": 4,
      "outputs": [
        {
          "output_type": "execute_result",
          "data": {
            "text/plain": [
              "<matplotlib.axes._subplots.AxesSubplot at 0x7fa1ba9dd588>"
            ]
          },
          "metadata": {
            "tags": []
          },
          "execution_count": 4
        },
        {
          "output_type": "display_data",
          "data": {
            "image/png": "[encoded data removed]",
            "text/plain": [
              "<Figure size 432x288 with 1 Axes>"
            ]
          },
          "metadata": {
            "tags": []
          }
        }
      ]
    },
    {
      "cell_type": "markdown",
      "metadata": {
        "id": "CwFod9PhOSMl",
        "colab_type": "text"
      },
      "source": [
        "## Constant Information Propagation in k-degree uniform Graphs from a Single Source\n",
        "\n",
        "Here we will study the speed of the propagation of a constant information packet in a $k$-connected random graph, using the same information update rule as previous sections.\n",
        "\n",
        "In this section we study how quickly constant information $C$ propagates in a k connected graph $G$ constructed from the degree sequence $(k, ..., k)$\n",
        "\n",
        "i.e. how many timesteps or iterations of the update rule it takes before $A_{i, i} = A_{j, j} \\; \\forall \\, i,j \\in E(G)$\n"
      ]
    },
    {
      "cell_type": "code",
      "metadata": {
        "colab_type": "code",
        "outputId": "5396994e-fd22-48ec-c4f6-6088a8dd50ee",
        "id": "PMcTr-gKTY0T",
        "colab": {
          "base_uri": "https://localhost:8080/",
          "height": 34
        }
      },
      "source": [
        "sequence = [3 for i in range(10)]\n",
        "queue = []\n",
        "iterations = 10000\n",
        "for i in range(iterations):\n",
        "    count = 0\n",
        "    A = nx.to_numpy_matrix(nx.random_degree_sequence_graph(sequence))\n",
        "    # print(A)\n",
        "    A = randomAccumulate(A, n, p)\n",
        "    while not checkAllEqual(A) and count < 100:\n",
        "        A = oneStepPropagation(A)\n",
        "        D = np.diag(A)\n",
        "        # print(A)\n",
        "        count +=1\n",
        "        A = nx.to_numpy_matrix(nx.random_degree_sequence_graph(sequence))\n",
        "        A[np.diag_indices(n)] = np.asmatrix(D)\n",
        "    queue.append(count)\n",
        "    count = 0\n",
        "\n",
        "average = sum(queue)/iterations\n",
        "print(\"It takes on average \" + str(average) + \" iterations until the entire network has updated in value.\")"
      ],
      "execution_count": 5,
      "outputs": [
        {
          "output_type": "stream",
          "text": [
            "It takes on average 10.2109 iterations until the entire network has updated in value.\n"
          ],
          "name": "stdout"
        }
      ]
    },
    {
      "cell_type": "code",
      "metadata": {
        "id": "JlV3BImZeSQa",
        "colab_type": "code",
        "outputId": "45894af7-2790-4aa7-9aa1-6f0ab284338f",
        "colab": {
          "base_uri": "https://localhost:8080/",
          "height": 282
        }
      },
      "source": [
        "sns.countplot(list(map(int, queue)))"
      ],
      "execution_count": 6,
      "outputs": [
        {
          "output_type": "execute_result",
          "data": {
            "text/plain": [
              "<matplotlib.axes._subplots.AxesSubplot at 0x7fa1bae7b8d0>"
            ]
          },
          "metadata": {
            "tags": []
          },
          "execution_count": 6
        },
        {
          "output_type": "display_data",
          "data": {
            "image/png": "[encoded data removed]",
            "text/plain": [
              "<Figure size 432x288 with 1 Axes>"
            ]
          },
          "metadata": {
            "tags": []
          }
        }
      ]
    },
    {
      "cell_type": "code",
      "metadata": {
        "id": "OVU91UxJmXwu",
        "colab_type": "code",
        "outputId": "bf2058d3-8828-4357-a091-478591c78264",
        "colab": {
          "base_uri": "https://localhost:8080/",
          "height": 34
        }
      },
      "source": [
        "print(\"standard deviation: \" + str(np.std(queue)))"
      ],
      "execution_count": 7,
      "outputs": [
        {
          "output_type": "stream",
          "text": [
            "standard deviation: 3.74251535601392\n"
          ],
          "name": "stdout"
        }
      ]
    },
    {
      "cell_type": "markdown",
      "metadata": {
        "id": "MDlzDg8FLKoB",
        "colab_type": "text"
      },
      "source": [
        "## Constant Information Propagation in $\\sim$K-Connected Graphs from a Single Source\n",
        "\n",
        "In this section we study how quickly constant information $C$ propagates in a random k connected graph $G$ constructed from the degree sequence $(d_1, ..., d_n)$ where $d_i \\leq k$\n",
        "\n",
        "i.e. how many timesteps or iterations of the update rule it takes before $A_{i, i} = A_{j, j} \\; \\forall \\, i,j \\in E(G)$\n"
      ]
    },
    {
      "cell_type": "markdown",
      "metadata": {
        "id": "e4DM7W6Mir83",
        "colab_type": "text"
      },
      "source": [
        "#### Generating k-connected graphs"
      ]
    },
    {
      "cell_type": "code",
      "metadata": {
        "id": "4rNESYXjLwFx",
        "colab_type": "code",
        "colab": {}
      },
      "source": [
        "k = 3\n",
        "queue = []\n",
        "iterations = 10000\n",
        "dsList = []\n",
        "\n",
        "graphList = []\n",
        "for i in range(iterations):\n",
        "    sequence = np.random.poisson(k, 10) + 1\n",
        "    sequence = np.flip(np.sort(sequence))\n",
        "    dsList.append(sequence)\n",
        "\n"
      ],
      "execution_count": 0,
      "outputs": []
    },
    {
      "cell_type": "code",
      "metadata": {
        "id": "PyvhEQ-HXpWl",
        "colab_type": "code",
        "colab": {}
      },
      "source": [
        "validDSList = []\n",
        "for sequence in dsList:\n",
        "    if nx.is_graphical(np.flip(np.sort(sequence))):\n",
        "      validDSList.append(sequence)"
      ],
      "execution_count": 0,
      "outputs": []
    },
    {
      "cell_type": "code",
      "metadata": {
        "id": "EdH9fww2WLB6",
        "colab_type": "code",
        "colab": {}
      },
      "source": [
        "for sequence in validDSList:\n",
        "    try:\n",
        "      G = nx.random_degree_sequence_graph(sequence, None, 1)\n",
        "      if nx.is_connected(G):\n",
        "        A = nx.to_numpy_matrix(G)\n",
        "        graphList.append(A)\n",
        "    except:\n",
        "      pass\n",
        "    "
      ],
      "execution_count": 0,
      "outputs": []
    },
    {
      "cell_type": "code",
      "metadata": {
        "id": "IjZbOdBhYJqp",
        "colab_type": "code",
        "outputId": "c3c42cd3-2aed-4815-fe66-ce10f782cc30",
        "colab": {
          "base_uri": "https://localhost:8080/",
          "height": 34
        }
      },
      "source": [
        "len(graphList)"
      ],
      "execution_count": 12,
      "outputs": [
        {
          "output_type": "execute_result",
          "data": {
            "text/plain": [
              "988"
            ]
          },
          "metadata": {
            "tags": []
          },
          "execution_count": 12
        }
      ]
    },
    {
      "cell_type": "markdown",
      "metadata": {
        "id": "daIfQ3WLiyMt",
        "colab_type": "text"
      },
      "source": [
        "#### Code for running the simulation"
      ]
    },
    {
      "cell_type": "code",
      "metadata": {
        "id": "ZrYVo8lMZCZs",
        "colab_type": "code",
        "outputId": "fde887b7-45f1-40f4-a510-960b718b132c",
        "colab": {
          "base_uri": "https://localhost:8080/",
          "height": 34
        }
      },
      "source": [
        "import random\n",
        "for graph in graphList:\n",
        "    count = 0\n",
        "    A = np.zeros((n,n)) + graph\n",
        "    # print(A)\n",
        "    A = randomAccumulate(A, n, p)\n",
        "    while not checkAllEqual(A) and count < 100:\n",
        "        A = oneStepPropagation(A)\n",
        "        D = np.diag(A)\n",
        "        # print(A)\n",
        "        count +=1\n",
        "        A = np.zeros((n,n)) + random.choice(graphList)\n",
        "        A[np.diag_indices(n)] = np.asmatrix(D)\n",
        "    queue.append(count)\n",
        "    count = 0\n"
      ],
      "execution_count": 13,
      "outputs": [
        {
          "output_type": "stream",
          "text": [
            "It takes on average 0.5012 iterations until the entire network has updated in value.\n"
          ],
          "name": "stdout"
        }
      ]
    },
    {
      "cell_type": "markdown",
      "metadata": {
        "id": "TRiYnShHi9tE",
        "colab_type": "text"
      },
      "source": [
        "#### Output"
      ]
    },
    {
      "cell_type": "code",
      "metadata": {
        "id": "AQaTieWOi7w9",
        "colab_type": "code",
        "colab": {
          "base_uri": "https://localhost:8080/",
          "height": 34
        },
        "outputId": "c923963e-f1f8-4750-91c3-cc6b7b6b8de2"
      },
      "source": [
        "\n",
        "average = sum(queue)/iterations\n",
        "print(\"It takes on average \" + str(average) + \" iterations until the entire network has updated in value.\")"
      ],
      "execution_count": 15,
      "outputs": [
        {
          "output_type": "stream",
          "text": [
            "It takes on average 0.5012 iterations until the entire network has updated in value.\n"
          ],
          "name": "stdout"
        }
      ]
    },
    {
      "cell_type": "code",
      "metadata": {
        "id": "GTKq8x9TZ0rr",
        "colab_type": "code",
        "outputId": "e7621e53-2b80-46ad-d227-a4d4f46e6795",
        "colab": {
          "base_uri": "https://localhost:8080/",
          "height": 282
        }
      },
      "source": [
        "sns.countplot(list(map(int, queue)))"
      ],
      "execution_count": 14,
      "outputs": [
        {
          "output_type": "execute_result",
          "data": {
            "text/plain": [
              "<matplotlib.axes._subplots.AxesSubplot at 0x7fa1ba5b4d68>"
            ]
          },
          "metadata": {
            "tags": []
          },
          "execution_count": 14
        },
        {
          "output_type": "display_data",
          "data": {
            "image/png": "[encoded data removed]",
            "text/plain": [
              "<Figure size 432x288 with 1 Axes>"
            ]
          },
          "metadata": {
            "tags": []
          }
        }
      ]
    },
    {
      "cell_type": "markdown",
      "metadata": {
        "id": "s-dqE2IhiYD7",
        "colab_type": "text"
      },
      "source": [
        "# Sequential Information Propagation in Network"
      ]
    },
    {
      "cell_type": "code",
      "metadata": {
        "id": "7DxK5eiDiXzB",
        "colab_type": "code",
        "colab": {}
      },
      "source": [
        ""
      ],
      "execution_count": 0,
      "outputs": []
    }
  ]
}