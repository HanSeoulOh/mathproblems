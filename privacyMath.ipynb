{
  "nbformat": 4,
  "nbformat_minor": 0,
  "metadata": {
    "colab": {
      "name": "Copy of privacyMath.ipynb",
      "provenance": [],
      "collapsed_sections": [
        "rATAGmcpGDrC",
        "QrmzFSDTEnsW"
      ],
      "toc_visible": true,
      "include_colab_link": true
    },
    "kernelspec": {
      "name": "python3",
      "display_name": "Python 3"
    }
  },
  "cells": [
    {
      "cell_type": "markdown",
      "metadata": {
        "id": "view-in-github",
        "colab_type": "text"
      },
      "source": [
        "<a href=\"https://colab.research.google.com/github/HanSeoulOh/mathproblems/blob/master/privacyMath.ipynb\" target=\"_parent\"><img src=\"https://colab.research.google.com/assets/colab-badge.svg\" alt=\"Open In Colab\"/></a>"
      ]
    },
    {
      "cell_type": "markdown",
      "metadata": {
        "id": "Mja5VKLHERHC",
        "colab_type": "text"
      },
      "source": [
        "# Taxonomy of Privacy Techniques\n",
        "\n",
        "When I begun this notebook, I had only been superficially exposed to thinking about privacy. Through my journey of learning about privacy I have found two main ways to approach the problem: \n",
        "\n",
        "1. Statistical Privacy (SP)\n",
        "2. Cryptographically Secure Privacy (CSP)\n",
        "\n",
        "The main way that these two classes differ is that Statistical Privacy (SP) methods aim to manipulate personally identifiable information (PII), while Cryptographically Secure Privacy (CSP) methods aims to use cryptographic primitives to hide PII. Both methods aim to make the task of inference on PII difficult if not impossible.\n",
        "\n"
      ]
    },
    {
      "cell_type": "markdown",
      "metadata": {
        "id": "mBgzB0f0y7u2",
        "colab_type": "text"
      },
      "source": [
        "## Statistical Privacy\n",
        "\n",
        "Under statistical privacy, two main conceptual approaches have emerged to tackle this problem:\n",
        "\n",
        "1. Differentially Private Mechanisms: Adding noise to a data query so that the original data is masked.\n",
        "2. Group-based Anonymity: Providing a mechanism so that two rows in a dataset are indistinguishable from eachother, providing plausible deniability.\n",
        "\n",
        "\n",
        "\n"
      ]
    },
    {
      "cell_type": "markdown",
      "metadata": {
        "id": "rATAGmcpGDrC",
        "colab_type": "text"
      },
      "source": [
        "##### Helpers"
      ]
    },
    {
      "cell_type": "code",
      "metadata": {
        "id": "4EGw6sS8F_NG",
        "colab_type": "code",
        "colab": {}
      },
      "source": [
        "import numpy as np\n",
        "import pandas as pd\n",
        "import seaborn as sns"
      ],
      "execution_count": 0,
      "outputs": []
    },
    {
      "cell_type": "markdown",
      "metadata": {
        "id": "QrmzFSDTEnsW",
        "colab_type": "text"
      },
      "source": [
        "#### Naive Dataset 1\n",
        "\n",
        "We will generate a naive dataset that consists of rows of tuples in the following format: $(id_1, id_2, amt, des)$\n",
        "\n",
        "Where: \n",
        "- $id_1$ is the sender\n",
        "- $id_2$ is the receiver\n",
        "- $amt$ is the amount transferred\n",
        "- $des$ is a description\n",
        "\n",
        "For purposes of simplicity we will start with $amt = 1$ and $des$ being a random real number from $\\mathbb{R}^{[0,1]}$; $id_1, id_2 \\in \\mathbb{Z}$\n"
      ]
    },
    {
      "cell_type": "code",
      "metadata": {
        "id": "gYWX4ojeJ93y",
        "colab_type": "code",
        "colab": {}
      },
      "source": [
        ""
      ],
      "execution_count": 0,
      "outputs": []
    },
    {
      "cell_type": "code",
      "metadata": {
        "id": "VNfOZ-OcFxad",
        "colab_type": "code",
        "colab": {}
      },
      "source": [
        "class naiveDataSet:\n",
        "  def __init__(self, population = 10, tx = 100):\n",
        "    self.data = pd.DataFrame(data = np.array([np.random.randint(population, size=tx), np.random.randint(population, size=tx), np.ones(tx), np.random.rand(tx)]).T, columns = ['sender', 'receiver', 'amount', 'description'])"
      ],
      "execution_count": 0,
      "outputs": []
    },
    {
      "cell_type": "markdown",
      "metadata": {
        "id": "PIR9ILbWNyR3",
        "colab_type": "text"
      },
      "source": [
        "Visualizing generated dataset"
      ]
    },
    {
      "cell_type": "code",
      "metadata": {
        "id": "R-JpxnKCL9aY",
        "colab_type": "code",
        "outputId": "26cb2c4b-9225-4144-909e-a6336d633919",
        "colab": {
          "base_uri": "https://localhost:8080/",
          "height": 423
        }
      },
      "source": [
        "nds = naiveDataSet()\n",
        "nds.data"
      ],
      "execution_count": 0,
      "outputs": [
        {
          "output_type": "execute_result",
          "data": {
            "text/html": [
              "<div>\n",
              "<style scoped>\n",
              "    .dataframe tbody tr th:only-of-type {\n",
              "        vertical-align: middle;\n",
              "    }\n",
              "\n",
              "    .dataframe tbody tr th {\n",
              "        vertical-align: top;\n",
              "    }\n",
              "\n",
              "    .dataframe thead th {\n",
              "        text-align: right;\n",
              "    }\n",
              "</style>\n",
              "<table border=\"1\" class=\"dataframe\">\n",
              "  <thead>\n",
              "    <tr style=\"text-align: right;\">\n",
              "      <th></th>\n",
              "      <th>sender</th>\n",
              "      <th>receiver</th>\n",
              "      <th>amount</th>\n",
              "      <th>description</th>\n",
              "    </tr>\n",
              "  </thead>\n",
              "  <tbody>\n",
              "    <tr>\n",
              "      <th>0</th>\n",
              "      <td>5.0</td>\n",
              "      <td>1.0</td>\n",
              "      <td>1.0</td>\n",
              "      <td>0.736900</td>\n",
              "    </tr>\n",
              "    <tr>\n",
              "      <th>1</th>\n",
              "      <td>5.0</td>\n",
              "      <td>8.0</td>\n",
              "      <td>1.0</td>\n",
              "      <td>0.561088</td>\n",
              "    </tr>\n",
              "    <tr>\n",
              "      <th>2</th>\n",
              "      <td>3.0</td>\n",
              "      <td>6.0</td>\n",
              "      <td>1.0</td>\n",
              "      <td>0.244686</td>\n",
              "    </tr>\n",
              "    <tr>\n",
              "      <th>3</th>\n",
              "      <td>1.0</td>\n",
              "      <td>9.0</td>\n",
              "      <td>1.0</td>\n",
              "      <td>0.785634</td>\n",
              "    </tr>\n",
              "    <tr>\n",
              "      <th>4</th>\n",
              "      <td>8.0</td>\n",
              "      <td>0.0</td>\n",
              "      <td>1.0</td>\n",
              "      <td>0.150129</td>\n",
              "    </tr>\n",
              "    <tr>\n",
              "      <th>...</th>\n",
              "      <td>...</td>\n",
              "      <td>...</td>\n",
              "      <td>...</td>\n",
              "      <td>...</td>\n",
              "    </tr>\n",
              "    <tr>\n",
              "      <th>95</th>\n",
              "      <td>2.0</td>\n",
              "      <td>1.0</td>\n",
              "      <td>1.0</td>\n",
              "      <td>0.703017</td>\n",
              "    </tr>\n",
              "    <tr>\n",
              "      <th>96</th>\n",
              "      <td>7.0</td>\n",
              "      <td>4.0</td>\n",
              "      <td>1.0</td>\n",
              "      <td>0.524614</td>\n",
              "    </tr>\n",
              "    <tr>\n",
              "      <th>97</th>\n",
              "      <td>7.0</td>\n",
              "      <td>3.0</td>\n",
              "      <td>1.0</td>\n",
              "      <td>0.814274</td>\n",
              "    </tr>\n",
              "    <tr>\n",
              "      <th>98</th>\n",
              "      <td>5.0</td>\n",
              "      <td>0.0</td>\n",
              "      <td>1.0</td>\n",
              "      <td>0.144199</td>\n",
              "    </tr>\n",
              "    <tr>\n",
              "      <th>99</th>\n",
              "      <td>5.0</td>\n",
              "      <td>9.0</td>\n",
              "      <td>1.0</td>\n",
              "      <td>0.466960</td>\n",
              "    </tr>\n",
              "  </tbody>\n",
              "</table>\n",
              "<p>100 rows × 4 columns</p>\n",
              "</div>"
            ],
            "text/plain": [
              "    sender  receiver  amount  description\n",
              "0      5.0       1.0     1.0     0.736900\n",
              "1      5.0       8.0     1.0     0.561088\n",
              "2      3.0       6.0     1.0     0.244686\n",
              "3      1.0       9.0     1.0     0.785634\n",
              "4      8.0       0.0     1.0     0.150129\n",
              "..     ...       ...     ...          ...\n",
              "95     2.0       1.0     1.0     0.703017\n",
              "96     7.0       4.0     1.0     0.524614\n",
              "97     7.0       3.0     1.0     0.814274\n",
              "98     5.0       0.0     1.0     0.144199\n",
              "99     5.0       9.0     1.0     0.466960\n",
              "\n",
              "[100 rows x 4 columns]"
            ]
          },
          "metadata": {
            "tags": []
          },
          "execution_count": 24
        }
      ]
    },
    {
      "cell_type": "code",
      "metadata": {
        "id": "FIwYuTBFNwt1",
        "colab_type": "code",
        "outputId": "525d9194-c66b-4d72-e6e9-445396448483",
        "colab": {
          "base_uri": "https://localhost:8080/",
          "height": 92
        }
      },
      "source": [
        "nds.data.groupby(['sender']).sum().mean()"
      ],
      "execution_count": 0,
      "outputs": [
        {
          "output_type": "execute_result",
          "data": {
            "text/plain": [
              "receiver       48.900000\n",
              "amount         10.000000\n",
              "description     4.962384\n",
              "dtype: float64"
            ]
          },
          "metadata": {
            "tags": []
          },
          "execution_count": 25
        }
      ]
    },
    {
      "cell_type": "code",
      "metadata": {
        "id": "wwaw4oalP2V6",
        "colab_type": "code",
        "colab": {}
      },
      "source": [
        ""
      ],
      "execution_count": 0,
      "outputs": []
    },
    {
      "cell_type": "markdown",
      "metadata": {
        "id": "9ebWBfzgGdeU",
        "colab_type": "text"
      },
      "source": [
        ""
      ]
    },
    {
      "cell_type": "markdown",
      "metadata": {
        "id": "a8FKHlNwVVXZ",
        "colab_type": "text"
      },
      "source": [
        "### Differential Privacy\n",
        "\n",
        "\n",
        "The fundamental property of differentially private mechanisms is given by: $\\Pr [\\mathcal{K}(D) \\in S] \\le e^\\epsilon \\times \\Pr [ \\mathcal{K} (D') \\in S]$\n",
        "\n",
        "In plain english, a privacy mechanism is **differentially private** if it satifies the property that any row "
      ]
    },
    {
      "cell_type": "markdown",
      "metadata": {
        "id": "7yVovCeqXsCF",
        "colab_type": "text"
      },
      "source": [
        "##### Useful References\n"
      ]
    },
    {
      "cell_type": "markdown",
      "metadata": {
        "id": "pIIp31QRX8zb",
        "colab_type": "text"
      },
      "source": [
        "Original Paper on DP: https://www.cis.upenn.edu/~aaroth/Papers/privacybook.pdf\n",
        "\n",
        "Original Paper on Reconstruction Attack: http://www.cse.psu.edu/~ads22/privacy598/papers/dn03.pdf\n",
        "\n",
        "Many other privacy attacks: https://privacytools.seas.harvard.edu/files/privacytools/files/pdf_02.pdf\n"
      ]
    },
    {
      "cell_type": "markdown",
      "metadata": {
        "id": "kxZbGXM_RqNi",
        "colab_type": "text"
      },
      "source": [
        "### Local Differential Privacy Example\n",
        "\n",
        "Let's construct a naive POS' dataset where there are two kinds of products, one cheap, one expensive. For some reason, whatever the expensive product is being sold here, clients do not want others to know that they have a pattern in purchasing it. Perhaps the store sells normal day to day groceries, but the expensive product is an alcoholic beverage and a client would not want to be identified as being a frequent purchaser.\n",
        "\n",
        "The rows in this dataset are represented by tuples in the form $(client, amount)$.\n",
        "\n",
        "A statistics agency wants the data by this POS to conduct their analytics but their clients wouldn't appreciate their identities being compromised in this study."
      ]
    },
    {
      "cell_type": "code",
      "metadata": {
        "id": "5YVrS1gYVYCU",
        "colab_type": "code",
        "outputId": "43d9e41c-463e-4971-f4ae-3d6bdb0f7050",
        "colab": {
          "base_uri": "https://localhost:8080/",
          "height": 393
        }
      },
      "source": [
        "df = nds.data[['sender', 'amount']]\n",
        "idx = df.sample(n = int(len(df) / 5)).sort_index().index\n",
        "\n",
        "df.loc[idx, 'amount'] = 10\n",
        "df.head()"
      ],
      "execution_count": 0,
      "outputs": [
        {
          "output_type": "stream",
          "text": [
            "/usr/local/lib/python3.6/dist-packages/pandas/core/indexing.py:205: SettingWithCopyWarning: \n",
            "A value is trying to be set on a copy of a slice from a DataFrame\n",
            "\n",
            "See the caveats in the documentation: http://pandas.pydata.org/pandas-docs/stable/user_guide/indexing.html#returning-a-view-versus-a-copy\n",
            "  self._setitem_with_indexer(indexer, value)\n",
            "/usr/local/lib/python3.6/dist-packages/ipykernel_launcher.py:4: SettingWithCopyWarning: \n",
            "A value is trying to be set on a copy of a slice from a DataFrame\n",
            "\n",
            "See the caveats in the documentation: http://pandas.pydata.org/pandas-docs/stable/user_guide/indexing.html#returning-a-view-versus-a-copy\n",
            "  after removing the cwd from sys.path.\n"
          ],
          "name": "stderr"
        },
        {
          "output_type": "execute_result",
          "data": {
            "text/html": [
              "<div>\n",
              "<style scoped>\n",
              "    .dataframe tbody tr th:only-of-type {\n",
              "        vertical-align: middle;\n",
              "    }\n",
              "\n",
              "    .dataframe tbody tr th {\n",
              "        vertical-align: top;\n",
              "    }\n",
              "\n",
              "    .dataframe thead th {\n",
              "        text-align: right;\n",
              "    }\n",
              "</style>\n",
              "<table border=\"1\" class=\"dataframe\">\n",
              "  <thead>\n",
              "    <tr style=\"text-align: right;\">\n",
              "      <th></th>\n",
              "      <th>sender</th>\n",
              "      <th>amount</th>\n",
              "    </tr>\n",
              "  </thead>\n",
              "  <tbody>\n",
              "    <tr>\n",
              "      <th>0</th>\n",
              "      <td>5.0</td>\n",
              "      <td>1.0</td>\n",
              "    </tr>\n",
              "    <tr>\n",
              "      <th>1</th>\n",
              "      <td>5.0</td>\n",
              "      <td>1.0</td>\n",
              "    </tr>\n",
              "    <tr>\n",
              "      <th>2</th>\n",
              "      <td>3.0</td>\n",
              "      <td>1.0</td>\n",
              "    </tr>\n",
              "    <tr>\n",
              "      <th>3</th>\n",
              "      <td>1.0</td>\n",
              "      <td>1.0</td>\n",
              "    </tr>\n",
              "    <tr>\n",
              "      <th>4</th>\n",
              "      <td>8.0</td>\n",
              "      <td>1.0</td>\n",
              "    </tr>\n",
              "  </tbody>\n",
              "</table>\n",
              "</div>"
            ],
            "text/plain": [
              "   sender  amount\n",
              "0     5.0     1.0\n",
              "1     5.0     1.0\n",
              "2     3.0     1.0\n",
              "3     1.0     1.0\n",
              "4     8.0     1.0"
            ]
          },
          "metadata": {
            "tags": []
          },
          "execution_count": 26
        }
      ]
    },
    {
      "cell_type": "code",
      "metadata": {
        "id": "XXDUFC_-O8pX",
        "colab_type": "code",
        "outputId": "b6689404-ce6b-40f8-e057-741296e3ad13",
        "colab": {
          "base_uri": "https://localhost:8080/",
          "height": 318
        }
      },
      "source": [
        "df.groupby('sender').sum().hist()"
      ],
      "execution_count": 0,
      "outputs": [
        {
          "output_type": "execute_result",
          "data": {
            "text/plain": [
              "array([[<matplotlib.axes._subplots.AxesSubplot object at 0x7f637c857e80>]],\n",
              "      dtype=object)"
            ]
          },
          "metadata": {
            "tags": []
          },
          "execution_count": 27
        },
        {
          "output_type": "display_data",
          "data": {
            "image/png": "[encoded data removed]",
            "text/plain": [
              "<Figure size 432x288 with 1 Axes>"
            ]
          },
          "metadata": {
            "tags": []
          }
        }
      ]
    },
    {
      "cell_type": "code",
      "metadata": {
        "id": "uEkO0T0CPK5e",
        "colab_type": "code",
        "outputId": "4865bc1e-2035-4e4f-8ba7-d43d59c59185",
        "colab": {
          "base_uri": "https://localhost:8080/",
          "height": 304
        }
      },
      "source": [
        "df.groupby('sender').sum().plot.bar()"
      ],
      "execution_count": 0,
      "outputs": [
        {
          "output_type": "execute_result",
          "data": {
            "text/plain": [
              "<matplotlib.axes._subplots.AxesSubplot at 0x7f637c2c1780>"
            ]
          },
          "metadata": {
            "tags": []
          },
          "execution_count": 28
        },
        {
          "output_type": "display_data",
          "data": {
            "image/png": "[encoded data removed]",
            "text/plain": [
              "<Figure size 432x288 with 1 Axes>"
            ]
          },
          "metadata": {
            "tags": []
          }
        }
      ]
    },
    {
      "cell_type": "code",
      "metadata": {
        "id": "XS-oOur7T2fq",
        "colab_type": "code",
        "outputId": "0961cdf5-958f-4b32-ee33-9848ecf5c6a9",
        "colab": {
          "base_uri": "https://localhost:8080/",
          "height": 73
        }
      },
      "source": [
        "df.mean()"
      ],
      "execution_count": 0,
      "outputs": [
        {
          "output_type": "execute_result",
          "data": {
            "text/plain": [
              "sender    4.53\n",
              "amount    2.80\n",
              "dtype: float64"
            ]
          },
          "metadata": {
            "tags": []
          },
          "execution_count": 29
        }
      ]
    },
    {
      "cell_type": "markdown",
      "metadata": {
        "id": "_NZsOlbwP1NF",
        "colab_type": "text"
      },
      "source": [
        "#### Randomized Response Mechanism\n",
        "\n"
      ]
    },
    {
      "cell_type": "code",
      "metadata": {
        "id": "Vm80lm-zPuGi",
        "colab_type": "code",
        "colab": {}
      },
      "source": [
        "\n",
        "ndf = df.sort_index()\n",
        "idx = ndf.sample(n = int(len(ndf) / 2)).sort_index().index\n",
        "\n",
        "def randResponse(a, p):\n",
        "  if np.random.rand() < p:\n",
        "    if np.random.rand() < 0.5:\n",
        "      return 1\n",
        "    else:\n",
        "      return 10\n",
        "  else:\n",
        "    return a\n",
        "\n",
        "ndf.loc[idx, 'amount'] = ndf.loc[idx, 'amount'].apply(lambda x: randResponse(x, 0.1))"
      ],
      "execution_count": 0,
      "outputs": []
    },
    {
      "cell_type": "code",
      "metadata": {
        "id": "woXdczy5TAYh",
        "colab_type": "code",
        "outputId": "5b2043a7-9047-4729-82a6-9b16bad9c06b",
        "colab": {
          "base_uri": "https://localhost:8080/",
          "height": 318
        }
      },
      "source": [
        "ndf.groupby('sender').sum().hist()"
      ],
      "execution_count": 0,
      "outputs": [
        {
          "output_type": "execute_result",
          "data": {
            "text/plain": [
              "array([[<matplotlib.axes._subplots.AxesSubplot object at 0x7f637c221358>]],\n",
              "      dtype=object)"
            ]
          },
          "metadata": {
            "tags": []
          },
          "execution_count": 33
        },
        {
          "output_type": "display_data",
          "data": {
            "image/png": "[encoded data removed]",
            "text/plain": [
              "<Figure size 432x288 with 1 Axes>"
            ]
          },
          "metadata": {
            "tags": []
          }
        }
      ]
    },
    {
      "cell_type": "code",
      "metadata": {
        "id": "yBEwy2f_DBn2",
        "colab_type": "code",
        "outputId": "621acfb3-23da-4a3e-d827-d3d61111b1e7",
        "colab": {
          "base_uri": "https://localhost:8080/",
          "height": 394
        }
      },
      "source": [
        "ndf.groupby('sender').sum()"
      ],
      "execution_count": 0,
      "outputs": [
        {
          "output_type": "execute_result",
          "data": {
            "text/html": [
              "<div>\n",
              "<style scoped>\n",
              "    .dataframe tbody tr th:only-of-type {\n",
              "        vertical-align: middle;\n",
              "    }\n",
              "\n",
              "    .dataframe tbody tr th {\n",
              "        vertical-align: top;\n",
              "    }\n",
              "\n",
              "    .dataframe thead th {\n",
              "        text-align: right;\n",
              "    }\n",
              "</style>\n",
              "<table border=\"1\" class=\"dataframe\">\n",
              "  <thead>\n",
              "    <tr style=\"text-align: right;\">\n",
              "      <th></th>\n",
              "      <th>amount</th>\n",
              "    </tr>\n",
              "    <tr>\n",
              "      <th>sender</th>\n",
              "      <th></th>\n",
              "    </tr>\n",
              "  </thead>\n",
              "  <tbody>\n",
              "    <tr>\n",
              "      <th>0.0</th>\n",
              "      <td>17.0</td>\n",
              "    </tr>\n",
              "    <tr>\n",
              "      <th>1.0</th>\n",
              "      <td>19.0</td>\n",
              "    </tr>\n",
              "    <tr>\n",
              "      <th>2.0</th>\n",
              "      <td>59.0</td>\n",
              "    </tr>\n",
              "    <tr>\n",
              "      <th>3.0</th>\n",
              "      <td>29.0</td>\n",
              "    </tr>\n",
              "    <tr>\n",
              "      <th>4.0</th>\n",
              "      <td>16.0</td>\n",
              "    </tr>\n",
              "    <tr>\n",
              "      <th>5.0</th>\n",
              "      <td>21.0</td>\n",
              "    </tr>\n",
              "    <tr>\n",
              "      <th>6.0</th>\n",
              "      <td>7.0</td>\n",
              "    </tr>\n",
              "    <tr>\n",
              "      <th>7.0</th>\n",
              "      <td>35.0</td>\n",
              "    </tr>\n",
              "    <tr>\n",
              "      <th>8.0</th>\n",
              "      <td>29.0</td>\n",
              "    </tr>\n",
              "    <tr>\n",
              "      <th>9.0</th>\n",
              "      <td>48.0</td>\n",
              "    </tr>\n",
              "  </tbody>\n",
              "</table>\n",
              "</div>"
            ],
            "text/plain": [
              "        amount\n",
              "sender        \n",
              "0.0       17.0\n",
              "1.0       19.0\n",
              "2.0       59.0\n",
              "3.0       29.0\n",
              "4.0       16.0\n",
              "5.0       21.0\n",
              "6.0        7.0\n",
              "7.0       35.0\n",
              "8.0       29.0\n",
              "9.0       48.0"
            ]
          },
          "metadata": {
            "tags": []
          },
          "execution_count": 38
        }
      ]
    },
    {
      "cell_type": "code",
      "metadata": {
        "id": "oXy8KCp0TGe6",
        "colab_type": "code",
        "outputId": "cb550bfe-f3ee-4adb-a757-be03144866b1",
        "colab": {
          "base_uri": "https://localhost:8080/",
          "height": 304
        }
      },
      "source": [
        "ndf.groupby('sender').sum().plot.bar()"
      ],
      "execution_count": 0,
      "outputs": [
        {
          "output_type": "execute_result",
          "data": {
            "text/plain": [
              "<matplotlib.axes._subplots.AxesSubplot at 0x7f637c223dd8>"
            ]
          },
          "metadata": {
            "tags": []
          },
          "execution_count": 34
        },
        {
          "output_type": "display_data",
          "data": {
            "image/png": "[encoded data removed]",
            "text/plain": [
              "<Figure size 432x288 with 1 Axes>"
            ]
          },
          "metadata": {
            "tags": []
          }
        }
      ]
    },
    {
      "cell_type": "code",
      "metadata": {
        "id": "iIgSeaOlT6eX",
        "colab_type": "code",
        "outputId": "929a28c0-e21d-4226-b092-6017369f76d7",
        "colab": {
          "base_uri": "https://localhost:8080/",
          "height": 73
        }
      },
      "source": [
        "ndf.mean()"
      ],
      "execution_count": 0,
      "outputs": [
        {
          "output_type": "execute_result",
          "data": {
            "text/plain": [
              "sender    4.53\n",
              "amount    2.80\n",
              "dtype: float64"
            ]
          },
          "metadata": {
            "tags": []
          },
          "execution_count": 35
        }
      ]
    },
    {
      "cell_type": "code",
      "metadata": {
        "id": "c8-g5eUEshmN",
        "colab_type": "code",
        "outputId": "758ba448-4aea-468d-b386-8362b64aaf63",
        "colab": {
          "base_uri": "https://localhost:8080/",
          "height": 318
        }
      },
      "source": [
        "import matplotlib.pyplot as plt\n",
        "fig = plt.figure()\n",
        "\n",
        "# Divide the figure into a 1x2 grid, and give me the first section\n",
        "ax1 = fig.add_subplot(121)\n",
        "\n",
        "# Divide the figure into a 1x2 grid, and give me the second section\n",
        "ax2 = fig.add_subplot(122)\n",
        "\n",
        "df.groupby('sender').sum().hist(ax = ax1, alpha = 0.5)\n",
        "ndf.groupby('sender').sum().hist(ax = ax2, color = 'orange', alpha = 0.5)"
      ],
      "execution_count": 0,
      "outputs": [
        {
          "output_type": "execute_result",
          "data": {
            "text/plain": [
              "array([<matplotlib.axes._subplots.AxesSubplot object at 0x7f637c0c7d68>],\n",
              "      dtype=object)"
            ]
          },
          "metadata": {
            "tags": []
          },
          "execution_count": 36
        },
        {
          "output_type": "display_data",
          "data": {
            "image/png": "[encoded data removed]",
            "text/plain": [
              "<Figure size 432x288 with 2 Axes>"
            ]
          },
          "metadata": {
            "tags": []
          }
        }
      ]
    },
    {
      "cell_type": "markdown",
      "metadata": {
        "id": "x0Cxay1juQ9Z",
        "colab_type": "text"
      },
      "source": [
        "How has the data actually changed? Not by much."
      ]
    },
    {
      "cell_type": "code",
      "metadata": {
        "id": "X2GJ1pbptYDB",
        "colab_type": "code",
        "outputId": "ae61a558-9829-4326-e54c-0f73be206133",
        "colab": {
          "base_uri": "https://localhost:8080/",
          "height": 304
        }
      },
      "source": [
        "fig = plt.figure()\n",
        "\n",
        "# Divide the figure into a 1x2 grid, and give me the first section\n",
        "ax1 = fig.add_subplot(111)\n",
        "\n",
        "df.groupby('sender').sum().plot.bar(ax = ax1, alpha = 0.5)\n",
        "ndf.groupby('sender').sum().plot.bar(ax = ax1, color = 'orange', alpha = 0.5)"
      ],
      "execution_count": 0,
      "outputs": [
        {
          "output_type": "execute_result",
          "data": {
            "text/plain": [
              "<matplotlib.axes._subplots.AxesSubplot at 0x7f637c0540f0>"
            ]
          },
          "metadata": {
            "tags": []
          },
          "execution_count": 37
        },
        {
          "output_type": "display_data",
          "data": {
            "image/png": "[encoded data removed]",
            "text/plain": [
              "<Figure size 432x288 with 1 Axes>"
            ]
          },
          "metadata": {
            "tags": []
          }
        }
      ]
    },
    {
      "cell_type": "markdown",
      "metadata": {
        "id": "pB8uv0dtaYdT",
        "colab_type": "text"
      },
      "source": [
        "### k-anonymity\n",
        "\n",
        "A column in a dataset is k-anonymous when at least k rows share the same range in place of the value.\n",
        "\n",
        "This may be sufficient in some cases, but with sensitive data, one must always be aware that existing alternative datasets or future alternative datasets may be used to violate the anonymity of the released data.\n",
        "\n",
        "The following is a simplified illustration of how alternative datasets can be pieced together to unveal sensitive information."
      ]
    },
    {
      "cell_type": "markdown",
      "metadata": {
        "id": "bCIoE9DbDjqH",
        "colab_type": "text"
      },
      "source": [
        "#### Homogeneity Attack\n",
        "\n",
        "Homogeneity attacks describe the case where the sensitive column within a set of k records are identical. Even though the set has been k-anonymized, the sensitive value is trivially predicted.\n",
        "\n",
        "Here following from a similar story in the previous attack maybe a national census reveals that there are only two Jeans with age < 20 in Canada, one of which is in ON and one of which is in QC."
      ]
    },
    {
      "cell_type": "code",
      "metadata": {
        "id": "VGj4YCgDaY_d",
        "colab_type": "code",
        "outputId": "b4c4715a-f611-42c0-959a-b4d34a8996c5",
        "colab": {
          "base_uri": "https://localhost:8080/",
          "height": 112
        }
      },
      "source": [
        "import pandas as pd\n",
        "pd.DataFrame({'name' : ['Jean', 'Jean'], 'age' : ['< 20', '< 20'], 'location': ['ON or QC', 'ON or QC'], 'diagnosis' : ['Colon Cancer or Crohns', 'Colon Cancer or Crohns']\n",
        "})\n"
      ],
      "execution_count": 0,
      "outputs": [
        {
          "output_type": "execute_result",
          "data": {
            "text/html": [
              "<div>\n",
              "<style scoped>\n",
              "    .dataframe tbody tr th:only-of-type {\n",
              "        vertical-align: middle;\n",
              "    }\n",
              "\n",
              "    .dataframe tbody tr th {\n",
              "        vertical-align: top;\n",
              "    }\n",
              "\n",
              "    .dataframe thead th {\n",
              "        text-align: right;\n",
              "    }\n",
              "</style>\n",
              "<table border=\"1\" class=\"dataframe\">\n",
              "  <thead>\n",
              "    <tr style=\"text-align: right;\">\n",
              "      <th></th>\n",
              "      <th>name</th>\n",
              "      <th>age</th>\n",
              "      <th>location</th>\n",
              "      <th>diagnosis</th>\n",
              "    </tr>\n",
              "  </thead>\n",
              "  <tbody>\n",
              "    <tr>\n",
              "      <th>0</th>\n",
              "      <td>Jean</td>\n",
              "      <td>&lt; 20</td>\n",
              "      <td>ON or QC</td>\n",
              "      <td>Colon Cancer or Crohns</td>\n",
              "    </tr>\n",
              "    <tr>\n",
              "      <th>1</th>\n",
              "      <td>Jean</td>\n",
              "      <td>&lt; 20</td>\n",
              "      <td>ON or QC</td>\n",
              "      <td>Colon Cancer or Crohns</td>\n",
              "    </tr>\n",
              "  </tbody>\n",
              "</table>\n",
              "</div>"
            ],
            "text/plain": [
              "   name   age  location               diagnosis\n",
              "0  Jean  < 20  ON or QC  Colon Cancer or Crohns\n",
              "1  Jean  < 20  ON or QC  Colon Cancer or Crohns"
            ]
          },
          "metadata": {
            "tags": []
          },
          "execution_count": 21
        }
      ]
    },
    {
      "cell_type": "markdown",
      "metadata": {
        "id": "v1rtb0zS81gF",
        "colab_type": "text"
      },
      "source": [
        "Similarly, another hospital specializing in crohn's and celiac disease releases their dataset under similar initiatives:"
      ]
    },
    {
      "cell_type": "code",
      "metadata": {
        "id": "RbTEn7cMDkC_",
        "colab_type": "code",
        "outputId": "594218f1-594b-4bbf-a8eb-56f0edde11ac",
        "colab": {
          "base_uri": "https://localhost:8080/",
          "height": 111
        }
      },
      "source": [
        "import pandas as pd\n",
        "pd.DataFrame({'real name' : ['Jean Coutu', 'Jean Maillard'], 'age' : ['< 20', '< 20'], 'location': ['ON or QC', 'ON or QC'], 'diagnosis' : ['Colon Cancer or Crohns', 'Colon Cancer or Crohns']\n",
        "})\n"
      ],
      "execution_count": 0,
      "outputs": [
        {
          "output_type": "execute_result",
          "data": {
            "text/html": [
              "<div>\n",
              "<style scoped>\n",
              "    .dataframe tbody tr th:only-of-type {\n",
              "        vertical-align: middle;\n",
              "    }\n",
              "\n",
              "    .dataframe tbody tr th {\n",
              "        vertical-align: top;\n",
              "    }\n",
              "\n",
              "    .dataframe thead th {\n",
              "        text-align: right;\n",
              "    }\n",
              "</style>\n",
              "<table border=\"1\" class=\"dataframe\">\n",
              "  <thead>\n",
              "    <tr style=\"text-align: right;\">\n",
              "      <th></th>\n",
              "      <th>real name</th>\n",
              "      <th>age</th>\n",
              "      <th>location</th>\n",
              "      <th>diagnosis</th>\n",
              "    </tr>\n",
              "  </thead>\n",
              "  <tbody>\n",
              "    <tr>\n",
              "      <th>0</th>\n",
              "      <td>Jean Coutu</td>\n",
              "      <td>&lt; 20</td>\n",
              "      <td>ON or QC</td>\n",
              "      <td>Colon Cancer or Crohns</td>\n",
              "    </tr>\n",
              "    <tr>\n",
              "      <th>1</th>\n",
              "      <td>Jean Maillard</td>\n",
              "      <td>&lt; 20</td>\n",
              "      <td>ON or QC</td>\n",
              "      <td>Colon Cancer or Crohns</td>\n",
              "    </tr>\n",
              "  </tbody>\n",
              "</table>\n",
              "</div>"
            ],
            "text/plain": [
              "       real name   age  location               diagnosis\n",
              "0     Jean Coutu  < 20  ON or QC  Colon Cancer or Crohns\n",
              "1  Jean Maillard  < 20  ON or QC  Colon Cancer or Crohns"
            ]
          },
          "metadata": {
            "tags": []
          },
          "execution_count": 8
        }
      ]
    },
    {
      "cell_type": "markdown",
      "metadata": {
        "id": "u0U9MuAv8_d0",
        "colab_type": "text"
      },
      "source": [
        "So far so good... with just these two datasets alone, it is hard to conclude anything definitively about the patient data. However, the census bureau in Quebec decides to release a dataset with first names and age as part if a sociology study on the evolution of first names over generations."
      ]
    },
    {
      "cell_type": "code",
      "metadata": {
        "id": "swwUPhKR7hs4",
        "colab_type": "code",
        "outputId": "78b3e71d-14f2-41a7-e4ef-2dc922ef5d33",
        "colab": {
          "base_uri": "https://localhost:8080/",
          "height": 206
        }
      },
      "source": [
        "pd.DataFrame({'name': ['Jean', 'Jean', 'Jean', 'Jean', 'Jean'], 'age': ['< 20', '20-55', '20-55', '20-55', '>55']})\n"
      ],
      "execution_count": 0,
      "outputs": [
        {
          "output_type": "execute_result",
          "data": {
            "text/html": [
              "<div>\n",
              "<style scoped>\n",
              "    .dataframe tbody tr th:only-of-type {\n",
              "        vertical-align: middle;\n",
              "    }\n",
              "\n",
              "    .dataframe tbody tr th {\n",
              "        vertical-align: top;\n",
              "    }\n",
              "\n",
              "    .dataframe thead th {\n",
              "        text-align: right;\n",
              "    }\n",
              "</style>\n",
              "<table border=\"1\" class=\"dataframe\">\n",
              "  <thead>\n",
              "    <tr style=\"text-align: right;\">\n",
              "      <th></th>\n",
              "      <th>name</th>\n",
              "      <th>age</th>\n",
              "    </tr>\n",
              "  </thead>\n",
              "  <tbody>\n",
              "    <tr>\n",
              "      <th>0</th>\n",
              "      <td>Jean</td>\n",
              "      <td>&lt; 20</td>\n",
              "    </tr>\n",
              "    <tr>\n",
              "      <th>1</th>\n",
              "      <td>Jean</td>\n",
              "      <td>20-55</td>\n",
              "    </tr>\n",
              "    <tr>\n",
              "      <th>2</th>\n",
              "      <td>Jean</td>\n",
              "      <td>20-55</td>\n",
              "    </tr>\n",
              "    <tr>\n",
              "      <th>3</th>\n",
              "      <td>Jean</td>\n",
              "      <td>20-55</td>\n",
              "    </tr>\n",
              "    <tr>\n",
              "      <th>4</th>\n",
              "      <td>Jean</td>\n",
              "      <td>&gt;55</td>\n",
              "    </tr>\n",
              "  </tbody>\n",
              "</table>\n",
              "</div>"
            ],
            "text/plain": [
              "   name    age\n",
              "0  Jean   < 20\n",
              "1  Jean  20-55\n",
              "2  Jean  20-55\n",
              "3  Jean  20-55\n",
              "4  Jean    >55"
            ]
          },
          "metadata": {
            "tags": []
          },
          "execution_count": 17
        }
      ]
    },
    {
      "cell_type": "markdown",
      "metadata": {
        "id": "XV8t_elk9i_u",
        "colab_type": "text"
      },
      "source": [
        "Up until now Jean had plausible deniability of whether or not they had any medical condition. However with the release of the census name data, we can conclude that under 20 yo Jean from QC has Crohn's disease thus violating their privacy."
      ]
    },
    {
      "cell_type": "code",
      "metadata": {
        "id": "kfNpODVdESxu",
        "colab_type": "code",
        "outputId": "3165fc98-3e63-46d5-c0e4-8b25448aa9af",
        "colab": {
          "base_uri": "https://localhost:8080/",
          "height": 111
        }
      },
      "source": [
        "import pandas as pd\n",
        "pd.DataFrame({'real name' : ['Jean Coutu', 'Jean Maillard'], 'age' : ['< 20', '< 20'], 'location': ['ON or QC', 'ON or QC'], 'diagnosis' : ['Gastrointestinal Disorders', 'Gastrointestinal Disorders']\n",
        "})"
      ],
      "execution_count": 0,
      "outputs": [
        {
          "output_type": "execute_result",
          "data": {
            "text/html": [
              "<div>\n",
              "<style scoped>\n",
              "    .dataframe tbody tr th:only-of-type {\n",
              "        vertical-align: middle;\n",
              "    }\n",
              "\n",
              "    .dataframe tbody tr th {\n",
              "        vertical-align: top;\n",
              "    }\n",
              "\n",
              "    .dataframe thead th {\n",
              "        text-align: right;\n",
              "    }\n",
              "</style>\n",
              "<table border=\"1\" class=\"dataframe\">\n",
              "  <thead>\n",
              "    <tr style=\"text-align: right;\">\n",
              "      <th></th>\n",
              "      <th>real name</th>\n",
              "      <th>age</th>\n",
              "      <th>location</th>\n",
              "      <th>diagnosis</th>\n",
              "    </tr>\n",
              "  </thead>\n",
              "  <tbody>\n",
              "    <tr>\n",
              "      <th>0</th>\n",
              "      <td>Jean Coutu</td>\n",
              "      <td>&lt; 20</td>\n",
              "      <td>ON or QC</td>\n",
              "      <td>Gastrointestinal Disorders</td>\n",
              "    </tr>\n",
              "    <tr>\n",
              "      <th>1</th>\n",
              "      <td>Jean Maillard</td>\n",
              "      <td>&lt; 20</td>\n",
              "      <td>ON or QC</td>\n",
              "      <td>Gastrointestinal Disorders</td>\n",
              "    </tr>\n",
              "  </tbody>\n",
              "</table>\n",
              "</div>"
            ],
            "text/plain": [
              "       real name   age  location                   diagnosis\n",
              "0     Jean Coutu  < 20  ON or QC  Gastrointestinal Disorders\n",
              "1  Jean Maillard  < 20  ON or QC  Gastrointestinal Disorders"
            ]
          },
          "metadata": {
            "tags": []
          },
          "execution_count": 7
        }
      ]
    },
    {
      "cell_type": "markdown",
      "metadata": {
        "id": "-7VMU4VU8nC0",
        "colab_type": "text"
      },
      "source": [
        "#### Background Knowledge Attack\n",
        "\n",
        "Imagine two hospitals with two different specializations release their patient data that is k-anonymized for the purposes of research and open data initiatives.\n",
        "\n",
        "The first hospital specializes in colon cancer and crohn's disease and releases the following dataset:"
      ]
    },
    {
      "cell_type": "code",
      "metadata": {
        "id": "jrNs7YVk7fvF",
        "colab_type": "code",
        "outputId": "e4124c14-ba32-4a00-d6aa-653f06577c72",
        "colab": {
          "base_uri": "https://localhost:8080/",
          "height": 112
        }
      },
      "source": [
        "pd.DataFrame({'name' : ['Jean', 'Jean'], 'age' : ['< 20', '< 20'], 'location': ['QC or AB', 'QC or AB'], 'diagnosis' : ['Crohns or Celiac', 'Crohns or Celiac']\n",
        "})"
      ],
      "execution_count": 0,
      "outputs": [
        {
          "output_type": "execute_result",
          "data": {
            "text/html": [
              "<div>\n",
              "<style scoped>\n",
              "    .dataframe tbody tr th:only-of-type {\n",
              "        vertical-align: middle;\n",
              "    }\n",
              "\n",
              "    .dataframe tbody tr th {\n",
              "        vertical-align: top;\n",
              "    }\n",
              "\n",
              "    .dataframe thead th {\n",
              "        text-align: right;\n",
              "    }\n",
              "</style>\n",
              "<table border=\"1\" class=\"dataframe\">\n",
              "  <thead>\n",
              "    <tr style=\"text-align: right;\">\n",
              "      <th></th>\n",
              "      <th>name</th>\n",
              "      <th>age</th>\n",
              "      <th>location</th>\n",
              "      <th>diagnosis</th>\n",
              "    </tr>\n",
              "  </thead>\n",
              "  <tbody>\n",
              "    <tr>\n",
              "      <th>0</th>\n",
              "      <td>Jean</td>\n",
              "      <td>&lt; 20</td>\n",
              "      <td>QC or AB</td>\n",
              "      <td>Crohns or Celiac</td>\n",
              "    </tr>\n",
              "    <tr>\n",
              "      <th>1</th>\n",
              "      <td>Jean</td>\n",
              "      <td>&lt; 20</td>\n",
              "      <td>QC or AB</td>\n",
              "      <td>Crohns or Celiac</td>\n",
              "    </tr>\n",
              "  </tbody>\n",
              "</table>\n",
              "</div>"
            ],
            "text/plain": [
              "   name   age  location         diagnosis\n",
              "0  Jean  < 20  QC or AB  Crohns or Celiac\n",
              "1  Jean  < 20  QC or AB  Crohns or Celiac"
            ]
          },
          "metadata": {
            "tags": []
          },
          "execution_count": 20
        }
      ]
    },
    {
      "cell_type": "markdown",
      "metadata": {
        "id": "gsXWROZozgtJ",
        "colab_type": "text"
      },
      "source": [
        "## Cryptographically Secure Privacy\n",
        "\n",
        "In cryptographically secure privacy, the privacy mechanism is to encrypt sensitive data, the plaintext, into ciphertext so that it may not be observed by unintended evesdroppers. In general, encryption can provide secrecy of data, but secrecy alone is not always useful. Thus we will mainly explore cryptographic methods that have additional features other than pure encryption, namely:\n",
        "\n",
        "1. Homomorphic Encryption\n",
        "2. Zero Knowledge Proofs\n"
      ]
    },
    {
      "cell_type": "markdown",
      "metadata": {
        "id": "J3cG05rUEZpR",
        "colab_type": "text"
      },
      "source": [
        "### Homomorphic Encryption\n",
        "\n",
        "\n",
        "In homomorphic encryption, operations may still be performed on the encrypted ciphertext, which can be useful for outsourcing computation.\n",
        "\n",
        "Malleable cryptosystems are inherently not protected from CCA2 attacks.\n",
        "\n",
        "\n",
        "example of simple attack...\n",
        "\n",
        "For arbitrary m, request $c = E(pk,m)$, then peform decryption on $c*E(pk,1) $ which yields m.\n",
        "http://www0.cs.ucl.ac.uk/staff/J.Groth/TCC04RRCCA.pdf"
      ]
    },
    {
      "cell_type": "markdown",
      "metadata": {
        "id": "cLJMNVx3RUwF",
        "colab_type": "text"
      },
      "source": [
        "#### [Paillier Cryptosystem](https://en.wikipedia.org/wiki/Paillier_cryptosystem)"
      ]
    },
    {
      "cell_type": "code",
      "metadata": {
        "id": "IfuEHEJbyadp",
        "colab_type": "code",
        "outputId": "6c06ab33-258f-4a94-a7a1-afdef6e3403d",
        "colab": {
          "base_uri": "https://localhost:8080/",
          "height": 34
        }
      },
      "source": [
        "%%bash\n",
        "git clone https://github.com/n1analytics/python-paillier"
      ],
      "execution_count": 0,
      "outputs": [
        {
          "output_type": "stream",
          "text": [
            "Cloning into 'python-paillier'...\n"
          ],
          "name": "stderr"
        }
      ]
    },
    {
      "cell_type": "code",
      "metadata": {
        "id": "3C44kNtmXMhn",
        "colab_type": "code",
        "outputId": "8cb2bddc-2b88-4f0d-f3fa-c14a21e99940",
        "colab": {
          "base_uri": "https://localhost:8080/",
          "height": 153
        }
      },
      "source": [
        "%%bash\n",
        "python python-paillier/setup.py"
      ],
      "execution_count": 0,
      "outputs": [
        {
          "output_type": "stream",
          "text": [
            "/usr/local/lib/python3.6/dist-packages/setuptools/dist.py:475: UserWarning: Normalizing '1.4.1-dev0' to '1.4.1.dev0'\n",
            "  normalized_version,\n",
            "usage: setup.py [global_opts] cmd1 [cmd1_opts] [cmd2 [cmd2_opts] ...]\n",
            "   or: setup.py --help [cmd1 cmd2 ...]\n",
            "   or: setup.py --help-commands\n",
            "   or: setup.py cmd --help\n",
            "\n",
            "error: no commands supplied\n"
          ],
          "name": "stderr"
        }
      ]
    }
  ]
}