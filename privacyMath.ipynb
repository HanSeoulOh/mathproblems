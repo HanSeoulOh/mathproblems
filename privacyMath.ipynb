{
  "nbformat": 4,
  "nbformat_minor": 0,
  "metadata": {
    "colab": {
      "name": "privacyMath.ipynb",
      "provenance": [],
      "include_colab_link": true
    },
    "kernelspec": {
      "name": "python3",
      "display_name": "Python 3"
    }
  },
  "cells": [
    {
      "cell_type": "markdown",
      "metadata": {
        "id": "view-in-github",
        "colab_type": "text"
      },
      "source": [
        "<a href=\"https://colab.research.google.com/github/HanSeoulOh/mathproblems/blob/master/privacyMath.ipynb\" target=\"_parent\"><img src=\"https://colab.research.google.com/assets/colab-badge.svg\" alt=\"Open In Colab\"/></a>"
      ]
    },
    {
      "cell_type": "markdown",
      "metadata": {
        "id": "Mja5VKLHERHC",
        "colab_type": "text"
      },
      "source": [
        "# Analysis of Privacy Techniques\n",
        "\n",
        "The purpose of this notebook is to analyze the performance of various privacy techniques."
      ]
    },
    {
      "cell_type": "markdown",
      "metadata": {
        "id": "rATAGmcpGDrC",
        "colab_type": "text"
      },
      "source": [
        "##### Helpers"
      ]
    },
    {
      "cell_type": "code",
      "metadata": {
        "id": "4EGw6sS8F_NG",
        "colab_type": "code",
        "colab": {}
      },
      "source": [
        "import numpy as np\n",
        "import pandas as pd\n",
        "import seaborn as sns"
      ],
      "execution_count": 0,
      "outputs": []
    },
    {
      "cell_type": "markdown",
      "metadata": {
        "id": "QrmzFSDTEnsW",
        "colab_type": "text"
      },
      "source": [
        "### Naive Dataset 1\n",
        "\n",
        "We will generate a naive dataset that consists of rows of tuples in the following format: $(id_1, id_2, amt, des)$\n",
        "\n",
        "Where: \n",
        "- $id_1$ is the sender\n",
        "- $id_2$ is the receiver\n",
        "- $amt$ is the amount transferred\n",
        "- $des$ is a description\n",
        "\n",
        "For purposes of simplicity we will start with $amt = 1$ and $des$ being a random real number from $\\mathbb{R}^{[0,1]}$; $id_1, id_2 \\in \\mathbb{Z}$\n"
      ]
    },
    {
      "cell_type": "code",
      "metadata": {
        "id": "gYWX4ojeJ93y",
        "colab_type": "code",
        "colab": {}
      },
      "source": [
        ""
      ],
      "execution_count": 0,
      "outputs": []
    },
    {
      "cell_type": "code",
      "metadata": {
        "id": "VNfOZ-OcFxad",
        "colab_type": "code",
        "colab": {}
      },
      "source": [
        "class naiveDataSet:\n",
        "  def __init__(self, population = 10, tx = 100):\n",
        "    self.data = pd.DataFrame(data = np.array([np.random.randint(population, size=tx), np.random.randint(population, size=tx), np.ones(tx), np.random.rand(tx)]).T, columns = ['sender', 'receiver', 'amount', 'description'])"
      ],
      "execution_count": 0,
      "outputs": []
    },
    {
      "cell_type": "markdown",
      "metadata": {
        "id": "PIR9ILbWNyR3",
        "colab_type": "text"
      },
      "source": [
        "Visualizing generated dataset"
      ]
    },
    {
      "cell_type": "code",
      "metadata": {
        "id": "R-JpxnKCL9aY",
        "colab_type": "code",
        "outputId": "94781aaf-2d69-436e-b889-5fa5c146c32a",
        "colab": {
          "base_uri": "https://localhost:8080/",
          "height": 419
        }
      },
      "source": [
        "nds = naiveDataSet()\n",
        "nds.data"
      ],
      "execution_count": 3,
      "outputs": [
        {
          "output_type": "execute_result",
          "data": {
            "text/html": [
              "<div>\n",
              "<style scoped>\n",
              "    .dataframe tbody tr th:only-of-type {\n",
              "        vertical-align: middle;\n",
              "    }\n",
              "\n",
              "    .dataframe tbody tr th {\n",
              "        vertical-align: top;\n",
              "    }\n",
              "\n",
              "    .dataframe thead th {\n",
              "        text-align: right;\n",
              "    }\n",
              "</style>\n",
              "<table border=\"1\" class=\"dataframe\">\n",
              "  <thead>\n",
              "    <tr style=\"text-align: right;\">\n",
              "      <th></th>\n",
              "      <th>sender</th>\n",
              "      <th>receiver</th>\n",
              "      <th>amount</th>\n",
              "      <th>description</th>\n",
              "    </tr>\n",
              "  </thead>\n",
              "  <tbody>\n",
              "    <tr>\n",
              "      <th>0</th>\n",
              "      <td>9.0</td>\n",
              "      <td>7.0</td>\n",
              "      <td>1.0</td>\n",
              "      <td>0.305972</td>\n",
              "    </tr>\n",
              "    <tr>\n",
              "      <th>1</th>\n",
              "      <td>6.0</td>\n",
              "      <td>6.0</td>\n",
              "      <td>1.0</td>\n",
              "      <td>0.433605</td>\n",
              "    </tr>\n",
              "    <tr>\n",
              "      <th>2</th>\n",
              "      <td>0.0</td>\n",
              "      <td>4.0</td>\n",
              "      <td>1.0</td>\n",
              "      <td>0.542019</td>\n",
              "    </tr>\n",
              "    <tr>\n",
              "      <th>3</th>\n",
              "      <td>6.0</td>\n",
              "      <td>7.0</td>\n",
              "      <td>1.0</td>\n",
              "      <td>0.277336</td>\n",
              "    </tr>\n",
              "    <tr>\n",
              "      <th>4</th>\n",
              "      <td>0.0</td>\n",
              "      <td>8.0</td>\n",
              "      <td>1.0</td>\n",
              "      <td>0.663758</td>\n",
              "    </tr>\n",
              "    <tr>\n",
              "      <th>...</th>\n",
              "      <td>...</td>\n",
              "      <td>...</td>\n",
              "      <td>...</td>\n",
              "      <td>...</td>\n",
              "    </tr>\n",
              "    <tr>\n",
              "      <th>95</th>\n",
              "      <td>3.0</td>\n",
              "      <td>5.0</td>\n",
              "      <td>1.0</td>\n",
              "      <td>0.608943</td>\n",
              "    </tr>\n",
              "    <tr>\n",
              "      <th>96</th>\n",
              "      <td>5.0</td>\n",
              "      <td>7.0</td>\n",
              "      <td>1.0</td>\n",
              "      <td>0.515223</td>\n",
              "    </tr>\n",
              "    <tr>\n",
              "      <th>97</th>\n",
              "      <td>2.0</td>\n",
              "      <td>7.0</td>\n",
              "      <td>1.0</td>\n",
              "      <td>0.760234</td>\n",
              "    </tr>\n",
              "    <tr>\n",
              "      <th>98</th>\n",
              "      <td>8.0</td>\n",
              "      <td>6.0</td>\n",
              "      <td>1.0</td>\n",
              "      <td>0.266505</td>\n",
              "    </tr>\n",
              "    <tr>\n",
              "      <th>99</th>\n",
              "      <td>5.0</td>\n",
              "      <td>1.0</td>\n",
              "      <td>1.0</td>\n",
              "      <td>0.113060</td>\n",
              "    </tr>\n",
              "  </tbody>\n",
              "</table>\n",
              "<p>100 rows × 4 columns</p>\n",
              "</div>"
            ],
            "text/plain": [
              "    sender  receiver  amount  description\n",
              "0      9.0       7.0     1.0     0.305972\n",
              "1      6.0       6.0     1.0     0.433605\n",
              "2      0.0       4.0     1.0     0.542019\n",
              "3      6.0       7.0     1.0     0.277336\n",
              "4      0.0       8.0     1.0     0.663758\n",
              "..     ...       ...     ...          ...\n",
              "95     3.0       5.0     1.0     0.608943\n",
              "96     5.0       7.0     1.0     0.515223\n",
              "97     2.0       7.0     1.0     0.760234\n",
              "98     8.0       6.0     1.0     0.266505\n",
              "99     5.0       1.0     1.0     0.113060\n",
              "\n",
              "[100 rows x 4 columns]"
            ]
          },
          "metadata": {
            "tags": []
          },
          "execution_count": 3
        }
      ]
    },
    {
      "cell_type": "code",
      "metadata": {
        "id": "FIwYuTBFNwt1",
        "colab_type": "code",
        "outputId": "279140d9-fcb7-4063-a5c2-819048a39576",
        "colab": {
          "base_uri": "https://localhost:8080/",
          "height": 85
        }
      },
      "source": [
        "nds.data.groupby(['sender']).sum().mean()"
      ],
      "execution_count": 4,
      "outputs": [
        {
          "output_type": "execute_result",
          "data": {
            "text/plain": [
              "receiver       47.900000\n",
              "amount         10.000000\n",
              "description     4.891576\n",
              "dtype: float64"
            ]
          },
          "metadata": {
            "tags": []
          },
          "execution_count": 4
        }
      ]
    },
    {
      "cell_type": "code",
      "metadata": {
        "id": "wwaw4oalP2V6",
        "colab_type": "code",
        "colab": {}
      },
      "source": [
        ""
      ],
      "execution_count": 0,
      "outputs": []
    },
    {
      "cell_type": "markdown",
      "metadata": {
        "id": "a8FKHlNwVVXZ",
        "colab_type": "text"
      },
      "source": [
        "### Differential Privacy\n",
        "\n",
        "\n",
        "The fundamental equation of differential privacy is given as: $\\Pr [\\mathcal{K}(D) \\in S] \\le e^\\epsilon \\times \\Pr [ \\mathcal{K} (D') \\in S]$\n",
        "\n"
      ]
    },
    {
      "cell_type": "markdown",
      "metadata": {
        "id": "7yVovCeqXsCF",
        "colab_type": "text"
      },
      "source": [
        "##### Useful References\n"
      ]
    },
    {
      "cell_type": "markdown",
      "metadata": {
        "id": "pIIp31QRX8zb",
        "colab_type": "text"
      },
      "source": [
        "- https://en.wikipedia.org/wiki/Differential_privacy\n",
        "- https://en.wikipedia.org/wiki/Reconstruction_attack\n"
      ]
    },
    {
      "cell_type": "markdown",
      "metadata": {
        "id": "kxZbGXM_RqNi",
        "colab_type": "text"
      },
      "source": [
        "### Local Differential Privacy Example\n",
        "\n",
        "Let's construct a naive POS' dataset where there are two kinds of products, one cheap, one expensive. For some reason, whatever the expensive product is being sold here, clients do not want others to know that they have a pattern in purchasing it. Perhaps the store sells normal day to day groceries, but the expensive product is an alcoholic beverage and a client would not want to be identified as being a frequent purchaser.\n",
        "\n",
        "The rows in this dataset are represented by tuples in the form $(client, amount)$.\n",
        "\n",
        "A statistics agency wants the data by this POS to conduct their analytics but their clients wouldn't appreciate their identities being compromised in this study."
      ]
    },
    {
      "cell_type": "code",
      "metadata": {
        "id": "5YVrS1gYVYCU",
        "colab_type": "code",
        "outputId": "c51ea20e-c95e-4171-ff61-245677a5f3a7",
        "colab": {
          "base_uri": "https://localhost:8080/",
          "height": 374
        }
      },
      "source": [
        "df = nds.data[['sender', 'amount']]\n",
        "idx = df.sample(n = int(len(df) / 5)).sort_index().index\n",
        "\n",
        "df.loc[idx, 'amount'] = 10\n",
        "df.head()"
      ],
      "execution_count": 5,
      "outputs": [
        {
          "output_type": "stream",
          "text": [
            "/usr/local/lib/python3.6/dist-packages/pandas/core/indexing.py:205: SettingWithCopyWarning: \n",
            "A value is trying to be set on a copy of a slice from a DataFrame\n",
            "\n",
            "See the caveats in the documentation: http://pandas.pydata.org/pandas-docs/stable/user_guide/indexing.html#returning-a-view-versus-a-copy\n",
            "  self._setitem_with_indexer(indexer, value)\n",
            "/usr/local/lib/python3.6/dist-packages/ipykernel_launcher.py:4: SettingWithCopyWarning: \n",
            "A value is trying to be set on a copy of a slice from a DataFrame\n",
            "\n",
            "See the caveats in the documentation: http://pandas.pydata.org/pandas-docs/stable/user_guide/indexing.html#returning-a-view-versus-a-copy\n",
            "  after removing the cwd from sys.path.\n"
          ],
          "name": "stderr"
        },
        {
          "output_type": "execute_result",
          "data": {
            "text/html": [
              "<div>\n",
              "<style scoped>\n",
              "    .dataframe tbody tr th:only-of-type {\n",
              "        vertical-align: middle;\n",
              "    }\n",
              "\n",
              "    .dataframe tbody tr th {\n",
              "        vertical-align: top;\n",
              "    }\n",
              "\n",
              "    .dataframe thead th {\n",
              "        text-align: right;\n",
              "    }\n",
              "</style>\n",
              "<table border=\"1\" class=\"dataframe\">\n",
              "  <thead>\n",
              "    <tr style=\"text-align: right;\">\n",
              "      <th></th>\n",
              "      <th>sender</th>\n",
              "      <th>amount</th>\n",
              "    </tr>\n",
              "  </thead>\n",
              "  <tbody>\n",
              "    <tr>\n",
              "      <th>0</th>\n",
              "      <td>9.0</td>\n",
              "      <td>10.0</td>\n",
              "    </tr>\n",
              "    <tr>\n",
              "      <th>1</th>\n",
              "      <td>6.0</td>\n",
              "      <td>1.0</td>\n",
              "    </tr>\n",
              "    <tr>\n",
              "      <th>2</th>\n",
              "      <td>0.0</td>\n",
              "      <td>1.0</td>\n",
              "    </tr>\n",
              "    <tr>\n",
              "      <th>3</th>\n",
              "      <td>6.0</td>\n",
              "      <td>1.0</td>\n",
              "    </tr>\n",
              "    <tr>\n",
              "      <th>4</th>\n",
              "      <td>0.0</td>\n",
              "      <td>1.0</td>\n",
              "    </tr>\n",
              "  </tbody>\n",
              "</table>\n",
              "</div>"
            ],
            "text/plain": [
              "   sender  amount\n",
              "0     9.0    10.0\n",
              "1     6.0     1.0\n",
              "2     0.0     1.0\n",
              "3     6.0     1.0\n",
              "4     0.0     1.0"
            ]
          },
          "metadata": {
            "tags": []
          },
          "execution_count": 5
        }
      ]
    },
    {
      "cell_type": "code",
      "metadata": {
        "id": "XXDUFC_-O8pX",
        "colab_type": "code",
        "outputId": "03437cf1-6407-4488-a276-77ee8b882d4e",
        "colab": {
          "base_uri": "https://localhost:8080/",
          "height": 315
        }
      },
      "source": [
        "df.groupby('sender').sum().hist()"
      ],
      "execution_count": 6,
      "outputs": [
        {
          "output_type": "execute_result",
          "data": {
            "text/plain": [
              "array([[<matplotlib.axes._subplots.AxesSubplot object at 0x7f05778972e8>]],\n",
              "      dtype=object)"
            ]
          },
          "metadata": {
            "tags": []
          },
          "execution_count": 6
        },
        {
          "output_type": "display_data",
          "data": {
            "image/png": "[encoded data removed]",
            "text/plain": [
              "<Figure size 432x288 with 1 Axes>"
            ]
          },
          "metadata": {
            "tags": []
          }
        }
      ]
    },
    {
      "cell_type": "code",
      "metadata": {
        "id": "uEkO0T0CPK5e",
        "colab_type": "code",
        "outputId": "f3e80c69-3b6e-481d-cf25-78836066dac5",
        "colab": {
          "base_uri": "https://localhost:8080/",
          "height": 302
        }
      },
      "source": [
        "df.groupby('sender').sum().plot.bar()"
      ],
      "execution_count": 7,
      "outputs": [
        {
          "output_type": "execute_result",
          "data": {
            "text/plain": [
              "<matplotlib.axes._subplots.AxesSubplot at 0x7f0577302828>"
            ]
          },
          "metadata": {
            "tags": []
          },
          "execution_count": 7
        },
        {
          "output_type": "display_data",
          "data": {
            "image/png": "[encoded data removed]",
            "text/plain": [
              "<Figure size 432x288 with 1 Axes>"
            ]
          },
          "metadata": {
            "tags": []
          }
        }
      ]
    },
    {
      "cell_type": "code",
      "metadata": {
        "id": "XS-oOur7T2fq",
        "colab_type": "code",
        "outputId": "9c0570c2-0d46-46fe-9121-0f361bd0f5d6",
        "colab": {
          "base_uri": "https://localhost:8080/",
          "height": 68
        }
      },
      "source": [
        "df.mean()"
      ],
      "execution_count": 8,
      "outputs": [
        {
          "output_type": "execute_result",
          "data": {
            "text/plain": [
              "sender    4.62\n",
              "amount    2.80\n",
              "dtype: float64"
            ]
          },
          "metadata": {
            "tags": []
          },
          "execution_count": 8
        }
      ]
    },
    {
      "cell_type": "markdown",
      "metadata": {
        "id": "_NZsOlbwP1NF",
        "colab_type": "text"
      },
      "source": [
        "#### Randomized Response Mechanism\n",
        "\n"
      ]
    },
    {
      "cell_type": "code",
      "metadata": {
        "id": "Vm80lm-zPuGi",
        "colab_type": "code",
        "colab": {}
      },
      "source": [
        "\n",
        "ndf = df.sort_index()\n",
        "idx = ndf.sample(n = int(len(ndf) / 2)).sort_index().index\n",
        "\n",
        "def randResponse(a, p):\n",
        "  if np.random.rand() < p:\n",
        "    if np.random.rand() < 0.5:\n",
        "      return 1\n",
        "    else:\n",
        "      return 10\n",
        "  else:\n",
        "    return a\n",
        "\n",
        "ndf.loc[idx, 'amount'] = ndf.loc[idx, 'amount'].apply(lambda x: randResponse(x, 0.1))"
      ],
      "execution_count": 0,
      "outputs": []
    },
    {
      "cell_type": "code",
      "metadata": {
        "id": "woXdczy5TAYh",
        "colab_type": "code",
        "outputId": "c5ed6ce5-efb1-4366-b64c-c163c67c6269",
        "colab": {
          "base_uri": "https://localhost:8080/",
          "height": 315
        }
      },
      "source": [
        "ndf.groupby('sender').sum().hist()"
      ],
      "execution_count": 10,
      "outputs": [
        {
          "output_type": "execute_result",
          "data": {
            "text/plain": [
              "array([[<matplotlib.axes._subplots.AxesSubplot object at 0x7f057723c080>]],\n",
              "      dtype=object)"
            ]
          },
          "metadata": {
            "tags": []
          },
          "execution_count": 10
        },
        {
          "output_type": "display_data",
          "data": {
            "image/png": "[encoded data removed]",
            "text/plain": [
              "<Figure size 432x288 with 1 Axes>"
            ]
          },
          "metadata": {
            "tags": []
          }
        }
      ]
    },
    {
      "cell_type": "code",
      "metadata": {
        "id": "oXy8KCp0TGe6",
        "colab_type": "code",
        "outputId": "519ea6dc-07fe-4b5e-b77a-fc4b204c48d3",
        "colab": {
          "base_uri": "https://localhost:8080/",
          "height": 302
        }
      },
      "source": [
        "ndf.groupby('sender').sum().plot.bar()"
      ],
      "execution_count": 11,
      "outputs": [
        {
          "output_type": "execute_result",
          "data": {
            "text/plain": [
              "<matplotlib.axes._subplots.AxesSubplot at 0x7f05771ad048>"
            ]
          },
          "metadata": {
            "tags": []
          },
          "execution_count": 11
        },
        {
          "output_type": "display_data",
          "data": {
            "image/png": "[encoded data removed]",
            "text/plain": [
              "<Figure size 432x288 with 1 Axes>"
            ]
          },
          "metadata": {
            "tags": []
          }
        }
      ]
    },
    {
      "cell_type": "code",
      "metadata": {
        "id": "iIgSeaOlT6eX",
        "colab_type": "code",
        "outputId": "59db0264-0a63-4470-ecf6-77f5254ab15c",
        "colab": {
          "base_uri": "https://localhost:8080/",
          "height": 68
        }
      },
      "source": [
        "ndf.mean()"
      ],
      "execution_count": 12,
      "outputs": [
        {
          "output_type": "execute_result",
          "data": {
            "text/plain": [
              "sender    4.62\n",
              "amount    2.98\n",
              "dtype: float64"
            ]
          },
          "metadata": {
            "tags": []
          },
          "execution_count": 12
        }
      ]
    },
    {
      "cell_type": "code",
      "metadata": {
        "id": "c8-g5eUEshmN",
        "colab_type": "code",
        "colab": {
          "base_uri": "https://localhost:8080/",
          "height": 315
        },
        "outputId": "bb871917-8b0d-46b1-8601-25ebccf4a307"
      },
      "source": [
        "import matplotlib.pyplot as plt\n",
        "fig = plt.figure()\n",
        "\n",
        "# Divide the figure into a 1x2 grid, and give me the first section\n",
        "ax1 = fig.add_subplot(121)\n",
        "\n",
        "# Divide the figure into a 1x2 grid, and give me the second section\n",
        "ax2 = fig.add_subplot(122)\n",
        "\n",
        "df.groupby('sender').sum().hist(ax = ax1)\n",
        "ndf.groupby('sender').sum().hist(ax = ax2)"
      ],
      "execution_count": 18,
      "outputs": [
        {
          "output_type": "execute_result",
          "data": {
            "text/plain": [
              "array([<matplotlib.axes._subplots.AxesSubplot object at 0x7f0576f9e4a8>],\n",
              "      dtype=object)"
            ]
          },
          "metadata": {
            "tags": []
          },
          "execution_count": 18
        },
        {
          "output_type": "display_data",
          "data": {
            "image/png": "[encoded data removed]",
            "text/plain": [
              "<Figure size 432x288 with 2 Axes>"
            ]
          },
          "metadata": {
            "tags": []
          }
        }
      ]
    },
    {
      "cell_type": "markdown",
      "metadata": {
        "id": "J3cG05rUEZpR",
        "colab_type": "text"
      },
      "source": [
        "### Homomorphic Encryption"
      ]
    },
    {
      "cell_type": "markdown",
      "metadata": {
        "id": "cLJMNVx3RUwF",
        "colab_type": "text"
      },
      "source": [
        "### [Paillier Cryptosystem](https://en.wikipedia.org/wiki/Paillier_cryptosystem)"
      ]
    },
    {
      "cell_type": "code",
      "metadata": {
        "id": "IfuEHEJbyadp",
        "colab_type": "code",
        "outputId": "6c06ab33-258f-4a94-a7a1-afdef6e3403d",
        "colab": {
          "base_uri": "https://localhost:8080/",
          "height": 34
        }
      },
      "source": [
        "%%bash\n",
        "git clone https://github.com/n1analytics/python-paillier"
      ],
      "execution_count": 14,
      "outputs": [
        {
          "output_type": "stream",
          "text": [
            "Cloning into 'python-paillier'...\n"
          ],
          "name": "stderr"
        }
      ]
    },
    {
      "cell_type": "code",
      "metadata": {
        "id": "3C44kNtmXMhn",
        "colab_type": "code",
        "outputId": "8cb2bddc-2b88-4f0d-f3fa-c14a21e99940",
        "colab": {
          "base_uri": "https://localhost:8080/",
          "height": 153
        }
      },
      "source": [
        "%%bash\n",
        "python python-paillier/setup.py"
      ],
      "execution_count": 15,
      "outputs": [
        {
          "output_type": "stream",
          "text": [
            "/usr/local/lib/python3.6/dist-packages/setuptools/dist.py:475: UserWarning: Normalizing '1.4.1-dev0' to '1.4.1.dev0'\n",
            "  normalized_version,\n",
            "usage: setup.py [global_opts] cmd1 [cmd1_opts] [cmd2 [cmd2_opts] ...]\n",
            "   or: setup.py --help [cmd1 cmd2 ...]\n",
            "   or: setup.py --help-commands\n",
            "   or: setup.py cmd --help\n",
            "\n",
            "error: no commands supplied\n"
          ],
          "name": "stderr"
        }
      ]
    }
  ]
}