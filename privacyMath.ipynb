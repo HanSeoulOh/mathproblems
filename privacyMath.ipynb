{
  "nbformat": 4,
  "nbformat_minor": 0,
  "metadata": {
    "colab": {
      "name": "privacyMath.ipynb",
      "provenance": [],
      "include_colab_link": true
    },
    "kernelspec": {
      "name": "python3",
      "display_name": "Python 3"
    }
  },
  "cells": [
    {
      "cell_type": "markdown",
      "metadata": {
        "id": "view-in-github",
        "colab_type": "text"
      },
      "source": [
        "<a href=\"https://colab.research.google.com/github/HanSeoulOh/mathproblems/blob/master/privacyMath.ipynb\" target=\"_parent\"><img src=\"https://colab.research.google.com/assets/colab-badge.svg\" alt=\"Open In Colab\"/></a>"
      ]
    },
    {
      "cell_type": "markdown",
      "metadata": {
        "id": "Mja5VKLHERHC",
        "colab_type": "text"
      },
      "source": [
        "# Analysis of Privacy Techniques\n",
        "\n",
        "The purpose of this notebook is to analyze the performance of various privacy techniques."
      ]
    },
    {
      "cell_type": "markdown",
      "metadata": {
        "id": "rATAGmcpGDrC",
        "colab_type": "text"
      },
      "source": [
        "##### Helpers"
      ]
    },
    {
      "cell_type": "code",
      "metadata": {
        "id": "4EGw6sS8F_NG",
        "colab_type": "code",
        "colab": {}
      },
      "source": [
        "import numpy as np\n",
        "import pandas as pd\n",
        "import seaborn as sns"
      ],
      "execution_count": 0,
      "outputs": []
    },
    {
      "cell_type": "markdown",
      "metadata": {
        "id": "QrmzFSDTEnsW",
        "colab_type": "text"
      },
      "source": [
        "### Naive Dataset 1\n",
        "\n",
        "We will generate a naive dataset that consists of rows of tuples in the following format: $(id_1, id_2, amt, des)$\n",
        "\n",
        "Where: \n",
        "- $id_1$ is the sender\n",
        "- $id_2$ is the receiver\n",
        "- $amt$ is the amount transferred\n",
        "- $des$ is a description\n",
        "\n",
        "For purposes of simplicity we will start with $amt = 1$ and $des$ being a random real number from $\\mathbb{R}^{[0,1]}$; $id_1, id_2 \\in \\mathbb{Z}$\n"
      ]
    },
    {
      "cell_type": "code",
      "metadata": {
        "id": "gYWX4ojeJ93y",
        "colab_type": "code",
        "colab": {
          "base_uri": "https://localhost:8080/",
          "height": 289
        },
        "outputId": "1eed1c7d-f761-475a-82a8-794da4f7ab0a"
      },
      "source": [
        ""
      ],
      "execution_count": 6,
      "outputs": [
        {
          "output_type": "execute_result",
          "data": {
            "text/plain": [
              "array([[491, 790, 468, 850, 584, 875, 173, 193, 432, 955, 331, 914, 825,\n",
              "        707, 201, 141, 328, 239, 747,  95, 618, 570, 882, 203, 209, 521,\n",
              "        824, 128, 662, 268, 167, 803, 596, 650, 256, 683, 395, 782, 484,\n",
              "        245, 734, 387, 486, 424, 543, 119, 436,  60, 447,   4, 876, 889,\n",
              "        619, 375, 559, 464, 497, 121, 362,  43,   9, 851, 584,  62, 649,\n",
              "        314, 144, 834, 889, 101, 685, 483,   0, 237, 233, 350, 833, 455,\n",
              "        308, 233, 216,  74, 230, 281, 923, 737, 198, 131, 570, 198, 603,\n",
              "        497,  49, 385, 208, 641, 363,  49, 641, 930],\n",
              "       [302, 710, 349, 389, 232,   7, 128, 349, 474, 705, 665, 809, 876,\n",
              "        791, 250, 253, 322, 219, 379, 721, 124, 396, 617, 855, 893, 116,\n",
              "        767, 355, 665, 176, 138, 335, 799, 315, 147, 688, 801, 382, 574,\n",
              "        398, 334, 184, 405, 990, 137, 571, 202, 146, 666,  91, 180, 870,\n",
              "         15, 149, 560, 499, 865, 613, 674, 607, 606,  78, 188, 678, 820,\n",
              "        222, 218, 949, 780, 271, 344, 431, 535, 535, 815, 968, 409, 781,\n",
              "        270, 499, 153, 378, 662, 522, 756, 798, 399, 336, 335, 381, 228,\n",
              "        586, 253, 380, 670, 349, 335, 170, 442, 468]])"
            ]
          },
          "metadata": {
            "tags": []
          },
          "execution_count": 6
        }
      ]
    },
    {
      "cell_type": "code",
      "metadata": {
        "id": "VNfOZ-OcFxad",
        "colab_type": "code",
        "colab": {}
      },
      "source": [
        "class naiveDataSet:\n",
        "  def __init__(self, population = 1000, tx = 3000):\n",
        "    self.data = pd.DataFrame(data = np.array([np.random.randint(population, size=tx), np.random.randint(population, size=tx), np.ones(tx), np.random.rand(tx)]).T, columns = ['sender', 'receiver', 'amount', 'description'])"
      ],
      "execution_count": 0,
      "outputs": []
    },
    {
      "cell_type": "markdown",
      "metadata": {
        "id": "PIR9ILbWNyR3",
        "colab_type": "text"
      },
      "source": [
        "Visualizing generated dataset"
      ]
    },
    {
      "cell_type": "code",
      "metadata": {
        "id": "R-JpxnKCL9aY",
        "colab_type": "code",
        "colab": {
          "base_uri": "https://localhost:8080/",
          "height": 204
        },
        "outputId": "b6ba11f4-e5bf-49e9-ec3d-440dee9ae8c3"
      },
      "source": [
        "nds = naiveDataSet()\n",
        "nds.data.head()"
      ],
      "execution_count": 73,
      "outputs": [
        {
          "output_type": "execute_result",
          "data": {
            "text/html": [
              "<div>\n",
              "<style scoped>\n",
              "    .dataframe tbody tr th:only-of-type {\n",
              "        vertical-align: middle;\n",
              "    }\n",
              "\n",
              "    .dataframe tbody tr th {\n",
              "        vertical-align: top;\n",
              "    }\n",
              "\n",
              "    .dataframe thead th {\n",
              "        text-align: right;\n",
              "    }\n",
              "</style>\n",
              "<table border=\"1\" class=\"dataframe\">\n",
              "  <thead>\n",
              "    <tr style=\"text-align: right;\">\n",
              "      <th></th>\n",
              "      <th>sender</th>\n",
              "      <th>receiver</th>\n",
              "      <th>amount</th>\n",
              "      <th>description</th>\n",
              "    </tr>\n",
              "  </thead>\n",
              "  <tbody>\n",
              "    <tr>\n",
              "      <th>0</th>\n",
              "      <td>513.0</td>\n",
              "      <td>284.0</td>\n",
              "      <td>1.0</td>\n",
              "      <td>0.718012</td>\n",
              "    </tr>\n",
              "    <tr>\n",
              "      <th>1</th>\n",
              "      <td>151.0</td>\n",
              "      <td>724.0</td>\n",
              "      <td>1.0</td>\n",
              "      <td>0.352845</td>\n",
              "    </tr>\n",
              "    <tr>\n",
              "      <th>2</th>\n",
              "      <td>466.0</td>\n",
              "      <td>885.0</td>\n",
              "      <td>1.0</td>\n",
              "      <td>0.513737</td>\n",
              "    </tr>\n",
              "    <tr>\n",
              "      <th>3</th>\n",
              "      <td>311.0</td>\n",
              "      <td>693.0</td>\n",
              "      <td>1.0</td>\n",
              "      <td>0.417908</td>\n",
              "    </tr>\n",
              "    <tr>\n",
              "      <th>4</th>\n",
              "      <td>646.0</td>\n",
              "      <td>626.0</td>\n",
              "      <td>1.0</td>\n",
              "      <td>0.165068</td>\n",
              "    </tr>\n",
              "  </tbody>\n",
              "</table>\n",
              "</div>"
            ],
            "text/plain": [
              "   sender  receiver  amount  description\n",
              "0   513.0     284.0     1.0     0.718012\n",
              "1   151.0     724.0     1.0     0.352845\n",
              "2   466.0     885.0     1.0     0.513737\n",
              "3   311.0     693.0     1.0     0.417908\n",
              "4   646.0     626.0     1.0     0.165068"
            ]
          },
          "metadata": {
            "tags": []
          },
          "execution_count": 73
        }
      ]
    },
    {
      "cell_type": "code",
      "metadata": {
        "id": "FIwYuTBFNwt1",
        "colab_type": "code",
        "colab": {
          "base_uri": "https://localhost:8080/",
          "height": 85
        },
        "outputId": "dbe7ec91-a87c-491a-f201-22264808df97"
      },
      "source": [
        "nds.data.groupby(['sender']).sum().mean()"
      ],
      "execution_count": 77,
      "outputs": [
        {
          "output_type": "execute_result",
          "data": {
            "text/plain": [
              "receiver       1574.314286\n",
              "amount            3.174603\n",
              "description       1.587842\n",
              "dtype: float64"
            ]
          },
          "metadata": {
            "tags": []
          },
          "execution_count": 77
        }
      ]
    },
    {
      "cell_type": "code",
      "metadata": {
        "id": "wwaw4oalP2V6",
        "colab_type": "code",
        "colab": {}
      },
      "source": [
        ""
      ],
      "execution_count": 0,
      "outputs": []
    },
    {
      "cell_type": "markdown",
      "metadata": {
        "id": "J3cG05rUEZpR",
        "colab_type": "text"
      },
      "source": [
        "### Homomorphic Encryption"
      ]
    },
    {
      "cell_type": "markdown",
      "metadata": {
        "id": "cLJMNVx3RUwF",
        "colab_type": "text"
      },
      "source": [
        "### [Paillier Cryptosystem](https://en.wikipedia.org/wiki/Paillier_cryptosystem)"
      ]
    },
    {
      "cell_type": "code",
      "metadata": {
        "id": "IfuEHEJbyadp",
        "colab_type": "code",
        "colab": {
          "base_uri": "https://localhost:8080/",
          "height": 419
        },
        "outputId": "02f282a7-15c4-4d16-8b07-4bac738fde2e"
      },
      "source": [
        ""
      ],
      "execution_count": 42,
      "outputs": [
        {
          "output_type": "execute_result",
          "data": {
            "text/html": [
              "<div>\n",
              "<style scoped>\n",
              "    .dataframe tbody tr th:only-of-type {\n",
              "        vertical-align: middle;\n",
              "    }\n",
              "\n",
              "    .dataframe tbody tr th {\n",
              "        vertical-align: top;\n",
              "    }\n",
              "\n",
              "    .dataframe thead th {\n",
              "        text-align: right;\n",
              "    }\n",
              "</style>\n",
              "<table border=\"1\" class=\"dataframe\">\n",
              "  <thead>\n",
              "    <tr style=\"text-align: right;\">\n",
              "      <th></th>\n",
              "      <th>sender</th>\n",
              "      <th>receiver</th>\n",
              "      <th>amount</th>\n",
              "      <th>description</th>\n",
              "    </tr>\n",
              "  </thead>\n",
              "  <tbody>\n",
              "    <tr>\n",
              "      <th>0</th>\n",
              "      <td>134.0</td>\n",
              "      <td>606.0</td>\n",
              "      <td>1.0</td>\n",
              "      <td>0.985679</td>\n",
              "    </tr>\n",
              "    <tr>\n",
              "      <th>1</th>\n",
              "      <td>421.0</td>\n",
              "      <td>399.0</td>\n",
              "      <td>1.0</td>\n",
              "      <td>0.947905</td>\n",
              "    </tr>\n",
              "    <tr>\n",
              "      <th>2</th>\n",
              "      <td>671.0</td>\n",
              "      <td>400.0</td>\n",
              "      <td>1.0</td>\n",
              "      <td>0.260391</td>\n",
              "    </tr>\n",
              "    <tr>\n",
              "      <th>3</th>\n",
              "      <td>587.0</td>\n",
              "      <td>702.0</td>\n",
              "      <td>1.0</td>\n",
              "      <td>0.929521</td>\n",
              "    </tr>\n",
              "    <tr>\n",
              "      <th>4</th>\n",
              "      <td>815.0</td>\n",
              "      <td>443.0</td>\n",
              "      <td>1.0</td>\n",
              "      <td>0.946756</td>\n",
              "    </tr>\n",
              "    <tr>\n",
              "      <th>...</th>\n",
              "      <td>...</td>\n",
              "      <td>...</td>\n",
              "      <td>...</td>\n",
              "      <td>...</td>\n",
              "    </tr>\n",
              "    <tr>\n",
              "      <th>9995</th>\n",
              "      <td>555.0</td>\n",
              "      <td>19.0</td>\n",
              "      <td>1.0</td>\n",
              "      <td>0.205084</td>\n",
              "    </tr>\n",
              "    <tr>\n",
              "      <th>9996</th>\n",
              "      <td>578.0</td>\n",
              "      <td>854.0</td>\n",
              "      <td>1.0</td>\n",
              "      <td>0.061327</td>\n",
              "    </tr>\n",
              "    <tr>\n",
              "      <th>9997</th>\n",
              "      <td>772.0</td>\n",
              "      <td>325.0</td>\n",
              "      <td>1.0</td>\n",
              "      <td>0.896216</td>\n",
              "    </tr>\n",
              "    <tr>\n",
              "      <th>9998</th>\n",
              "      <td>711.0</td>\n",
              "      <td>472.0</td>\n",
              "      <td>1.0</td>\n",
              "      <td>0.054223</td>\n",
              "    </tr>\n",
              "    <tr>\n",
              "      <th>9999</th>\n",
              "      <td>291.0</td>\n",
              "      <td>456.0</td>\n",
              "      <td>1.0</td>\n",
              "      <td>0.673011</td>\n",
              "    </tr>\n",
              "  </tbody>\n",
              "</table>\n",
              "<p>10000 rows × 4 columns</p>\n",
              "</div>"
            ],
            "text/plain": [
              "      sender  receiver  amount  description\n",
              "0      134.0     606.0     1.0     0.985679\n",
              "1      421.0     399.0     1.0     0.947905\n",
              "2      671.0     400.0     1.0     0.260391\n",
              "3      587.0     702.0     1.0     0.929521\n",
              "4      815.0     443.0     1.0     0.946756\n",
              "...      ...       ...     ...          ...\n",
              "9995   555.0      19.0     1.0     0.205084\n",
              "9996   578.0     854.0     1.0     0.061327\n",
              "9997   772.0     325.0     1.0     0.896216\n",
              "9998   711.0     472.0     1.0     0.054223\n",
              "9999   291.0     456.0     1.0     0.673011\n",
              "\n",
              "[10000 rows x 4 columns]"
            ]
          },
          "metadata": {
            "tags": []
          },
          "execution_count": 42
        }
      ]
    }
  ]
}