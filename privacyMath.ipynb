{
  "nbformat": 4,
  "nbformat_minor": 0,
  "metadata": {
    "colab": {
      "name": "privacyMath.ipynb",
      "provenance": [],
      "include_colab_link": true
    },
    "kernelspec": {
      "name": "python3",
      "display_name": "Python 3"
    }
  },
  "cells": [
    {
      "cell_type": "markdown",
      "metadata": {
        "id": "view-in-github",
        "colab_type": "text"
      },
      "source": [
        "<a href=\"https://colab.research.google.com/github/HanSeoulOh/mathproblems/blob/master/privacyMath.ipynb\" target=\"_parent\"><img src=\"https://colab.research.google.com/assets/colab-badge.svg\" alt=\"Open In Colab\"/></a>"
      ]
    },
    {
      "cell_type": "markdown",
      "metadata": {
        "id": "Mja5VKLHERHC",
        "colab_type": "text"
      },
      "source": [
        "# Analysis of Privacy Techniques\n",
        "\n",
        "The purpose of this notebook is to analyze the performance of various privacy techniques."
      ]
    },
    {
      "cell_type": "markdown",
      "metadata": {
        "id": "rATAGmcpGDrC",
        "colab_type": "text"
      },
      "source": [
        "##### Helpers"
      ]
    },
    {
      "cell_type": "code",
      "metadata": {
        "id": "4EGw6sS8F_NG",
        "colab_type": "code",
        "colab": {}
      },
      "source": [
        "import numpy as np\n",
        "import pandas as pd\n",
        "import seaborn as sns"
      ],
      "execution_count": 0,
      "outputs": []
    },
    {
      "cell_type": "markdown",
      "metadata": {
        "id": "QrmzFSDTEnsW",
        "colab_type": "text"
      },
      "source": [
        "### Naive Dataset 1\n",
        "\n",
        "We will generate a naive dataset that consists of rows of tuples in the following format: $(id_1, id_2, amt, des)$\n",
        "\n",
        "Where: \n",
        "- $id_1$ is the sender\n",
        "- $id_2$ is the receiver\n",
        "- $amt$ is the amount transferred\n",
        "- $des$ is a description\n",
        "\n",
        "For purposes of simplicity we will start with $amt = 1$ and $des$ being a random real number from $\\mathbb{R}^{[0,1]}$; $id_1, id_2 \\in \\mathbb{Z}$\n"
      ]
    },
    {
      "cell_type": "code",
      "metadata": {
        "id": "gYWX4ojeJ93y",
        "colab_type": "code",
        "outputId": "1eed1c7d-f761-475a-82a8-794da4f7ab0a",
        "colab": {
          "base_uri": "https://localhost:8080/",
          "height": 289
        }
      },
      "source": [
        ""
      ],
      "execution_count": 0,
      "outputs": [
        {
          "output_type": "execute_result",
          "data": {
            "text/plain": [
              "array([[491, 790, 468, 850, 584, 875, 173, 193, 432, 955, 331, 914, 825,\n",
              "        707, 201, 141, 328, 239, 747,  95, 618, 570, 882, 203, 209, 521,\n",
              "        824, 128, 662, 268, 167, 803, 596, 650, 256, 683, 395, 782, 484,\n",
              "        245, 734, 387, 486, 424, 543, 119, 436,  60, 447,   4, 876, 889,\n",
              "        619, 375, 559, 464, 497, 121, 362,  43,   9, 851, 584,  62, 649,\n",
              "        314, 144, 834, 889, 101, 685, 483,   0, 237, 233, 350, 833, 455,\n",
              "        308, 233, 216,  74, 230, 281, 923, 737, 198, 131, 570, 198, 603,\n",
              "        497,  49, 385, 208, 641, 363,  49, 641, 930],\n",
              "       [302, 710, 349, 389, 232,   7, 128, 349, 474, 705, 665, 809, 876,\n",
              "        791, 250, 253, 322, 219, 379, 721, 124, 396, 617, 855, 893, 116,\n",
              "        767, 355, 665, 176, 138, 335, 799, 315, 147, 688, 801, 382, 574,\n",
              "        398, 334, 184, 405, 990, 137, 571, 202, 146, 666,  91, 180, 870,\n",
              "         15, 149, 560, 499, 865, 613, 674, 607, 606,  78, 188, 678, 820,\n",
              "        222, 218, 949, 780, 271, 344, 431, 535, 535, 815, 968, 409, 781,\n",
              "        270, 499, 153, 378, 662, 522, 756, 798, 399, 336, 335, 381, 228,\n",
              "        586, 253, 380, 670, 349, 335, 170, 442, 468]])"
            ]
          },
          "metadata": {
            "tags": []
          },
          "execution_count": 6
        }
      ]
    },
    {
      "cell_type": "code",
      "metadata": {
        "id": "VNfOZ-OcFxad",
        "colab_type": "code",
        "colab": {}
      },
      "source": [
        "class naiveDataSet:\n",
        "  def __init__(self, population = 10, tx = 100):\n",
        "    self.data = pd.DataFrame(data = np.array([np.random.randint(population, size=tx), np.random.randint(population, size=tx), np.ones(tx), np.random.rand(tx)]).T, columns = ['sender', 'receiver', 'amount', 'description'])"
      ],
      "execution_count": 0,
      "outputs": []
    },
    {
      "cell_type": "markdown",
      "metadata": {
        "id": "PIR9ILbWNyR3",
        "colab_type": "text"
      },
      "source": [
        "Visualizing generated dataset"
      ]
    },
    {
      "cell_type": "code",
      "metadata": {
        "id": "R-JpxnKCL9aY",
        "colab_type": "code",
        "outputId": "0c70c6b0-f205-421d-ff73-5d3911f9f51f",
        "colab": {
          "base_uri": "https://localhost:8080/",
          "height": 423
        }
      },
      "source": [
        "nds = naiveDataSet()\n",
        "nds.data"
      ],
      "execution_count": 20,
      "outputs": [
        {
          "output_type": "execute_result",
          "data": {
            "text/html": [
              "<div>\n",
              "<style scoped>\n",
              "    .dataframe tbody tr th:only-of-type {\n",
              "        vertical-align: middle;\n",
              "    }\n",
              "\n",
              "    .dataframe tbody tr th {\n",
              "        vertical-align: top;\n",
              "    }\n",
              "\n",
              "    .dataframe thead th {\n",
              "        text-align: right;\n",
              "    }\n",
              "</style>\n",
              "<table border=\"1\" class=\"dataframe\">\n",
              "  <thead>\n",
              "    <tr style=\"text-align: right;\">\n",
              "      <th></th>\n",
              "      <th>sender</th>\n",
              "      <th>receiver</th>\n",
              "      <th>amount</th>\n",
              "      <th>description</th>\n",
              "    </tr>\n",
              "  </thead>\n",
              "  <tbody>\n",
              "    <tr>\n",
              "      <th>0</th>\n",
              "      <td>5.0</td>\n",
              "      <td>0.0</td>\n",
              "      <td>1.0</td>\n",
              "      <td>0.527113</td>\n",
              "    </tr>\n",
              "    <tr>\n",
              "      <th>1</th>\n",
              "      <td>0.0</td>\n",
              "      <td>5.0</td>\n",
              "      <td>1.0</td>\n",
              "      <td>0.374798</td>\n",
              "    </tr>\n",
              "    <tr>\n",
              "      <th>2</th>\n",
              "      <td>1.0</td>\n",
              "      <td>6.0</td>\n",
              "      <td>1.0</td>\n",
              "      <td>0.120074</td>\n",
              "    </tr>\n",
              "    <tr>\n",
              "      <th>3</th>\n",
              "      <td>3.0</td>\n",
              "      <td>6.0</td>\n",
              "      <td>1.0</td>\n",
              "      <td>0.238060</td>\n",
              "    </tr>\n",
              "    <tr>\n",
              "      <th>4</th>\n",
              "      <td>1.0</td>\n",
              "      <td>0.0</td>\n",
              "      <td>1.0</td>\n",
              "      <td>0.688428</td>\n",
              "    </tr>\n",
              "    <tr>\n",
              "      <th>...</th>\n",
              "      <td>...</td>\n",
              "      <td>...</td>\n",
              "      <td>...</td>\n",
              "      <td>...</td>\n",
              "    </tr>\n",
              "    <tr>\n",
              "      <th>95</th>\n",
              "      <td>6.0</td>\n",
              "      <td>4.0</td>\n",
              "      <td>1.0</td>\n",
              "      <td>0.693834</td>\n",
              "    </tr>\n",
              "    <tr>\n",
              "      <th>96</th>\n",
              "      <td>0.0</td>\n",
              "      <td>3.0</td>\n",
              "      <td>1.0</td>\n",
              "      <td>0.200828</td>\n",
              "    </tr>\n",
              "    <tr>\n",
              "      <th>97</th>\n",
              "      <td>5.0</td>\n",
              "      <td>1.0</td>\n",
              "      <td>1.0</td>\n",
              "      <td>0.289915</td>\n",
              "    </tr>\n",
              "    <tr>\n",
              "      <th>98</th>\n",
              "      <td>8.0</td>\n",
              "      <td>8.0</td>\n",
              "      <td>1.0</td>\n",
              "      <td>0.239960</td>\n",
              "    </tr>\n",
              "    <tr>\n",
              "      <th>99</th>\n",
              "      <td>6.0</td>\n",
              "      <td>6.0</td>\n",
              "      <td>1.0</td>\n",
              "      <td>0.855713</td>\n",
              "    </tr>\n",
              "  </tbody>\n",
              "</table>\n",
              "<p>100 rows × 4 columns</p>\n",
              "</div>"
            ],
            "text/plain": [
              "    sender  receiver  amount  description\n",
              "0      5.0       0.0     1.0     0.527113\n",
              "1      0.0       5.0     1.0     0.374798\n",
              "2      1.0       6.0     1.0     0.120074\n",
              "3      3.0       6.0     1.0     0.238060\n",
              "4      1.0       0.0     1.0     0.688428\n",
              "..     ...       ...     ...          ...\n",
              "95     6.0       4.0     1.0     0.693834\n",
              "96     0.0       3.0     1.0     0.200828\n",
              "97     5.0       1.0     1.0     0.289915\n",
              "98     8.0       8.0     1.0     0.239960\n",
              "99     6.0       6.0     1.0     0.855713\n",
              "\n",
              "[100 rows x 4 columns]"
            ]
          },
          "metadata": {
            "tags": []
          },
          "execution_count": 20
        }
      ]
    },
    {
      "cell_type": "code",
      "metadata": {
        "id": "FIwYuTBFNwt1",
        "colab_type": "code",
        "outputId": "335201fb-c2c6-43a0-f9f0-95fced67afe2",
        "colab": {
          "base_uri": "https://localhost:8080/",
          "height": 92
        }
      },
      "source": [
        "nds.data.groupby(['sender']).sum().mean()"
      ],
      "execution_count": 21,
      "outputs": [
        {
          "output_type": "execute_result",
          "data": {
            "text/plain": [
              "receiver       44.5000\n",
              "amount         10.0000\n",
              "description     4.5516\n",
              "dtype: float64"
            ]
          },
          "metadata": {
            "tags": []
          },
          "execution_count": 21
        }
      ]
    },
    {
      "cell_type": "code",
      "metadata": {
        "id": "wwaw4oalP2V6",
        "colab_type": "code",
        "colab": {}
      },
      "source": [
        ""
      ],
      "execution_count": 0,
      "outputs": []
    },
    {
      "cell_type": "markdown",
      "metadata": {
        "id": "a8FKHlNwVVXZ",
        "colab_type": "text"
      },
      "source": [
        "### Differential Privacy\n",
        "\n",
        "\n",
        "The fundamental equation of differential privacy is given as: $\\Pr [\\mathcal{K}(D) \\in S] \\le e^\\epsilon \\times \\Pr [ \\mathcal{K} (D') \\in S]$\n",
        "\n"
      ]
    },
    {
      "cell_type": "markdown",
      "metadata": {
        "id": "7yVovCeqXsCF",
        "colab_type": "text"
      },
      "source": [
        "##### Useful References\n"
      ]
    },
    {
      "cell_type": "markdown",
      "metadata": {
        "id": "pIIp31QRX8zb",
        "colab_type": "text"
      },
      "source": [
        "- https://en.wikipedia.org/wiki/Differential_privacy\n",
        "- https://en.wikipedia.org/wiki/Reconstruction_attack\n"
      ]
    },
    {
      "cell_type": "markdown",
      "metadata": {
        "id": "kxZbGXM_RqNi",
        "colab_type": "text"
      },
      "source": [
        "### Local Differential Privacy Example\n",
        "\n",
        "Let's construct a naive POS' dataset where there are two kinds of products, one cheap, one expensive. For some reason, whatever the expensive product is being sold here, clients do not want others to know that they have a pattern in purchasing it. Perhaps the store sells normal day to day groceries, but the expensive product is an alcoholic beverage and a client would not want to be identified as being a frequent purchaser.\n",
        "\n",
        "The rows in this dataset are represented by tuples in the form $(client, amount)$.\n",
        "\n",
        "A statistics agency wants the data by this POS to conduct their analytics but their clients wouldn't appreciate their identities being compromised in this study."
      ]
    },
    {
      "cell_type": "code",
      "metadata": {
        "id": "5YVrS1gYVYCU",
        "colab_type": "code",
        "outputId": "35bc9f0b-292f-4779-95d4-ce51fc88d0e1",
        "colab": {
          "base_uri": "https://localhost:8080/",
          "height": 393
        }
      },
      "source": [
        "df = nds.data[['sender', 'amount']]\n",
        "idx = df.sample(n = int(len(df) / 5)).sort_index().index\n",
        "\n",
        "df.loc[idx, 'amount'] = 10\n",
        "df.head()"
      ],
      "execution_count": 31,
      "outputs": [
        {
          "output_type": "stream",
          "text": [
            "/usr/local/lib/python3.6/dist-packages/pandas/core/indexing.py:205: SettingWithCopyWarning: \n",
            "A value is trying to be set on a copy of a slice from a DataFrame\n",
            "\n",
            "See the caveats in the documentation: http://pandas.pydata.org/pandas-docs/stable/user_guide/indexing.html#returning-a-view-versus-a-copy\n",
            "  self._setitem_with_indexer(indexer, value)\n",
            "/usr/local/lib/python3.6/dist-packages/ipykernel_launcher.py:4: SettingWithCopyWarning: \n",
            "A value is trying to be set on a copy of a slice from a DataFrame\n",
            "\n",
            "See the caveats in the documentation: http://pandas.pydata.org/pandas-docs/stable/user_guide/indexing.html#returning-a-view-versus-a-copy\n",
            "  after removing the cwd from sys.path.\n"
          ],
          "name": "stderr"
        },
        {
          "output_type": "execute_result",
          "data": {
            "text/html": [
              "<div>\n",
              "<style scoped>\n",
              "    .dataframe tbody tr th:only-of-type {\n",
              "        vertical-align: middle;\n",
              "    }\n",
              "\n",
              "    .dataframe tbody tr th {\n",
              "        vertical-align: top;\n",
              "    }\n",
              "\n",
              "    .dataframe thead th {\n",
              "        text-align: right;\n",
              "    }\n",
              "</style>\n",
              "<table border=\"1\" class=\"dataframe\">\n",
              "  <thead>\n",
              "    <tr style=\"text-align: right;\">\n",
              "      <th></th>\n",
              "      <th>sender</th>\n",
              "      <th>amount</th>\n",
              "    </tr>\n",
              "  </thead>\n",
              "  <tbody>\n",
              "    <tr>\n",
              "      <th>0</th>\n",
              "      <td>5.0</td>\n",
              "      <td>10.0</td>\n",
              "    </tr>\n",
              "    <tr>\n",
              "      <th>1</th>\n",
              "      <td>0.0</td>\n",
              "      <td>10.0</td>\n",
              "    </tr>\n",
              "    <tr>\n",
              "      <th>2</th>\n",
              "      <td>1.0</td>\n",
              "      <td>1.0</td>\n",
              "    </tr>\n",
              "    <tr>\n",
              "      <th>3</th>\n",
              "      <td>3.0</td>\n",
              "      <td>1.0</td>\n",
              "    </tr>\n",
              "    <tr>\n",
              "      <th>4</th>\n",
              "      <td>1.0</td>\n",
              "      <td>1.0</td>\n",
              "    </tr>\n",
              "  </tbody>\n",
              "</table>\n",
              "</div>"
            ],
            "text/plain": [
              "   sender  amount\n",
              "0     5.0    10.0\n",
              "1     0.0    10.0\n",
              "2     1.0     1.0\n",
              "3     3.0     1.0\n",
              "4     1.0     1.0"
            ]
          },
          "metadata": {
            "tags": []
          },
          "execution_count": 31
        }
      ]
    },
    {
      "cell_type": "code",
      "metadata": {
        "id": "XXDUFC_-O8pX",
        "colab_type": "code",
        "outputId": "b67480c8-9bfa-4ab5-e866-a1658b1664fc",
        "colab": {
          "base_uri": "https://localhost:8080/",
          "height": 318
        }
      },
      "source": [
        "df.groupby('sender').sum().hist()"
      ],
      "execution_count": 32,
      "outputs": [
        {
          "output_type": "execute_result",
          "data": {
            "text/plain": [
              "array([[<matplotlib.axes._subplots.AxesSubplot object at 0x7f5cdde80d30>]],\n",
              "      dtype=object)"
            ]
          },
          "metadata": {
            "tags": []
          },
          "execution_count": 32
        },
        {
          "output_type": "display_data",
          "data": {
            "image/png": "[encoded data removed]",
            "text/plain": [
              "<Figure size 432x288 with 1 Axes>"
            ]
          },
          "metadata": {
            "tags": []
          }
        }
      ]
    },
    {
      "cell_type": "code",
      "metadata": {
        "id": "uEkO0T0CPK5e",
        "colab_type": "code",
        "outputId": "631d6138-07e2-4816-f571-706ed32fd9fe",
        "colab": {
          "base_uri": "https://localhost:8080/",
          "height": 304
        }
      },
      "source": [
        "df.groupby('sender').sum().plot.bar()"
      ],
      "execution_count": 33,
      "outputs": [
        {
          "output_type": "execute_result",
          "data": {
            "text/plain": [
              "<matplotlib.axes._subplots.AxesSubplot at 0x7f5cddd39b70>"
            ]
          },
          "metadata": {
            "tags": []
          },
          "execution_count": 33
        },
        {
          "output_type": "display_data",
          "data": {
            "image/png": "[encoded data removed]",
            "text/plain": [
              "<Figure size 432x288 with 1 Axes>"
            ]
          },
          "metadata": {
            "tags": []
          }
        }
      ]
    },
    {
      "cell_type": "code",
      "metadata": {
        "id": "XS-oOur7T2fq",
        "colab_type": "code",
        "outputId": "bd4197f8-0d64-43d8-ffee-1705b44c6e16",
        "colab": {
          "base_uri": "https://localhost:8080/",
          "height": 73
        }
      },
      "source": [
        "df.mean()"
      ],
      "execution_count": 34,
      "outputs": [
        {
          "output_type": "execute_result",
          "data": {
            "text/plain": [
              "sender    4.14\n",
              "amount    2.80\n",
              "dtype: float64"
            ]
          },
          "metadata": {
            "tags": []
          },
          "execution_count": 34
        }
      ]
    },
    {
      "cell_type": "markdown",
      "metadata": {
        "id": "_NZsOlbwP1NF",
        "colab_type": "text"
      },
      "source": [
        "#### Randomized Response Mechanism\n",
        "\n"
      ]
    },
    {
      "cell_type": "code",
      "metadata": {
        "id": "Vm80lm-zPuGi",
        "colab_type": "code",
        "colab": {}
      },
      "source": [
        "\n",
        "ndf = df.sort_index()\n",
        "idx = ndf.sample(n = int(len(ndf) / 2)).sort_index().index\n",
        "\n",
        "def randResponse(a, p):\n",
        "  if np.random.rand() < p:\n",
        "    if np.random.rand() < 0.5:\n",
        "      return 1\n",
        "    else:\n",
        "      return 10\n",
        "  else:\n",
        "    return a\n",
        "\n",
        "ndf.loc[idx, 'amount'] = ndf.loc[idx, 'amount'].apply(lambda x: randResponse(x, 0.1))"
      ],
      "execution_count": 0,
      "outputs": []
    },
    {
      "cell_type": "code",
      "metadata": {
        "id": "woXdczy5TAYh",
        "colab_type": "code",
        "outputId": "ec4c9ca4-abb2-4ab2-a0ed-b4430f5ed948",
        "colab": {
          "base_uri": "https://localhost:8080/",
          "height": 318
        }
      },
      "source": [
        "ndf.groupby('sender').sum().hist()"
      ],
      "execution_count": 36,
      "outputs": [
        {
          "output_type": "execute_result",
          "data": {
            "text/plain": [
              "array([[<matplotlib.axes._subplots.AxesSubplot object at 0x7f5cddc92cc0>]],\n",
              "      dtype=object)"
            ]
          },
          "metadata": {
            "tags": []
          },
          "execution_count": 36
        },
        {
          "output_type": "display_data",
          "data": {
            "image/png": "[encoded data removed]",
            "text/plain": [
              "<Figure size 432x288 with 1 Axes>"
            ]
          },
          "metadata": {
            "tags": []
          }
        }
      ]
    },
    {
      "cell_type": "code",
      "metadata": {
        "id": "oXy8KCp0TGe6",
        "colab_type": "code",
        "outputId": "4451bc74-2f96-47c4-9400-2600f568c9e7",
        "colab": {
          "base_uri": "https://localhost:8080/",
          "height": 304
        }
      },
      "source": [
        "ndf.groupby('sender').sum().plot.bar()"
      ],
      "execution_count": 37,
      "outputs": [
        {
          "output_type": "execute_result",
          "data": {
            "text/plain": [
              "<matplotlib.axes._subplots.AxesSubplot at 0x7f5cddc41b00>"
            ]
          },
          "metadata": {
            "tags": []
          },
          "execution_count": 37
        },
        {
          "output_type": "display_data",
          "data": {
            "image/png": "[encoded data removed]",
            "text/plain": [
              "<Figure size 432x288 with 1 Axes>"
            ]
          },
          "metadata": {
            "tags": []
          }
        }
      ]
    },
    {
      "cell_type": "code",
      "metadata": {
        "id": "iIgSeaOlT6eX",
        "colab_type": "code",
        "outputId": "6b7cdcbd-3e30-445f-b185-56c31951eaa7",
        "colab": {
          "base_uri": "https://localhost:8080/",
          "height": 73
        }
      },
      "source": [
        "ndf.mean()"
      ],
      "execution_count": 0,
      "outputs": [
        {
          "output_type": "execute_result",
          "data": {
            "text/plain": [
              "sender    4.566667\n",
              "amount    5.200000\n",
              "dtype: float64"
            ]
          },
          "metadata": {
            "tags": []
          },
          "execution_count": 102
        }
      ]
    },
    {
      "cell_type": "markdown",
      "metadata": {
        "id": "J3cG05rUEZpR",
        "colab_type": "text"
      },
      "source": [
        "### Homomorphic Encryption"
      ]
    },
    {
      "cell_type": "markdown",
      "metadata": {
        "id": "cLJMNVx3RUwF",
        "colab_type": "text"
      },
      "source": [
        "### [Paillier Cryptosystem](https://en.wikipedia.org/wiki/Paillier_cryptosystem)"
      ]
    },
    {
      "cell_type": "code",
      "metadata": {
        "id": "IfuEHEJbyadp",
        "colab_type": "code",
        "outputId": "1a54f098-3c9c-4702-e7cc-a60e1994bc93",
        "colab": {
          "base_uri": "https://localhost:8080/",
          "height": 34
        }
      },
      "source": [
        "%%bash\n",
        "git clone https://github.com/n1analytics/python-paillier"
      ],
      "execution_count": 0,
      "outputs": [
        {
          "output_type": "stream",
          "text": [
            "Cloning into 'python-paillier'...\n"
          ],
          "name": "stderr"
        }
      ]
    },
    {
      "cell_type": "code",
      "metadata": {
        "id": "3C44kNtmXMhn",
        "colab_type": "code",
        "outputId": "53021fc7-a395-48cc-c1e5-592d3300ec5e",
        "colab": {
          "base_uri": "https://localhost:8080/",
          "height": 153
        }
      },
      "source": [
        "%%bash\n",
        "python python-paillier/setup.py"
      ],
      "execution_count": 0,
      "outputs": [
        {
          "output_type": "stream",
          "text": [
            "/usr/local/lib/python3.6/dist-packages/setuptools/dist.py:475: UserWarning: Normalizing '1.4.1-dev0' to '1.4.1.dev0'\n",
            "  normalized_version,\n",
            "usage: setup.py [global_opts] cmd1 [cmd1_opts] [cmd2 [cmd2_opts] ...]\n",
            "   or: setup.py --help [cmd1 cmd2 ...]\n",
            "   or: setup.py --help-commands\n",
            "   or: setup.py cmd --help\n",
            "\n",
            "error: no commands supplied\n"
          ],
          "name": "stderr"
        }
      ]
    }
  ]
}